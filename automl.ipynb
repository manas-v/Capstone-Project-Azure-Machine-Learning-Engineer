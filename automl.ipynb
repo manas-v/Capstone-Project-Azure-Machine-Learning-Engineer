{
 "cells": [
  {
   "cell_type": "markdown",
   "metadata": {},
   "source": [
    "\n",
    "# Automated ML"
   ]
  },
  {
   "cell_type": "markdown",
   "metadata": {},
   "source": [
    "### Import Dependencies\n",
    "In the cell below, importing all the dependencies that will be needed to complete the project."
   ]
  },
  {
   "cell_type": "code",
   "execution_count": 1,
   "metadata": {
    "gather": {
     "logged": 1598423888013
    },
    "jupyter": {
     "outputs_hidden": false,
     "source_hidden": false
    },
    "nteract": {
     "transient": {
      "deleting": false
     }
    }
   },
   "outputs": [],
   "source": [
    "import numpy as np\n",
    "import pandas as pd\n",
    "from sklearn import datasets\n",
    "import pkg_resources\n",
    "import azureml.core\n",
    "from azureml.core import Workspace, Experiment\n",
    "from azureml.core.compute import ComputeTarget, AmlCompute\n",
    "from azureml.core.compute_target import ComputeTargetException\n",
    "from azureml.core.dataset import Dataset\n",
    "from azureml.core.environment import Environment\n",
    "from azureml.core.model import InferenceConfig\n",
    "from azureml.core.webservice import AciWebservice, Webservice\n",
    "from azureml.core.model import InferenceConfig, Model\n",
    "from azureml.train.automl import AutoMLConfig\n",
    "from azureml.pipeline.steps import AutoMLStep\n",
    "from azureml.widgets import RunDetails\n",
    "from pprint import pprint\n",
    "import json\n",
    "import requests\n",
    "import logging\n",
    "import os\n",
    "import csv"
   ]
  },
  {
   "cell_type": "markdown",
   "metadata": {},
   "source": [
    "### Overview\n",
    "\n",
    "Attrition has always been a major concern in any organization. The IBM HR Attrition Case Study is a fictional dataset which aims to identify important factors that might be influential in determining which employee might leave the firm and who may not.\n",
    "\n",
    "Dataset link: https://www.kaggle.com/pavansubhasht/ibm-hr-analytics-attrition-dataset\n",
    "\n",
    "The Dataset consists of 35 columns, through which we aim to predict weather an employee will leave the job or not. This is a binary classification problem, where the outcome 'Attrition' will either be 'true' or 'false'. \n",
    "In this experiment we will be using AutoML to find the best prediction for the given Dataset. We will then deploy the model with the best prediction and interact with the deployment."
   ]
  },
  {
   "cell_type": "markdown",
   "metadata": {},
   "source": [
    "### Import Workspace"
   ]
  },
  {
   "cell_type": "code",
   "execution_count": 2,
   "metadata": {
    "gather": {
     "logged": 1598423890461
    },
    "jupyter": {
     "outputs_hidden": false,
     "source_hidden": false
    },
    "nteract": {
     "transient": {
      "deleting": false
     }
    }
   },
   "outputs": [
    {
     "name": "stdout",
     "output_type": "stream",
     "text": [
      "Workspace name: quick-starts-ws-138608\n",
      "Azure region: southcentralus\n",
      "Subscription id: 9a7511b8-150f-4a58-8528-3e7d50216c31\n",
      "Resource group: aml-quickstarts-138608\n"
     ]
    }
   ],
   "source": [
    "ws = Workspace.from_config()\n",
    "\n",
    "print('Workspace name: ' + ws.name, \n",
    "      'Azure region: ' + ws.location, \n",
    "      'Subscription id: ' + ws.subscription_id,\n",
    "      'Resource group: ' + ws.resource_group, sep = '\\n')"
   ]
  },
  {
   "cell_type": "markdown",
   "metadata": {},
   "source": [
    "### Create Experiment"
   ]
  },
  {
   "cell_type": "code",
   "execution_count": 3,
   "metadata": {},
   "outputs": [],
   "source": [
    "# choosing a name for experiment\n",
    "experiment_name = 'capstone-automl'\n",
    "experiment=Experiment(ws, experiment_name)\n",
    "\n",
    "run = experiment.start_logging()"
   ]
  },
  {
   "cell_type": "markdown",
   "metadata": {},
   "source": [
    "### Create Compute Cluster"
   ]
  },
  {
   "cell_type": "code",
   "execution_count": 4,
   "metadata": {},
   "outputs": [
    {
     "name": "stdout",
     "output_type": "stream",
     "text": [
      "Found existing compute target, using it!\n",
      "\n",
      "Running\n",
      "{'errors': [], 'creationTime': '2021-02-11T17:50:41.294287+00:00', 'createdBy': {'userObjectId': '8528587c-835e-4446-87fb-ee3ba202662a', 'userTenantId': '660b3398-b80e-49d2-bc5b-ac1dc93b5254', 'userName': None}, 'modifiedTime': '2021-02-11T17:53:14.698308+00:00', 'state': 'Running', 'vmSize': 'STANDARD_DS3_V2'}\n"
     ]
    }
   ],
   "source": [
    "cluster_name = \"notebook138608\"\n",
    "\n",
    "try:\n",
    "    cpu_cluster = ComputeTarget(workspace=ws, name=cluster_name)\n",
    "    print('Found existing compute target, using it!')\n",
    "except ComputeTargetException:\n",
    "    print('Creating a new compute target!')\n",
    "    compute_config = AmlCompute.provisioning_configuration(vm_size='STANDARD_D2_V2', max_nodes=4)\n",
    "    \n",
    "    # create the cluster\n",
    "    cpu_cluster = ComputeTarget.create(ws, cluster_name, compute_config)\n",
    "    \n",
    "cpu_cluster.wait_for_completion(show_output=True)\n",
    " \n",
    "# Using get_status() to get a detailed status for the current cluster.\n",
    "print(cpu_cluster.get_status().serialize())"
   ]
  },
  {
   "cell_type": "markdown",
   "metadata": {},
   "source": [
    "## Dataset\n",
    "\n",
    "In the cell below, writing code to access the external data that will be used in this project. We are using the IBM HR Analytics Employee Attrition & Performance dataset from Kaggle."
   ]
  },
  {
   "cell_type": "code",
   "execution_count": 5,
   "metadata": {},
   "outputs": [
    {
     "data": {
      "text/html": [
       "<div>\n",
       "<style scoped>\n",
       "    .dataframe tbody tr th:only-of-type {\n",
       "        vertical-align: middle;\n",
       "    }\n",
       "\n",
       "    .dataframe tbody tr th {\n",
       "        vertical-align: top;\n",
       "    }\n",
       "\n",
       "    .dataframe thead th {\n",
       "        text-align: right;\n",
       "    }\n",
       "</style>\n",
       "<table border=\"1\" class=\"dataframe\">\n",
       "  <thead>\n",
       "    <tr style=\"text-align: right;\">\n",
       "      <th></th>\n",
       "      <th>Age</th>\n",
       "      <th>DailyRate</th>\n",
       "      <th>DistanceFromHome</th>\n",
       "      <th>Education</th>\n",
       "      <th>EmployeeCount</th>\n",
       "      <th>EmployeeNumber</th>\n",
       "      <th>EnvironmentSatisfaction</th>\n",
       "      <th>HourlyRate</th>\n",
       "      <th>JobInvolvement</th>\n",
       "      <th>JobLevel</th>\n",
       "      <th>...</th>\n",
       "      <th>RelationshipSatisfaction</th>\n",
       "      <th>StandardHours</th>\n",
       "      <th>StockOptionLevel</th>\n",
       "      <th>TotalWorkingYears</th>\n",
       "      <th>TrainingTimesLastYear</th>\n",
       "      <th>WorkLifeBalance</th>\n",
       "      <th>YearsAtCompany</th>\n",
       "      <th>YearsInCurrentRole</th>\n",
       "      <th>YearsSinceLastPromotion</th>\n",
       "      <th>YearsWithCurrManager</th>\n",
       "    </tr>\n",
       "  </thead>\n",
       "  <tbody>\n",
       "    <tr>\n",
       "      <th>count</th>\n",
       "      <td>1470.000000</td>\n",
       "      <td>1470.000000</td>\n",
       "      <td>1470.000000</td>\n",
       "      <td>1470.000000</td>\n",
       "      <td>1470.0</td>\n",
       "      <td>1470.000000</td>\n",
       "      <td>1470.000000</td>\n",
       "      <td>1470.000000</td>\n",
       "      <td>1470.000000</td>\n",
       "      <td>1470.000000</td>\n",
       "      <td>...</td>\n",
       "      <td>1470.000000</td>\n",
       "      <td>1470.0</td>\n",
       "      <td>1470.000000</td>\n",
       "      <td>1470.000000</td>\n",
       "      <td>1470.000000</td>\n",
       "      <td>1470.000000</td>\n",
       "      <td>1470.000000</td>\n",
       "      <td>1470.000000</td>\n",
       "      <td>1470.000000</td>\n",
       "      <td>1470.000000</td>\n",
       "    </tr>\n",
       "    <tr>\n",
       "      <th>mean</th>\n",
       "      <td>36.923810</td>\n",
       "      <td>802.485714</td>\n",
       "      <td>9.192517</td>\n",
       "      <td>2.912925</td>\n",
       "      <td>1.0</td>\n",
       "      <td>1024.865306</td>\n",
       "      <td>2.721769</td>\n",
       "      <td>65.891156</td>\n",
       "      <td>2.729932</td>\n",
       "      <td>2.063946</td>\n",
       "      <td>...</td>\n",
       "      <td>2.712245</td>\n",
       "      <td>80.0</td>\n",
       "      <td>0.793878</td>\n",
       "      <td>11.279592</td>\n",
       "      <td>2.799320</td>\n",
       "      <td>2.761224</td>\n",
       "      <td>7.008163</td>\n",
       "      <td>4.229252</td>\n",
       "      <td>2.187755</td>\n",
       "      <td>4.123129</td>\n",
       "    </tr>\n",
       "    <tr>\n",
       "      <th>std</th>\n",
       "      <td>9.135373</td>\n",
       "      <td>403.509100</td>\n",
       "      <td>8.106864</td>\n",
       "      <td>1.024165</td>\n",
       "      <td>0.0</td>\n",
       "      <td>602.024335</td>\n",
       "      <td>1.093082</td>\n",
       "      <td>20.329428</td>\n",
       "      <td>0.711561</td>\n",
       "      <td>1.106940</td>\n",
       "      <td>...</td>\n",
       "      <td>1.081209</td>\n",
       "      <td>0.0</td>\n",
       "      <td>0.852077</td>\n",
       "      <td>7.780782</td>\n",
       "      <td>1.289271</td>\n",
       "      <td>0.706476</td>\n",
       "      <td>6.126525</td>\n",
       "      <td>3.623137</td>\n",
       "      <td>3.222430</td>\n",
       "      <td>3.568136</td>\n",
       "    </tr>\n",
       "    <tr>\n",
       "      <th>min</th>\n",
       "      <td>18.000000</td>\n",
       "      <td>102.000000</td>\n",
       "      <td>1.000000</td>\n",
       "      <td>1.000000</td>\n",
       "      <td>1.0</td>\n",
       "      <td>1.000000</td>\n",
       "      <td>1.000000</td>\n",
       "      <td>30.000000</td>\n",
       "      <td>1.000000</td>\n",
       "      <td>1.000000</td>\n",
       "      <td>...</td>\n",
       "      <td>1.000000</td>\n",
       "      <td>80.0</td>\n",
       "      <td>0.000000</td>\n",
       "      <td>0.000000</td>\n",
       "      <td>0.000000</td>\n",
       "      <td>1.000000</td>\n",
       "      <td>0.000000</td>\n",
       "      <td>0.000000</td>\n",
       "      <td>0.000000</td>\n",
       "      <td>0.000000</td>\n",
       "    </tr>\n",
       "    <tr>\n",
       "      <th>25%</th>\n",
       "      <td>30.000000</td>\n",
       "      <td>465.000000</td>\n",
       "      <td>2.000000</td>\n",
       "      <td>2.000000</td>\n",
       "      <td>1.0</td>\n",
       "      <td>491.250000</td>\n",
       "      <td>2.000000</td>\n",
       "      <td>48.000000</td>\n",
       "      <td>2.000000</td>\n",
       "      <td>1.000000</td>\n",
       "      <td>...</td>\n",
       "      <td>2.000000</td>\n",
       "      <td>80.0</td>\n",
       "      <td>0.000000</td>\n",
       "      <td>6.000000</td>\n",
       "      <td>2.000000</td>\n",
       "      <td>2.000000</td>\n",
       "      <td>3.000000</td>\n",
       "      <td>2.000000</td>\n",
       "      <td>0.000000</td>\n",
       "      <td>2.000000</td>\n",
       "    </tr>\n",
       "    <tr>\n",
       "      <th>50%</th>\n",
       "      <td>36.000000</td>\n",
       "      <td>802.000000</td>\n",
       "      <td>7.000000</td>\n",
       "      <td>3.000000</td>\n",
       "      <td>1.0</td>\n",
       "      <td>1020.500000</td>\n",
       "      <td>3.000000</td>\n",
       "      <td>66.000000</td>\n",
       "      <td>3.000000</td>\n",
       "      <td>2.000000</td>\n",
       "      <td>...</td>\n",
       "      <td>3.000000</td>\n",
       "      <td>80.0</td>\n",
       "      <td>1.000000</td>\n",
       "      <td>10.000000</td>\n",
       "      <td>3.000000</td>\n",
       "      <td>3.000000</td>\n",
       "      <td>5.000000</td>\n",
       "      <td>3.000000</td>\n",
       "      <td>1.000000</td>\n",
       "      <td>3.000000</td>\n",
       "    </tr>\n",
       "    <tr>\n",
       "      <th>75%</th>\n",
       "      <td>43.000000</td>\n",
       "      <td>1157.000000</td>\n",
       "      <td>14.000000</td>\n",
       "      <td>4.000000</td>\n",
       "      <td>1.0</td>\n",
       "      <td>1555.750000</td>\n",
       "      <td>4.000000</td>\n",
       "      <td>83.750000</td>\n",
       "      <td>3.000000</td>\n",
       "      <td>3.000000</td>\n",
       "      <td>...</td>\n",
       "      <td>4.000000</td>\n",
       "      <td>80.0</td>\n",
       "      <td>1.000000</td>\n",
       "      <td>15.000000</td>\n",
       "      <td>3.000000</td>\n",
       "      <td>3.000000</td>\n",
       "      <td>9.000000</td>\n",
       "      <td>7.000000</td>\n",
       "      <td>3.000000</td>\n",
       "      <td>7.000000</td>\n",
       "    </tr>\n",
       "    <tr>\n",
       "      <th>max</th>\n",
       "      <td>60.000000</td>\n",
       "      <td>1499.000000</td>\n",
       "      <td>29.000000</td>\n",
       "      <td>5.000000</td>\n",
       "      <td>1.0</td>\n",
       "      <td>2068.000000</td>\n",
       "      <td>4.000000</td>\n",
       "      <td>100.000000</td>\n",
       "      <td>4.000000</td>\n",
       "      <td>5.000000</td>\n",
       "      <td>...</td>\n",
       "      <td>4.000000</td>\n",
       "      <td>80.0</td>\n",
       "      <td>3.000000</td>\n",
       "      <td>40.000000</td>\n",
       "      <td>6.000000</td>\n",
       "      <td>4.000000</td>\n",
       "      <td>40.000000</td>\n",
       "      <td>18.000000</td>\n",
       "      <td>15.000000</td>\n",
       "      <td>17.000000</td>\n",
       "    </tr>\n",
       "  </tbody>\n",
       "</table>\n",
       "<p>8 rows × 26 columns</p>\n",
       "</div>"
      ],
      "text/plain": [
       "               Age    DailyRate  DistanceFromHome    Education  EmployeeCount  \\\n",
       "count  1470.000000  1470.000000       1470.000000  1470.000000         1470.0   \n",
       "mean     36.923810   802.485714          9.192517     2.912925            1.0   \n",
       "std       9.135373   403.509100          8.106864     1.024165            0.0   \n",
       "min      18.000000   102.000000          1.000000     1.000000            1.0   \n",
       "25%      30.000000   465.000000          2.000000     2.000000            1.0   \n",
       "50%      36.000000   802.000000          7.000000     3.000000            1.0   \n",
       "75%      43.000000  1157.000000         14.000000     4.000000            1.0   \n",
       "max      60.000000  1499.000000         29.000000     5.000000            1.0   \n",
       "\n",
       "       EmployeeNumber  EnvironmentSatisfaction   HourlyRate  JobInvolvement  \\\n",
       "count     1470.000000              1470.000000  1470.000000     1470.000000   \n",
       "mean      1024.865306                 2.721769    65.891156        2.729932   \n",
       "std        602.024335                 1.093082    20.329428        0.711561   \n",
       "min          1.000000                 1.000000    30.000000        1.000000   \n",
       "25%        491.250000                 2.000000    48.000000        2.000000   \n",
       "50%       1020.500000                 3.000000    66.000000        3.000000   \n",
       "75%       1555.750000                 4.000000    83.750000        3.000000   \n",
       "max       2068.000000                 4.000000   100.000000        4.000000   \n",
       "\n",
       "          JobLevel  ...  RelationshipSatisfaction  StandardHours  \\\n",
       "count  1470.000000  ...               1470.000000         1470.0   \n",
       "mean      2.063946  ...                  2.712245           80.0   \n",
       "std       1.106940  ...                  1.081209            0.0   \n",
       "min       1.000000  ...                  1.000000           80.0   \n",
       "25%       1.000000  ...                  2.000000           80.0   \n",
       "50%       2.000000  ...                  3.000000           80.0   \n",
       "75%       3.000000  ...                  4.000000           80.0   \n",
       "max       5.000000  ...                  4.000000           80.0   \n",
       "\n",
       "       StockOptionLevel  TotalWorkingYears  TrainingTimesLastYear  \\\n",
       "count       1470.000000        1470.000000            1470.000000   \n",
       "mean           0.793878          11.279592               2.799320   \n",
       "std            0.852077           7.780782               1.289271   \n",
       "min            0.000000           0.000000               0.000000   \n",
       "25%            0.000000           6.000000               2.000000   \n",
       "50%            1.000000          10.000000               3.000000   \n",
       "75%            1.000000          15.000000               3.000000   \n",
       "max            3.000000          40.000000               6.000000   \n",
       "\n",
       "       WorkLifeBalance  YearsAtCompany  YearsInCurrentRole  \\\n",
       "count      1470.000000     1470.000000         1470.000000   \n",
       "mean          2.761224        7.008163            4.229252   \n",
       "std           0.706476        6.126525            3.623137   \n",
       "min           1.000000        0.000000            0.000000   \n",
       "25%           2.000000        3.000000            2.000000   \n",
       "50%           3.000000        5.000000            3.000000   \n",
       "75%           3.000000        9.000000            7.000000   \n",
       "max           4.000000       40.000000           18.000000   \n",
       "\n",
       "       YearsSinceLastPromotion  YearsWithCurrManager  \n",
       "count              1470.000000           1470.000000  \n",
       "mean                  2.187755              4.123129  \n",
       "std                   3.222430              3.568136  \n",
       "min                   0.000000              0.000000  \n",
       "25%                   0.000000              2.000000  \n",
       "50%                   1.000000              3.000000  \n",
       "75%                   3.000000              7.000000  \n",
       "max                  15.000000             17.000000  \n",
       "\n",
       "[8 rows x 26 columns]"
      ]
     },
     "execution_count": 5,
     "metadata": {},
     "output_type": "execute_result"
    }
   ],
   "source": [
    "# Try to load the dataset from the Workspace. Otherwise, create it from the file\n",
    "# NOTE: update the key to match the dataset name\n",
    "found = False\n",
    "key = \"Employee Attrition\"\n",
    "description_text = \"IBM HR Analytics Employee Attrition & Performance\"\n",
    "\n",
    "if key in ws.datasets.keys(): \n",
    "        found = True\n",
    "        dataset = ws.datasets[key] \n",
    "\n",
    "if not found:\n",
    "        # Create AML Dataset and register it into Workspace\n",
    "        data = 'https://raw.githubusercontent.com/manas-v/Capstone-Project-Azure-Machine-Learning-Engineer/main/WA_Fn-UseC_-HR-Employee-Attrition.csv'\n",
    "        dataset = Dataset.Tabular.from_delimited_files(data)        \n",
    "        #Register Dataset in Workspace\n",
    "        dataset = dataset.register(workspace=ws,\n",
    "                                   name=key,\n",
    "                                   description=description_text)\n",
    "\n",
    "\n",
    "df = dataset.to_pandas_dataframe()\n",
    "df.describe()"
   ]
  },
  {
   "cell_type": "markdown",
   "metadata": {},
   "source": [
    "## AutoML Configuration\n",
    "\n",
    "The AutoML settings and AutoMl configurations are given below.\n",
    "This is a binary classification problem with label column 'Attrition' having output as 'true' or 'false'. The experiment timeout is 20 mins, a maximum of 5 concurrent iterations take place together, the primary metric for the run is AUC_weighted. "
   ]
  },
  {
   "cell_type": "code",
   "execution_count": 6,
   "metadata": {
    "gather": {
     "logged": 1598429217746
    },
    "jupyter": {
     "outputs_hidden": false,
     "source_hidden": false
    },
    "nteract": {
     "transient": {
      "deleting": false
     }
    }
   },
   "outputs": [],
   "source": [
    "# Automl setting\n",
    "automl_settings = automl_settings = {\n",
    "    \"experiment_timeout_minutes\": 20,\n",
    "    \"max_concurrent_iterations\": 5,\n",
    "    \"primary_metric\" : 'AUC_weighted'\n",
    "}\n",
    "\n",
    "# Automl config\n",
    "automl_config = AutoMLConfig(compute_target=cpu_cluster,\n",
    "                             task = \"classification\",\n",
    "                             training_data=dataset,\n",
    "                             label_column_name=\"Attrition\",   \n",
    "                             path = './capstone-project',\n",
    "                             enable_early_stopping= True,\n",
    "                             featurization= 'auto',\n",
    "                             debug_log = \"automl_errors.log\",\n",
    "                             **automl_settings\n",
    "                             )"
   ]
  },
  {
   "cell_type": "code",
   "execution_count": 7,
   "metadata": {
    "gather": {
     "logged": 1598431107951
    },
    "jupyter": {
     "outputs_hidden": false,
     "source_hidden": false
    },
    "nteract": {
     "transient": {
      "deleting": false
     }
    },
    "scrolled": false
   },
   "outputs": [
    {
     "name": "stdout",
     "output_type": "stream",
     "text": [
      "Running on remote.\n",
      "No run_configuration provided, running on notebook138608 with default configuration\n",
      "Running on remote compute: notebook138608\n",
      "Parent Run ID: AutoML_b1870f09-4190-4612-b6ef-ed0770d273ed\n",
      "\n",
      "Current status: FeaturesGeneration. Generating features for the dataset.\n",
      "Current status: DatasetFeaturization. Beginning to fit featurizers and featurize the dataset.\n",
      "Current status: DatasetCrossValidationSplit. Generating individually featurized CV splits.\n",
      "Current status: ModelSelection. Beginning model selection.\n",
      "\n",
      "****************************************************************************************************\n",
      "DATA GUARDRAILS: \n",
      "\n",
      "TYPE:         Cross validation\n",
      "STATUS:       DONE\n",
      "DESCRIPTION:  Each iteration of the trained model was validated through cross-validation.\n",
      "              \n",
      "DETAILS:      \n",
      "+---------------------------------+\n",
      "|Number of folds                  |\n",
      "+=================================+\n",
      "|3                                |\n",
      "+---------------------------------+\n",
      "\n",
      "****************************************************************************************************\n",
      "\n",
      "TYPE:         Class balancing detection\n",
      "STATUS:       ALERTED\n",
      "DESCRIPTION:  To decrease model bias, please cancel the current run and fix balancing problem.\n",
      "              Learn more about imbalanced data: https://aka.ms/AutomatedMLImbalancedData\n",
      "DETAILS:      Imbalanced data can lead to a falsely perceived positive effect of a model's accuracy because the input data has bias towards one class.\n",
      "+---------------------------------+---------------------------------+--------------------------------------+\n",
      "|Size of the smallest class       |Name/Label of the smallest class |Number of samples in the training data|\n",
      "+=================================+=================================+======================================+\n",
      "|237                              |True                             |1470                                  |\n",
      "+---------------------------------+---------------------------------+--------------------------------------+\n",
      "\n",
      "****************************************************************************************************\n",
      "\n",
      "TYPE:         Missing feature values imputation\n",
      "STATUS:       PASSED\n",
      "DESCRIPTION:  No feature missing values were detected in the training data.\n",
      "              Learn more about missing value imputation: https://aka.ms/AutomatedMLFeaturization\n",
      "\n",
      "****************************************************************************************************\n",
      "\n",
      "TYPE:         High cardinality feature detection\n",
      "STATUS:       PASSED\n",
      "DESCRIPTION:  Your inputs were analyzed, and no high cardinality features were detected.\n",
      "              Learn more about high cardinality feature handling: https://aka.ms/AutomatedMLFeaturization\n",
      "\n",
      "****************************************************************************************************\n",
      "\n",
      "****************************************************************************************************\n",
      "ITERATION: The iteration being evaluated.\n",
      "PIPELINE: A summary description of the pipeline being evaluated.\n",
      "DURATION: Time taken for the current iteration.\n",
      "METRIC: The result of computing score on the fitted pipeline.\n",
      "BEST: The best observed score thus far.\n",
      "****************************************************************************************************\n",
      "\n",
      " ITERATION   PIPELINE                                       DURATION      METRIC      BEST\n",
      "         1   MaxAbsScaler XGBoostClassifier                 0:01:08       0.7832    0.7832\n",
      "         0   MaxAbsScaler LightGBM                          0:01:15       0.7737    0.7832\n",
      "         2   MaxAbsScaler RandomForest                      0:01:12       0.7903    0.7903\n",
      "         3   MaxAbsScaler RandomForest                      0:01:11       0.7676    0.7903\n",
      "         4   MaxAbsScaler RandomForest                      0:01:22       0.7691    0.7903\n",
      "         5   MaxAbsScaler ExtremeRandomTrees                0:01:09       0.7675    0.7903\n",
      "         6   MaxAbsScaler ExtremeRandomTrees                0:01:05       0.7890    0.7903\n",
      "         7   MaxAbsScaler ExtremeRandomTrees                0:01:05       0.7778    0.7903\n",
      "         8   MaxAbsScaler RandomForest                      0:01:07       0.7863    0.7903\n",
      "         9   MaxAbsScaler ExtremeRandomTrees                0:01:06       0.7897    0.7903\n",
      "        10   MaxAbsScaler RandomForest                      0:01:07       0.7411    0.7903\n",
      "        11   MaxAbsScaler RandomForest                      0:01:11       0.7582    0.7903\n",
      "        12   MaxAbsScaler RandomForest                      0:01:03       0.7847    0.7903\n",
      "        13   StandardScalerWrapper XGBoostClassifier        0:01:06       0.7600    0.7903\n",
      "        14   MaxAbsScaler RandomForest                      0:01:01       0.7501    0.7903\n",
      "        15   StandardScalerWrapper ExtremeRandomTrees       0:01:11       0.7414    0.7903\n",
      "        16   MaxAbsScaler ExtremeRandomTrees                0:01:04       0.7852    0.7903\n",
      "        17   MaxAbsScaler ExtremeRandomTrees                0:01:08       0.7850    0.7903\n",
      "        18   MaxAbsScaler RandomForest                      0:01:11       0.7772    0.7903\n",
      "        19   StandardScalerWrapper XGBoostClassifier        0:01:05       0.7635    0.7903\n",
      "        20   MaxAbsScaler LightGBM                          0:01:06       0.8107    0.8107\n",
      "        21   MaxAbsScaler LightGBM                          0:01:03       0.7878    0.8107\n",
      "        22   MaxAbsScaler LightGBM                          0:01:07       0.7935    0.8107\n",
      "        23   MaxAbsScaler LightGBM                          0:01:09       0.8125    0.8125\n",
      "        24   MaxAbsScaler LightGBM                          0:01:05       0.7913    0.8125\n",
      "        26   StandardScalerWrapper LightGBM                 0:01:03       0.7888    0.8125\n",
      "        25   MaxAbsScaler RandomForest                      0:01:15       0.6322    0.8125\n",
      "        27   StandardScalerWrapper LogisticRegression       0:01:02       0.7943    0.8125\n",
      "        28   StandardScalerWrapper LinearSVM                0:01:03       0.7869    0.8125\n",
      "        29   MaxAbsScaler LogisticRegression                0:01:02       0.7854    0.8125\n",
      "        30   StandardScalerWrapper LightGBM                 0:01:06       0.7926    0.8125\n",
      "        31   TruncatedSVDWrapper ExtremeRandomTrees         0:01:18       0.7614    0.8125\n",
      "        32   SparseNormalizer GradientBoosting              0:01:10       0.7937    0.8125\n",
      "        33   StandardScalerWrapper LightGBM                 0:01:09       0.7981    0.8125\n",
      "        34   SparseNormalizer LightGBM                      0:01:03       0.8121    0.8125\n",
      "        36   StandardScalerWrapper LogisticRegression       0:01:09       0.7909    0.8125\n",
      "        37   StandardScalerWrapper LogisticRegression       0:01:07       0.7735    0.8125\n",
      "        38   SparseNormalizer LightGBM                      0:01:09       0.7945    0.8125\n",
      "        35   SparseNormalizer LightGBM                      0:01:34       0.8023    0.8125\n",
      "        41   MaxAbsScaler LightGBM                          0:00:43          nan    0.8125\n",
      "        42                                                  0:00:37          nan    0.8125\n",
      "        39   StandardScalerWrapper LightGBM                 0:00:57       0.7953    0.8125\n",
      "        40   TruncatedSVDWrapper LightGBM                   0:00:48       0.7684    0.8125\n",
      "        43    VotingEnsemble                                0:01:53       0.8333    0.8333\n",
      "        44    StackEnsemble                                 0:01:53       0.8324    0.8333\n"
     ]
    }
   ],
   "source": [
    "# Submitting the experiment\n",
    "remote_run = experiment.submit(automl_config, show_output=True)"
   ]
  },
  {
   "cell_type": "markdown",
   "metadata": {},
   "source": [
    "## Run Details\n",
    "\n",
    "In the cell below, using the `RunDetails` widget to show the different experiments."
   ]
  },
  {
   "cell_type": "code",
   "execution_count": 8,
   "metadata": {
    "gather": {
     "logged": 1598431121770
    },
    "jupyter": {
     "outputs_hidden": false,
     "source_hidden": false
    },
    "nteract": {
     "transient": {
      "deleting": false
     }
    }
   },
   "outputs": [
    {
     "data": {
      "application/vnd.jupyter.widget-view+json": {
       "model_id": "fc4d1bd364e248afa35f52c9e6e0ad6a",
       "version_major": 2,
       "version_minor": 0
      },
      "text/plain": [
       "_AutoMLWidget(widget_settings={'childWidgetDisplay': 'popup', 'send_telemetry': False, 'log_level': 'INFO', 's…"
      ]
     },
     "metadata": {},
     "output_type": "display_data"
    },
    {
     "data": {
      "application/aml.mini.widget.v1": "{\"status\": \"Completed\", \"workbench_run_details_uri\": \"https://ml.azure.com/experiments/capstone-automl/runs/AutoML_b1870f09-4190-4612-b6ef-ed0770d273ed?wsid=/subscriptions/9a7511b8-150f-4a58-8528-3e7d50216c31/resourcegroups/aml-quickstarts-138608/workspaces/quick-starts-ws-138608\", \"run_id\": \"AutoML_b1870f09-4190-4612-b6ef-ed0770d273ed\", \"run_properties\": {\"run_id\": \"AutoML_b1870f09-4190-4612-b6ef-ed0770d273ed\", \"created_utc\": \"2021-02-11T19:04:22.841393Z\", \"properties\": {\"num_iterations\": \"1000\", \"training_type\": \"TrainFull\", \"acquisition_function\": \"EI\", \"primary_metric\": \"AUC_weighted\", \"train_split\": \"0\", \"acquisition_parameter\": \"0\", \"num_cross_validation\": null, \"target\": \"notebook138608\", \"AMLSettingsJsonString\": \"{\\\"path\\\":null,\\\"name\\\":\\\"capstone-automl\\\",\\\"subscription_id\\\":\\\"9a7511b8-150f-4a58-8528-3e7d50216c31\\\",\\\"resource_group\\\":\\\"aml-quickstarts-138608\\\",\\\"workspace_name\\\":\\\"quick-starts-ws-138608\\\",\\\"region\\\":\\\"southcentralus\\\",\\\"compute_target\\\":\\\"notebook138608\\\",\\\"spark_service\\\":null,\\\"azure_service\\\":\\\"remote\\\",\\\"many_models\\\":false,\\\"pipeline_fetch_max_batch_size\\\":1,\\\"iterations\\\":1000,\\\"primary_metric\\\":\\\"AUC_weighted\\\",\\\"task_type\\\":\\\"classification\\\",\\\"data_script\\\":null,\\\"validation_size\\\":0.0,\\\"n_cross_validations\\\":null,\\\"y_min\\\":null,\\\"y_max\\\":null,\\\"num_classes\\\":null,\\\"featurization\\\":\\\"auto\\\",\\\"_ignore_package_version_incompatibilities\\\":false,\\\"is_timeseries\\\":false,\\\"max_cores_per_iteration\\\":1,\\\"max_concurrent_iterations\\\":5,\\\"iteration_timeout_minutes\\\":null,\\\"mem_in_mb\\\":null,\\\"enforce_time_on_windows\\\":false,\\\"experiment_timeout_minutes\\\":20,\\\"experiment_exit_score\\\":null,\\\"whitelist_models\\\":null,\\\"blacklist_algos\\\":[\\\"TensorFlowLinearClassifier\\\",\\\"TensorFlowDNN\\\"],\\\"supported_models\\\":[\\\"LogisticRegression\\\",\\\"SGD\\\",\\\"LightGBM\\\",\\\"AveragedPerceptronClassifier\\\",\\\"BernoulliNaiveBayes\\\",\\\"LinearSVM\\\",\\\"ExtremeRandomTrees\\\",\\\"SVM\\\",\\\"GradientBoosting\\\",\\\"TensorFlowLinearClassifier\\\",\\\"XGBoostClassifier\\\",\\\"KNN\\\",\\\"DecisionTree\\\",\\\"MultinomialNaiveBayes\\\",\\\"TensorFlowDNN\\\",\\\"RandomForest\\\"],\\\"auto_blacklist\\\":true,\\\"blacklist_samples_reached\\\":false,\\\"exclude_nan_labels\\\":true,\\\"verbosity\\\":20,\\\"_debug_log\\\":\\\"azureml_automl.log\\\",\\\"show_warnings\\\":false,\\\"model_explainability\\\":true,\\\"service_url\\\":null,\\\"sdk_url\\\":null,\\\"sdk_packages\\\":null,\\\"enable_onnx_compatible_models\\\":false,\\\"enable_split_onnx_featurizer_estimator_models\\\":false,\\\"vm_type\\\":\\\"STANDARD_DS3_V2\\\",\\\"telemetry_verbosity\\\":20,\\\"send_telemetry\\\":true,\\\"enable_dnn\\\":false,\\\"scenario\\\":\\\"SDK-1.13.0\\\",\\\"environment_label\\\":null,\\\"force_text_dnn\\\":false,\\\"enable_feature_sweeping\\\":true,\\\"enable_early_stopping\\\":true,\\\"early_stopping_n_iters\\\":10,\\\"metrics\\\":null,\\\"enable_ensembling\\\":true,\\\"enable_stack_ensembling\\\":true,\\\"ensemble_iterations\\\":15,\\\"enable_tf\\\":false,\\\"enable_subsampling\\\":null,\\\"subsample_seed\\\":null,\\\"enable_nimbusml\\\":false,\\\"enable_streaming\\\":false,\\\"force_streaming\\\":false,\\\"track_child_runs\\\":true,\\\"allowed_private_models\\\":[],\\\"label_column_name\\\":\\\"Attrition\\\",\\\"weight_column_name\\\":null,\\\"cv_split_column_names\\\":null,\\\"enable_local_managed\\\":false,\\\"_local_managed_run_id\\\":null,\\\"cost_mode\\\":1,\\\"lag_length\\\":0,\\\"metric_operation\\\":\\\"maximize\\\",\\\"preprocess\\\":true}\", \"DataPrepJsonString\": \"{\\\\\\\"training_data\\\\\\\": \\\\\\\"{\\\\\\\\\\\\\\\"blocks\\\\\\\\\\\\\\\": [{\\\\\\\\\\\\\\\"id\\\\\\\\\\\\\\\": \\\\\\\\\\\\\\\"42d0ce31-4944-4a79-986a-3414ec4b8e9a\\\\\\\\\\\\\\\", \\\\\\\\\\\\\\\"type\\\\\\\\\\\\\\\": \\\\\\\\\\\\\\\"Microsoft.DPrep.GetFilesBlock\\\\\\\\\\\\\\\", \\\\\\\\\\\\\\\"arguments\\\\\\\\\\\\\\\": {\\\\\\\\\\\\\\\"isArchive\\\\\\\\\\\\\\\": false, \\\\\\\\\\\\\\\"path\\\\\\\\\\\\\\\": {\\\\\\\\\\\\\\\"target\\\\\\\\\\\\\\\": 4, \\\\\\\\\\\\\\\"resourceDetails\\\\\\\\\\\\\\\": [{\\\\\\\\\\\\\\\"path\\\\\\\\\\\\\\\": \\\\\\\\\\\\\\\"https://raw.githubusercontent.com/manas-v/Capstone-Project-Azure-Machine-Learning-Engineer/main/WA_Fn-UseC_-HR-Employee-Attrition.csv\\\\\\\\\\\\\\\"}]}}, \\\\\\\\\\\\\\\"localData\\\\\\\\\\\\\\\": {}, \\\\\\\\\\\\\\\"isEnabled\\\\\\\\\\\\\\\": true, \\\\\\\\\\\\\\\"name\\\\\\\\\\\\\\\": null, \\\\\\\\\\\\\\\"annotation\\\\\\\\\\\\\\\": null}, {\\\\\\\\\\\\\\\"id\\\\\\\\\\\\\\\": \\\\\\\\\\\\\\\"2165101c-5f84-4ae2-a800-e57291d227da\\\\\\\\\\\\\\\", \\\\\\\\\\\\\\\"type\\\\\\\\\\\\\\\": \\\\\\\\\\\\\\\"Microsoft.DPrep.ParseDelimitedBlock\\\\\\\\\\\\\\\", \\\\\\\\\\\\\\\"arguments\\\\\\\\\\\\\\\": {\\\\\\\\\\\\\\\"columnHeadersMode\\\\\\\\\\\\\\\": 3, \\\\\\\\\\\\\\\"fileEncoding\\\\\\\\\\\\\\\": 0, \\\\\\\\\\\\\\\"handleQuotedLineBreaks\\\\\\\\\\\\\\\": false, \\\\\\\\\\\\\\\"preview\\\\\\\\\\\\\\\": false, \\\\\\\\\\\\\\\"separator\\\\\\\\\\\\\\\": \\\\\\\\\\\\\\\",\\\\\\\\\\\\\\\", \\\\\\\\\\\\\\\"skipRows\\\\\\\\\\\\\\\": 0, \\\\\\\\\\\\\\\"skipRowsMode\\\\\\\\\\\\\\\": 0}, \\\\\\\\\\\\\\\"localData\\\\\\\\\\\\\\\": {}, \\\\\\\\\\\\\\\"isEnabled\\\\\\\\\\\\\\\": true, \\\\\\\\\\\\\\\"name\\\\\\\\\\\\\\\": null, \\\\\\\\\\\\\\\"annotation\\\\\\\\\\\\\\\": null}, {\\\\\\\\\\\\\\\"id\\\\\\\\\\\\\\\": \\\\\\\\\\\\\\\"67960264-699d-455b-a592-4047293f3e68\\\\\\\\\\\\\\\", \\\\\\\\\\\\\\\"type\\\\\\\\\\\\\\\": \\\\\\\\\\\\\\\"Microsoft.DPrep.DropColumnsBlock\\\\\\\\\\\\\\\", \\\\\\\\\\\\\\\"arguments\\\\\\\\\\\\\\\": {\\\\\\\\\\\\\\\"columns\\\\\\\\\\\\\\\": {\\\\\\\\\\\\\\\"type\\\\\\\\\\\\\\\": 0, \\\\\\\\\\\\\\\"details\\\\\\\\\\\\\\\": {\\\\\\\\\\\\\\\"selectedColumns\\\\\\\\\\\\\\\": [\\\\\\\\\\\\\\\"Path\\\\\\\\\\\\\\\"]}}}, \\\\\\\\\\\\\\\"localData\\\\\\\\\\\\\\\": {}, \\\\\\\\\\\\\\\"isEnabled\\\\\\\\\\\\\\\": true, \\\\\\\\\\\\\\\"name\\\\\\\\\\\\\\\": null, \\\\\\\\\\\\\\\"annotation\\\\\\\\\\\\\\\": null}, {\\\\\\\\\\\\\\\"id\\\\\\\\\\\\\\\": \\\\\\\\\\\\\\\"eaff489d-96f7-4ce9-ab4d-04106f454e26\\\\\\\\\\\\\\\", \\\\\\\\\\\\\\\"type\\\\\\\\\\\\\\\": \\\\\\\\\\\\\\\"Microsoft.DPrep.SetColumnTypesBlock\\\\\\\\\\\\\\\", \\\\\\\\\\\\\\\"arguments\\\\\\\\\\\\\\\": {\\\\\\\\\\\\\\\"columnConversion\\\\\\\\\\\\\\\": [{\\\\\\\\\\\\\\\"column\\\\\\\\\\\\\\\": {\\\\\\\\\\\\\\\"type\\\\\\\\\\\\\\\": 2, \\\\\\\\\\\\\\\"details\\\\\\\\\\\\\\\": {\\\\\\\\\\\\\\\"selectedColumn\\\\\\\\\\\\\\\": \\\\\\\\\\\\\\\"Age\\\\\\\\\\\\\\\"}}, \\\\\\\\\\\\\\\"typeProperty\\\\\\\\\\\\\\\": 2}, {\\\\\\\\\\\\\\\"column\\\\\\\\\\\\\\\": {\\\\\\\\\\\\\\\"type\\\\\\\\\\\\\\\": 2, \\\\\\\\\\\\\\\"details\\\\\\\\\\\\\\\": {\\\\\\\\\\\\\\\"selectedColumn\\\\\\\\\\\\\\\": \\\\\\\\\\\\\\\"Attrition\\\\\\\\\\\\\\\"}}, \\\\\\\\\\\\\\\"typeProperty\\\\\\\\\\\\\\\": 1}, {\\\\\\\\\\\\\\\"column\\\\\\\\\\\\\\\": {\\\\\\\\\\\\\\\"type\\\\\\\\\\\\\\\": 2, \\\\\\\\\\\\\\\"details\\\\\\\\\\\\\\\": {\\\\\\\\\\\\\\\"selectedColumn\\\\\\\\\\\\\\\": \\\\\\\\\\\\\\\"BusinessTravel\\\\\\\\\\\\\\\"}}, \\\\\\\\\\\\\\\"typeProperty\\\\\\\\\\\\\\\": 0}, {\\\\\\\\\\\\\\\"column\\\\\\\\\\\\\\\": {\\\\\\\\\\\\\\\"type\\\\\\\\\\\\\\\": 2, \\\\\\\\\\\\\\\"details\\\\\\\\\\\\\\\": {\\\\\\\\\\\\\\\"selectedColumn\\\\\\\\\\\\\\\": \\\\\\\\\\\\\\\"DailyRate\\\\\\\\\\\\\\\"}}, \\\\\\\\\\\\\\\"typeProperty\\\\\\\\\\\\\\\": 2}, {\\\\\\\\\\\\\\\"column\\\\\\\\\\\\\\\": {\\\\\\\\\\\\\\\"type\\\\\\\\\\\\\\\": 2, \\\\\\\\\\\\\\\"details\\\\\\\\\\\\\\\": {\\\\\\\\\\\\\\\"selectedColumn\\\\\\\\\\\\\\\": \\\\\\\\\\\\\\\"Department\\\\\\\\\\\\\\\"}}, \\\\\\\\\\\\\\\"typeProperty\\\\\\\\\\\\\\\": 0}, {\\\\\\\\\\\\\\\"column\\\\\\\\\\\\\\\": {\\\\\\\\\\\\\\\"type\\\\\\\\\\\\\\\": 2, \\\\\\\\\\\\\\\"details\\\\\\\\\\\\\\\": {\\\\\\\\\\\\\\\"selectedColumn\\\\\\\\\\\\\\\": \\\\\\\\\\\\\\\"DistanceFromHome\\\\\\\\\\\\\\\"}}, \\\\\\\\\\\\\\\"typeProperty\\\\\\\\\\\\\\\": 2}, {\\\\\\\\\\\\\\\"column\\\\\\\\\\\\\\\": {\\\\\\\\\\\\\\\"type\\\\\\\\\\\\\\\": 2, \\\\\\\\\\\\\\\"details\\\\\\\\\\\\\\\": {\\\\\\\\\\\\\\\"selectedColumn\\\\\\\\\\\\\\\": \\\\\\\\\\\\\\\"Education\\\\\\\\\\\\\\\"}}, \\\\\\\\\\\\\\\"typeProperty\\\\\\\\\\\\\\\": 2}, {\\\\\\\\\\\\\\\"column\\\\\\\\\\\\\\\": {\\\\\\\\\\\\\\\"type\\\\\\\\\\\\\\\": 2, \\\\\\\\\\\\\\\"details\\\\\\\\\\\\\\\": {\\\\\\\\\\\\\\\"selectedColumn\\\\\\\\\\\\\\\": \\\\\\\\\\\\\\\"EducationField\\\\\\\\\\\\\\\"}}, \\\\\\\\\\\\\\\"typeProperty\\\\\\\\\\\\\\\": 0}, {\\\\\\\\\\\\\\\"column\\\\\\\\\\\\\\\": {\\\\\\\\\\\\\\\"type\\\\\\\\\\\\\\\": 2, \\\\\\\\\\\\\\\"details\\\\\\\\\\\\\\\": {\\\\\\\\\\\\\\\"selectedColumn\\\\\\\\\\\\\\\": \\\\\\\\\\\\\\\"EmployeeCount\\\\\\\\\\\\\\\"}}, \\\\\\\\\\\\\\\"typeProperty\\\\\\\\\\\\\\\": 2}, {\\\\\\\\\\\\\\\"column\\\\\\\\\\\\\\\": {\\\\\\\\\\\\\\\"type\\\\\\\\\\\\\\\": 2, \\\\\\\\\\\\\\\"details\\\\\\\\\\\\\\\": {\\\\\\\\\\\\\\\"selectedColumn\\\\\\\\\\\\\\\": \\\\\\\\\\\\\\\"EmployeeNumber\\\\\\\\\\\\\\\"}}, \\\\\\\\\\\\\\\"typeProperty\\\\\\\\\\\\\\\": 2}, {\\\\\\\\\\\\\\\"column\\\\\\\\\\\\\\\": {\\\\\\\\\\\\\\\"type\\\\\\\\\\\\\\\": 2, \\\\\\\\\\\\\\\"details\\\\\\\\\\\\\\\": {\\\\\\\\\\\\\\\"selectedColumn\\\\\\\\\\\\\\\": \\\\\\\\\\\\\\\"EnvironmentSatisfaction\\\\\\\\\\\\\\\"}}, \\\\\\\\\\\\\\\"typeProperty\\\\\\\\\\\\\\\": 2}, {\\\\\\\\\\\\\\\"column\\\\\\\\\\\\\\\": {\\\\\\\\\\\\\\\"type\\\\\\\\\\\\\\\": 2, \\\\\\\\\\\\\\\"details\\\\\\\\\\\\\\\": {\\\\\\\\\\\\\\\"selectedColumn\\\\\\\\\\\\\\\": \\\\\\\\\\\\\\\"Gender\\\\\\\\\\\\\\\"}}, \\\\\\\\\\\\\\\"typeProperty\\\\\\\\\\\\\\\": 0}, {\\\\\\\\\\\\\\\"column\\\\\\\\\\\\\\\": {\\\\\\\\\\\\\\\"type\\\\\\\\\\\\\\\": 2, \\\\\\\\\\\\\\\"details\\\\\\\\\\\\\\\": {\\\\\\\\\\\\\\\"selectedColumn\\\\\\\\\\\\\\\": \\\\\\\\\\\\\\\"HourlyRate\\\\\\\\\\\\\\\"}}, \\\\\\\\\\\\\\\"typeProperty\\\\\\\\\\\\\\\": 2}, {\\\\\\\\\\\\\\\"column\\\\\\\\\\\\\\\": {\\\\\\\\\\\\\\\"type\\\\\\\\\\\\\\\": 2, \\\\\\\\\\\\\\\"details\\\\\\\\\\\\\\\": {\\\\\\\\\\\\\\\"selectedColumn\\\\\\\\\\\\\\\": \\\\\\\\\\\\\\\"JobInvolvement\\\\\\\\\\\\\\\"}}, \\\\\\\\\\\\\\\"typeProperty\\\\\\\\\\\\\\\": 2}, {\\\\\\\\\\\\\\\"column\\\\\\\\\\\\\\\": {\\\\\\\\\\\\\\\"type\\\\\\\\\\\\\\\": 2, \\\\\\\\\\\\\\\"details\\\\\\\\\\\\\\\": {\\\\\\\\\\\\\\\"selectedColumn\\\\\\\\\\\\\\\": \\\\\\\\\\\\\\\"JobLevel\\\\\\\\\\\\\\\"}}, \\\\\\\\\\\\\\\"typeProperty\\\\\\\\\\\\\\\": 2}, {\\\\\\\\\\\\\\\"column\\\\\\\\\\\\\\\": {\\\\\\\\\\\\\\\"type\\\\\\\\\\\\\\\": 2, \\\\\\\\\\\\\\\"details\\\\\\\\\\\\\\\": {\\\\\\\\\\\\\\\"selectedColumn\\\\\\\\\\\\\\\": \\\\\\\\\\\\\\\"JobRole\\\\\\\\\\\\\\\"}}, \\\\\\\\\\\\\\\"typeProperty\\\\\\\\\\\\\\\": 0}, {\\\\\\\\\\\\\\\"column\\\\\\\\\\\\\\\": {\\\\\\\\\\\\\\\"type\\\\\\\\\\\\\\\": 2, \\\\\\\\\\\\\\\"details\\\\\\\\\\\\\\\": {\\\\\\\\\\\\\\\"selectedColumn\\\\\\\\\\\\\\\": \\\\\\\\\\\\\\\"JobSatisfaction\\\\\\\\\\\\\\\"}}, \\\\\\\\\\\\\\\"typeProperty\\\\\\\\\\\\\\\": 2}, {\\\\\\\\\\\\\\\"column\\\\\\\\\\\\\\\": {\\\\\\\\\\\\\\\"type\\\\\\\\\\\\\\\": 2, \\\\\\\\\\\\\\\"details\\\\\\\\\\\\\\\": {\\\\\\\\\\\\\\\"selectedColumn\\\\\\\\\\\\\\\": \\\\\\\\\\\\\\\"MaritalStatus\\\\\\\\\\\\\\\"}}, \\\\\\\\\\\\\\\"typeProperty\\\\\\\\\\\\\\\": 0}, {\\\\\\\\\\\\\\\"column\\\\\\\\\\\\\\\": {\\\\\\\\\\\\\\\"type\\\\\\\\\\\\\\\": 2, \\\\\\\\\\\\\\\"details\\\\\\\\\\\\\\\": {\\\\\\\\\\\\\\\"selectedColumn\\\\\\\\\\\\\\\": \\\\\\\\\\\\\\\"MonthlyIncome\\\\\\\\\\\\\\\"}}, \\\\\\\\\\\\\\\"typeProperty\\\\\\\\\\\\\\\": 2}, {\\\\\\\\\\\\\\\"column\\\\\\\\\\\\\\\": {\\\\\\\\\\\\\\\"type\\\\\\\\\\\\\\\": 2, \\\\\\\\\\\\\\\"details\\\\\\\\\\\\\\\": {\\\\\\\\\\\\\\\"selectedColumn\\\\\\\\\\\\\\\": \\\\\\\\\\\\\\\"MonthlyRate\\\\\\\\\\\\\\\"}}, \\\\\\\\\\\\\\\"typeProperty\\\\\\\\\\\\\\\": 2}, {\\\\\\\\\\\\\\\"column\\\\\\\\\\\\\\\": {\\\\\\\\\\\\\\\"type\\\\\\\\\\\\\\\": 2, \\\\\\\\\\\\\\\"details\\\\\\\\\\\\\\\": {\\\\\\\\\\\\\\\"selectedColumn\\\\\\\\\\\\\\\": \\\\\\\\\\\\\\\"NumCompaniesWorked\\\\\\\\\\\\\\\"}}, \\\\\\\\\\\\\\\"typeProperty\\\\\\\\\\\\\\\": 2}, {\\\\\\\\\\\\\\\"column\\\\\\\\\\\\\\\": {\\\\\\\\\\\\\\\"type\\\\\\\\\\\\\\\": 2, \\\\\\\\\\\\\\\"details\\\\\\\\\\\\\\\": {\\\\\\\\\\\\\\\"selectedColumn\\\\\\\\\\\\\\\": \\\\\\\\\\\\\\\"Over18\\\\\\\\\\\\\\\"}}, \\\\\\\\\\\\\\\"typeProperty\\\\\\\\\\\\\\\": 1}, {\\\\\\\\\\\\\\\"column\\\\\\\\\\\\\\\": {\\\\\\\\\\\\\\\"type\\\\\\\\\\\\\\\": 2, \\\\\\\\\\\\\\\"details\\\\\\\\\\\\\\\": {\\\\\\\\\\\\\\\"selectedColumn\\\\\\\\\\\\\\\": \\\\\\\\\\\\\\\"OverTime\\\\\\\\\\\\\\\"}}, \\\\\\\\\\\\\\\"typeProperty\\\\\\\\\\\\\\\": 1}, {\\\\\\\\\\\\\\\"column\\\\\\\\\\\\\\\": {\\\\\\\\\\\\\\\"type\\\\\\\\\\\\\\\": 2, \\\\\\\\\\\\\\\"details\\\\\\\\\\\\\\\": {\\\\\\\\\\\\\\\"selectedColumn\\\\\\\\\\\\\\\": \\\\\\\\\\\\\\\"PercentSalaryHike\\\\\\\\\\\\\\\"}}, \\\\\\\\\\\\\\\"typeProperty\\\\\\\\\\\\\\\": 2}, {\\\\\\\\\\\\\\\"column\\\\\\\\\\\\\\\": {\\\\\\\\\\\\\\\"type\\\\\\\\\\\\\\\": 2, \\\\\\\\\\\\\\\"details\\\\\\\\\\\\\\\": {\\\\\\\\\\\\\\\"selectedColumn\\\\\\\\\\\\\\\": \\\\\\\\\\\\\\\"PerformanceRating\\\\\\\\\\\\\\\"}}, \\\\\\\\\\\\\\\"typeProperty\\\\\\\\\\\\\\\": 2}, {\\\\\\\\\\\\\\\"column\\\\\\\\\\\\\\\": {\\\\\\\\\\\\\\\"type\\\\\\\\\\\\\\\": 2, \\\\\\\\\\\\\\\"details\\\\\\\\\\\\\\\": {\\\\\\\\\\\\\\\"selectedColumn\\\\\\\\\\\\\\\": \\\\\\\\\\\\\\\"RelationshipSatisfaction\\\\\\\\\\\\\\\"}}, \\\\\\\\\\\\\\\"typeProperty\\\\\\\\\\\\\\\": 2}, {\\\\\\\\\\\\\\\"column\\\\\\\\\\\\\\\": {\\\\\\\\\\\\\\\"type\\\\\\\\\\\\\\\": 2, \\\\\\\\\\\\\\\"details\\\\\\\\\\\\\\\": {\\\\\\\\\\\\\\\"selectedColumn\\\\\\\\\\\\\\\": \\\\\\\\\\\\\\\"StandardHours\\\\\\\\\\\\\\\"}}, \\\\\\\\\\\\\\\"typeProperty\\\\\\\\\\\\\\\": 2}, {\\\\\\\\\\\\\\\"column\\\\\\\\\\\\\\\": {\\\\\\\\\\\\\\\"type\\\\\\\\\\\\\\\": 2, \\\\\\\\\\\\\\\"details\\\\\\\\\\\\\\\": {\\\\\\\\\\\\\\\"selectedColumn\\\\\\\\\\\\\\\": \\\\\\\\\\\\\\\"StockOptionLevel\\\\\\\\\\\\\\\"}}, \\\\\\\\\\\\\\\"typeProperty\\\\\\\\\\\\\\\": 2}, {\\\\\\\\\\\\\\\"column\\\\\\\\\\\\\\\": {\\\\\\\\\\\\\\\"type\\\\\\\\\\\\\\\": 2, \\\\\\\\\\\\\\\"details\\\\\\\\\\\\\\\": {\\\\\\\\\\\\\\\"selectedColumn\\\\\\\\\\\\\\\": \\\\\\\\\\\\\\\"TotalWorkingYears\\\\\\\\\\\\\\\"}}, \\\\\\\\\\\\\\\"typeProperty\\\\\\\\\\\\\\\": 2}, {\\\\\\\\\\\\\\\"column\\\\\\\\\\\\\\\": {\\\\\\\\\\\\\\\"type\\\\\\\\\\\\\\\": 2, \\\\\\\\\\\\\\\"details\\\\\\\\\\\\\\\": {\\\\\\\\\\\\\\\"selectedColumn\\\\\\\\\\\\\\\": \\\\\\\\\\\\\\\"TrainingTimesLastYear\\\\\\\\\\\\\\\"}}, \\\\\\\\\\\\\\\"typeProperty\\\\\\\\\\\\\\\": 2}, {\\\\\\\\\\\\\\\"column\\\\\\\\\\\\\\\": {\\\\\\\\\\\\\\\"type\\\\\\\\\\\\\\\": 2, \\\\\\\\\\\\\\\"details\\\\\\\\\\\\\\\": {\\\\\\\\\\\\\\\"selectedColumn\\\\\\\\\\\\\\\": \\\\\\\\\\\\\\\"WorkLifeBalance\\\\\\\\\\\\\\\"}}, \\\\\\\\\\\\\\\"typeProperty\\\\\\\\\\\\\\\": 2}, {\\\\\\\\\\\\\\\"column\\\\\\\\\\\\\\\": {\\\\\\\\\\\\\\\"type\\\\\\\\\\\\\\\": 2, \\\\\\\\\\\\\\\"details\\\\\\\\\\\\\\\": {\\\\\\\\\\\\\\\"selectedColumn\\\\\\\\\\\\\\\": \\\\\\\\\\\\\\\"YearsAtCompany\\\\\\\\\\\\\\\"}}, \\\\\\\\\\\\\\\"typeProperty\\\\\\\\\\\\\\\": 2}, {\\\\\\\\\\\\\\\"column\\\\\\\\\\\\\\\": {\\\\\\\\\\\\\\\"type\\\\\\\\\\\\\\\": 2, \\\\\\\\\\\\\\\"details\\\\\\\\\\\\\\\": {\\\\\\\\\\\\\\\"selectedColumn\\\\\\\\\\\\\\\": \\\\\\\\\\\\\\\"YearsInCurrentRole\\\\\\\\\\\\\\\"}}, \\\\\\\\\\\\\\\"typeProperty\\\\\\\\\\\\\\\": 2}, {\\\\\\\\\\\\\\\"column\\\\\\\\\\\\\\\": {\\\\\\\\\\\\\\\"type\\\\\\\\\\\\\\\": 2, \\\\\\\\\\\\\\\"details\\\\\\\\\\\\\\\": {\\\\\\\\\\\\\\\"selectedColumn\\\\\\\\\\\\\\\": \\\\\\\\\\\\\\\"YearsSinceLastPromotion\\\\\\\\\\\\\\\"}}, \\\\\\\\\\\\\\\"typeProperty\\\\\\\\\\\\\\\": 2}, {\\\\\\\\\\\\\\\"column\\\\\\\\\\\\\\\": {\\\\\\\\\\\\\\\"type\\\\\\\\\\\\\\\": 2, \\\\\\\\\\\\\\\"details\\\\\\\\\\\\\\\": {\\\\\\\\\\\\\\\"selectedColumn\\\\\\\\\\\\\\\": \\\\\\\\\\\\\\\"YearsWithCurrManager\\\\\\\\\\\\\\\"}}, \\\\\\\\\\\\\\\"typeProperty\\\\\\\\\\\\\\\": 2}]}, \\\\\\\\\\\\\\\"localData\\\\\\\\\\\\\\\": {}, \\\\\\\\\\\\\\\"isEnabled\\\\\\\\\\\\\\\": true, \\\\\\\\\\\\\\\"name\\\\\\\\\\\\\\\": null, \\\\\\\\\\\\\\\"annotation\\\\\\\\\\\\\\\": null}], \\\\\\\\\\\\\\\"inspectors\\\\\\\\\\\\\\\": [], \\\\\\\\\\\\\\\"meta\\\\\\\\\\\\\\\": {\\\\\\\\\\\\\\\"savedDatasetId\\\\\\\\\\\\\\\": \\\\\\\\\\\\\\\"56e3c48e-f0cc-4875-a5c5-f768f2b0a06d\\\\\\\\\\\\\\\", \\\\\\\\\\\\\\\"datasetType\\\\\\\\\\\\\\\": \\\\\\\\\\\\\\\"tabular\\\\\\\\\\\\\\\", \\\\\\\\\\\\\\\"subscriptionId\\\\\\\\\\\\\\\": \\\\\\\\\\\\\\\"9a7511b8-150f-4a58-8528-3e7d50216c31\\\\\\\\\\\\\\\", \\\\\\\\\\\\\\\"workspaceId\\\\\\\\\\\\\\\": \\\\\\\\\\\\\\\"68d0f494-3066-441d-b5a4-4844e0f9dc35\\\\\\\\\\\\\\\", \\\\\\\\\\\\\\\"workspaceLocation\\\\\\\\\\\\\\\": \\\\\\\\\\\\\\\"southcentralus\\\\\\\\\\\\\\\"}}\\\\\\\", \\\\\\\"activities\\\\\\\": 0}\", \"EnableSubsampling\": null, \"runTemplate\": \"AutoML\", \"azureml.runsource\": \"automl\", \"display_task_type\": \"classification\", \"dependencies_versions\": \"{\\\"azureml-widgets\\\": \\\"1.20.0\\\", \\\"azureml-train\\\": \\\"1.20.0\\\", \\\"azureml-train-restclients-hyperdrive\\\": \\\"1.20.0\\\", \\\"azureml-train-core\\\": \\\"1.20.0\\\", \\\"azureml-train-automl\\\": \\\"1.20.0\\\", \\\"azureml-train-automl-runtime\\\": \\\"1.20.0\\\", \\\"azureml-train-automl-client\\\": \\\"1.20.0\\\", \\\"azureml-tensorboard\\\": \\\"1.20.0\\\", \\\"azureml-telemetry\\\": \\\"1.20.0\\\", \\\"azureml-sdk\\\": \\\"1.20.0\\\", \\\"azureml-samples\\\": \\\"0+unknown\\\", \\\"azureml-pipeline\\\": \\\"1.20.0\\\", \\\"azureml-pipeline-steps\\\": \\\"1.20.0\\\", \\\"azureml-pipeline-core\\\": \\\"1.20.0\\\", \\\"azureml-opendatasets\\\": \\\"1.20.0\\\", \\\"azureml-model-management-sdk\\\": \\\"1.0.1b6.post1\\\", \\\"azureml-mlflow\\\": \\\"1.20.0.post1\\\", \\\"azureml-interpret\\\": \\\"1.20.0\\\", \\\"azureml-explain-model\\\": \\\"1.20.0\\\", \\\"azureml-defaults\\\": \\\"1.20.0\\\", \\\"azureml-dataset-runtime\\\": \\\"1.20.0\\\", \\\"azureml-dataprep\\\": \\\"2.7.3\\\", \\\"azureml-dataprep-rslex\\\": \\\"1.5.0\\\", \\\"azureml-dataprep-native\\\": \\\"27.0.0\\\", \\\"azureml-datadrift\\\": \\\"1.20.0\\\", \\\"azureml-core\\\": \\\"1.20.0\\\", \\\"azureml-contrib-services\\\": \\\"1.20.0\\\", \\\"azureml-contrib-server\\\": \\\"1.20.0\\\", \\\"azureml-contrib-reinforcementlearning\\\": \\\"1.20.0\\\", \\\"azureml-contrib-pipeline-steps\\\": \\\"1.20.0\\\", \\\"azureml-contrib-notebook\\\": \\\"1.20.0\\\", \\\"azureml-contrib-interpret\\\": \\\"1.20.0\\\", \\\"azureml-contrib-gbdt\\\": \\\"1.20.0\\\", \\\"azureml-contrib-fairness\\\": \\\"1.20.0\\\", \\\"azureml-contrib-dataset\\\": \\\"1.20.0\\\", \\\"azureml-cli-common\\\": \\\"1.20.0\\\", \\\"azureml-automl-runtime\\\": \\\"1.20.0\\\", \\\"azureml-automl-core\\\": \\\"1.20.0\\\", \\\"azureml-accel-models\\\": \\\"1.20.0\\\"}\", \"_aml_system_scenario_identification\": \"Remote.Parent\", \"ClientType\": \"SDK\", \"environment_cpu_name\": \"AzureML-AutoML\", \"environment_cpu_label\": \"prod\", \"environment_gpu_name\": \"AzureML-AutoML-GPU\", \"environment_gpu_label\": \"prod\", \"root_attribution\": \"automl\", \"attribution\": \"AutoML\", \"Orchestrator\": \"AutoML\", \"CancelUri\": \"https://southcentralus.experiments.azureml.net/jasmine/v1.0/subscriptions/9a7511b8-150f-4a58-8528-3e7d50216c31/resourceGroups/aml-quickstarts-138608/providers/Microsoft.MachineLearningServices/workspaces/quick-starts-ws-138608/experimentids/11f544d4-42bf-485f-93f8-af65949a02c1/cancel/AutoML_b1870f09-4190-4612-b6ef-ed0770d273ed\", \"ClientSdkVersion\": \"1.21.0\", \"snapshotId\": \"00000000-0000-0000-0000-000000000000\", \"SetupRunId\": \"AutoML_b1870f09-4190-4612-b6ef-ed0770d273ed_setup\", \"SetupRunContainerId\": \"dcid.AutoML_b1870f09-4190-4612-b6ef-ed0770d273ed_setup\", \"FeaturizationRunJsonPath\": \"featurizer_container.json\", \"FeaturizationRunId\": \"AutoML_b1870f09-4190-4612-b6ef-ed0770d273ed_featurize\", \"ProblemInfoJsonString\": \"{\\\"dataset_num_categorical\\\": 0, \\\"is_sparse\\\": true, \\\"subsampling\\\": false, \\\"dataset_classes\\\": 2, \\\"dataset_features\\\": 300, \\\"dataset_samples\\\": 1470, \\\"single_frequency_class_detected\\\": false}\", \"ModelExplainRunId\": \"AutoML_b1870f09-4190-4612-b6ef-ed0770d273ed_ModelExplain\"}, \"tags\": {\"model_explain_run\": \"best_run\", \"_aml_system_azureml.automlComponent\": \"AutoML\", \"pipeline_id\": \"\", \"score\": \"\", \"predicted_cost\": \"\", \"fit_time\": \"\", \"training_percent\": \"\", \"iteration\": \"\", \"run_preprocessor\": \"\", \"run_algorithm\": \"\", \"dynamic_whitelisting_iterations\": \"<25>;<30>;<35>;<40>;\", \"automl_best_child_run_id\": \"AutoML_b1870f09-4190-4612-b6ef-ed0770d273ed_43\"}, \"end_time_utc\": \"2021-02-11T19:25:00.511069Z\", \"status\": \"Completed\", \"log_files\": {}, \"log_groups\": [], \"run_duration\": \"0:20:37\"}, \"child_runs\": [{\"run_id\": \"AutoML_b1870f09-4190-4612-b6ef-ed0770d273ed_4\", \"run_number\": 6, \"metric\": null, \"status\": \"Completed\", \"run_type\": \"azureml.scriptrun\", \"training_percent\": \"100\", \"start_time\": \"2021-02-11T19:10:30.302241Z\", \"end_time\": \"2021-02-11T19:11:52.507008Z\", \"created_time\": \"2021-02-11T19:10:17.383711Z\", \"created_time_dt\": \"2021-02-11T19:10:17.383711Z\", \"duration\": \"0:01:35\", \"iteration\": \"4\", \"goal\": \"AUC_weighted_max\", \"run_name\": \"MaxAbsScaler, RandomForest\", \"run_properties\": \"copy=True\", \"primary_metric\": 0.76908177, \"best_metric\": 0.79026261}, {\"run_id\": \"AutoML_b1870f09-4190-4612-b6ef-ed0770d273ed_2\", \"run_number\": 7, \"metric\": null, \"status\": \"Completed\", \"run_type\": \"azureml.scriptrun\", \"training_percent\": \"100\", \"start_time\": \"2021-02-11T19:10:32.075331Z\", \"end_time\": \"2021-02-11T19:11:43.830363Z\", \"created_time\": \"2021-02-11T19:10:17.381134Z\", \"created_time_dt\": \"2021-02-11T19:10:17.381134Z\", \"duration\": \"0:01:26\", \"iteration\": \"2\", \"goal\": \"AUC_weighted_max\", \"run_name\": \"MaxAbsScaler, RandomForest\", \"run_properties\": \"copy=True\", \"primary_metric\": 0.79026261, \"best_metric\": 0.79026261}, {\"run_id\": \"AutoML_b1870f09-4190-4612-b6ef-ed0770d273ed_1\", \"run_number\": 8, \"metric\": null, \"status\": \"Completed\", \"run_type\": \"azureml.scriptrun\", \"training_percent\": \"100\", \"start_time\": \"2021-02-11T19:10:33.290934Z\", \"end_time\": \"2021-02-11T19:11:41.012209Z\", \"created_time\": \"2021-02-11T19:10:17.404966Z\", \"created_time_dt\": \"2021-02-11T19:10:17.404966Z\", \"duration\": \"0:01:23\", \"iteration\": \"1\", \"goal\": \"AUC_weighted_max\", \"run_name\": \"MaxAbsScaler, XGBoostClassifier\", \"run_properties\": \"copy=True\", \"primary_metric\": 0.78319811, \"best_metric\": 0.78319811}, {\"run_id\": \"AutoML_b1870f09-4190-4612-b6ef-ed0770d273ed_0\", \"run_number\": 9, \"metric\": null, \"status\": \"Completed\", \"run_type\": \"azureml.scriptrun\", \"training_percent\": \"100\", \"start_time\": \"2021-02-11T19:10:32.323378Z\", \"end_time\": \"2021-02-11T19:11:46.891336Z\", \"created_time\": \"2021-02-11T19:10:17.584609Z\", \"created_time_dt\": \"2021-02-11T19:10:17.584609Z\", \"duration\": \"0:01:29\", \"iteration\": \"0\", \"goal\": \"AUC_weighted_max\", \"run_name\": \"MaxAbsScaler, LightGBM\", \"run_properties\": \"copy=True\", \"primary_metric\": 0.77369122, \"best_metric\": 0.77369122}, {\"run_id\": \"AutoML_b1870f09-4190-4612-b6ef-ed0770d273ed_3\", \"run_number\": 10, \"metric\": null, \"status\": \"Completed\", \"run_type\": \"azureml.scriptrun\", \"training_percent\": \"100\", \"start_time\": \"2021-02-11T19:10:31.602411Z\", \"end_time\": \"2021-02-11T19:11:42.770352Z\", \"created_time\": \"2021-02-11T19:10:17.380808Z\", \"created_time_dt\": \"2021-02-11T19:10:17.380808Z\", \"duration\": \"0:01:25\", \"iteration\": \"3\", \"goal\": \"AUC_weighted_max\", \"run_name\": \"MaxAbsScaler, RandomForest\", \"run_properties\": \"copy=True\", \"primary_metric\": 0.76764232, \"best_metric\": 0.79026261}, {\"run_id\": \"AutoML_b1870f09-4190-4612-b6ef-ed0770d273ed_5\", \"run_number\": 11, \"metric\": null, \"status\": \"Completed\", \"run_type\": \"azureml.scriptrun\", \"training_percent\": \"100\", \"start_time\": \"2021-02-11T19:11:59.474069Z\", \"end_time\": \"2021-02-11T19:13:08.844412Z\", \"created_time\": \"2021-02-11T19:11:42.267411Z\", \"created_time_dt\": \"2021-02-11T19:11:42.267411Z\", \"duration\": \"0:01:26\", \"iteration\": \"5\", \"goal\": \"AUC_weighted_max\", \"run_name\": \"MaxAbsScaler, ExtremeRandomTrees\", \"run_properties\": \"copy=True\", \"primary_metric\": 0.76750755, \"best_metric\": 0.79026261}, {\"run_id\": \"AutoML_b1870f09-4190-4612-b6ef-ed0770d273ed_6\", \"run_number\": 12, \"metric\": null, \"status\": \"Completed\", \"run_type\": \"azureml.scriptrun\", \"training_percent\": \"100\", \"start_time\": \"2021-02-11T19:12:02.548945Z\", \"end_time\": \"2021-02-11T19:13:07.316639Z\", \"created_time\": \"2021-02-11T19:11:47.065522Z\", \"created_time_dt\": \"2021-02-11T19:11:47.065522Z\", \"duration\": \"0:01:20\", \"iteration\": \"6\", \"goal\": \"AUC_weighted_max\", \"run_name\": \"MaxAbsScaler, ExtremeRandomTrees\", \"run_properties\": \"copy=True\", \"primary_metric\": 0.7889697, \"best_metric\": 0.79026261}, {\"run_id\": \"AutoML_b1870f09-4190-4612-b6ef-ed0770d273ed_7\", \"run_number\": 13, \"metric\": null, \"status\": \"Completed\", \"run_type\": \"azureml.scriptrun\", \"training_percent\": \"100\", \"start_time\": \"2021-02-11T19:12:02.692407Z\", \"end_time\": \"2021-02-11T19:13:07.940301Z\", \"created_time\": \"2021-02-11T19:11:47.087997Z\", \"created_time_dt\": \"2021-02-11T19:11:47.087997Z\", \"duration\": \"0:01:20\", \"iteration\": \"7\", \"goal\": \"AUC_weighted_max\", \"run_name\": \"MaxAbsScaler, ExtremeRandomTrees\", \"run_properties\": \"copy=True\", \"primary_metric\": 0.77784476, \"best_metric\": 0.79026261}, {\"run_id\": \"AutoML_b1870f09-4190-4612-b6ef-ed0770d273ed_8\", \"run_number\": 14, \"metric\": null, \"status\": \"Completed\", \"run_type\": \"azureml.scriptrun\", \"training_percent\": \"100\", \"start_time\": \"2021-02-11T19:12:04.576386Z\", \"end_time\": \"2021-02-11T19:13:12.040698Z\", \"created_time\": \"2021-02-11T19:11:52.554871Z\", \"created_time_dt\": \"2021-02-11T19:11:52.554871Z\", \"duration\": \"0:01:19\", \"iteration\": \"8\", \"goal\": \"AUC_weighted_max\", \"run_name\": \"MaxAbsScaler, RandomForest\", \"run_properties\": \"copy=True\", \"primary_metric\": 0.78633792, \"best_metric\": 0.79026261}, {\"run_id\": \"AutoML_b1870f09-4190-4612-b6ef-ed0770d273ed_9\", \"run_number\": 15, \"metric\": null, \"status\": \"Completed\", \"run_type\": \"azureml.scriptrun\", \"training_percent\": \"100\", \"start_time\": \"2021-02-11T19:12:07.780047Z\", \"end_time\": \"2021-02-11T19:13:13.440433Z\", \"created_time\": \"2021-02-11T19:11:57.444789Z\", \"created_time_dt\": \"2021-02-11T19:11:57.444789Z\", \"duration\": \"0:01:15\", \"iteration\": \"9\", \"goal\": \"AUC_weighted_max\", \"run_name\": \"MaxAbsScaler, ExtremeRandomTrees\", \"run_properties\": \"copy=True\", \"primary_metric\": 0.78970226, \"best_metric\": 0.79026261}, {\"run_id\": \"AutoML_b1870f09-4190-4612-b6ef-ed0770d273ed_10\", \"run_number\": 16, \"metric\": null, \"status\": \"Completed\", \"run_type\": \"azureml.scriptrun\", \"training_percent\": \"100\", \"start_time\": \"2021-02-11T19:13:22.405525Z\", \"end_time\": \"2021-02-11T19:14:28.957462Z\", \"created_time\": \"2021-02-11T19:13:11.222748Z\", \"created_time_dt\": \"2021-02-11T19:13:11.222748Z\", \"duration\": \"0:01:17\", \"iteration\": \"10\", \"goal\": \"AUC_weighted_max\", \"run_name\": \"MaxAbsScaler, RandomForest\", \"run_properties\": \"copy=True\", \"primary_metric\": 0.74112354, \"best_metric\": 0.79026261}, {\"run_id\": \"AutoML_b1870f09-4190-4612-b6ef-ed0770d273ed_11\", \"run_number\": 17, \"metric\": null, \"status\": \"Completed\", \"run_type\": \"azureml.scriptrun\", \"training_percent\": \"100\", \"start_time\": \"2021-02-11T19:13:22.225515Z\", \"end_time\": \"2021-02-11T19:14:32.83511Z\", \"created_time\": \"2021-02-11T19:13:11.397364Z\", \"created_time_dt\": \"2021-02-11T19:13:11.397364Z\", \"duration\": \"0:01:21\", \"iteration\": \"11\", \"goal\": \"AUC_weighted_max\", \"run_name\": \"MaxAbsScaler, RandomForest\", \"run_properties\": \"copy=True\", \"primary_metric\": 0.75816008, \"best_metric\": 0.79026261}, {\"run_id\": \"AutoML_b1870f09-4190-4612-b6ef-ed0770d273ed_13\", \"run_number\": 18, \"metric\": null, \"status\": \"Completed\", \"run_type\": \"azureml.scriptrun\", \"training_percent\": \"100\", \"start_time\": \"2021-02-11T19:13:28.761829Z\", \"end_time\": \"2021-02-11T19:14:34.953662Z\", \"created_time\": \"2021-02-11T19:13:17.725902Z\", \"created_time_dt\": \"2021-02-11T19:13:17.725902Z\", \"duration\": \"0:01:17\", \"iteration\": \"13\", \"goal\": \"AUC_weighted_max\", \"run_name\": \"StandardScalerWrapper, XGBoostClassifier\", \"run_properties\": \"<azureml.automl.runtime.shared.model_wrappers.StandardScalerWrapper object at 0x7fdfe939ffd0\", \"primary_metric\": 0.76004381, \"best_metric\": 0.79026261}, {\"run_id\": \"AutoML_b1870f09-4190-4612-b6ef-ed0770d273ed_14\", \"run_number\": 19, \"metric\": null, \"status\": \"Completed\", \"run_type\": \"azureml.scriptrun\", \"training_percent\": \"100\", \"start_time\": \"2021-02-11T19:13:30.200167Z\", \"end_time\": \"2021-02-11T19:14:31.362061Z\", \"created_time\": \"2021-02-11T19:13:17.737176Z\", \"created_time_dt\": \"2021-02-11T19:13:17.737176Z\", \"duration\": \"0:01:13\", \"iteration\": \"14\", \"goal\": \"AUC_weighted_max\", \"run_name\": \"MaxAbsScaler, RandomForest\", \"run_properties\": \"copy=True\", \"primary_metric\": 0.75008349, \"best_metric\": 0.79026261}, {\"run_id\": \"AutoML_b1870f09-4190-4612-b6ef-ed0770d273ed_12\", \"run_number\": 20, \"metric\": null, \"status\": \"Completed\", \"run_type\": \"azureml.scriptrun\", \"training_percent\": \"100\", \"start_time\": \"2021-02-11T19:13:29.37926Z\", \"end_time\": \"2021-02-11T19:14:32.192992Z\", \"created_time\": \"2021-02-11T19:13:17.692192Z\", \"created_time_dt\": \"2021-02-11T19:13:17.692192Z\", \"duration\": \"0:01:14\", \"iteration\": \"12\", \"goal\": \"AUC_weighted_max\", \"run_name\": \"MaxAbsScaler, RandomForest\", \"run_properties\": \"copy=True\", \"primary_metric\": 0.78474486, \"best_metric\": 0.79026261}, {\"run_id\": \"AutoML_b1870f09-4190-4612-b6ef-ed0770d273ed_15\", \"run_number\": 21, \"metric\": null, \"status\": \"Completed\", \"run_type\": \"azureml.scriptrun\", \"training_percent\": \"100\", \"start_time\": \"2021-02-11T19:14:44.514846Z\", \"end_time\": \"2021-02-11T19:15:55.713828Z\", \"created_time\": \"2021-02-11T19:14:32.046747Z\", \"created_time_dt\": \"2021-02-11T19:14:32.046747Z\", \"duration\": \"0:01:23\", \"iteration\": \"15\", \"goal\": \"AUC_weighted_max\", \"run_name\": \"StandardScalerWrapper, ExtremeRandomTrees\", \"run_properties\": \"<azureml.automl.runtime.shared.model_wrappers.StandardScalerWrapper object at 0x7f4d843095f8\", \"primary_metric\": 0.74143321, \"best_metric\": 0.79026261}, {\"run_id\": \"AutoML_b1870f09-4190-4612-b6ef-ed0770d273ed_16\", \"run_number\": 22, \"metric\": null, \"status\": \"Completed\", \"run_type\": \"azureml.scriptrun\", \"training_percent\": \"100\", \"start_time\": \"2021-02-11T19:14:49.96953Z\", \"end_time\": \"2021-02-11T19:15:54.084286Z\", \"created_time\": \"2021-02-11T19:14:36.85052Z\", \"created_time_dt\": \"2021-02-11T19:14:36.85052Z\", \"duration\": \"0:01:17\", \"iteration\": \"16\", \"goal\": \"AUC_weighted_max\", \"run_name\": \"MaxAbsScaler, ExtremeRandomTrees\", \"run_properties\": \"copy=True\", \"primary_metric\": 0.78517235, \"best_metric\": 0.79026261}, {\"run_id\": \"AutoML_b1870f09-4190-4612-b6ef-ed0770d273ed_18\", \"run_number\": 23, \"metric\": null, \"status\": \"Completed\", \"run_type\": \"azureml.scriptrun\", \"training_percent\": \"100\", \"start_time\": \"2021-02-11T19:14:50.441479Z\", \"end_time\": \"2021-02-11T19:16:01.012275Z\", \"created_time\": \"2021-02-11T19:14:36.877884Z\", \"created_time_dt\": \"2021-02-11T19:14:36.877884Z\", \"duration\": \"0:01:24\", \"iteration\": \"18\", \"goal\": \"AUC_weighted_max\", \"run_name\": \"MaxAbsScaler, RandomForest\", \"run_properties\": \"copy=True\", \"primary_metric\": 0.77717363, \"best_metric\": 0.79026261}, {\"run_id\": \"AutoML_b1870f09-4190-4612-b6ef-ed0770d273ed_17\", \"run_number\": 24, \"metric\": null, \"status\": \"Completed\", \"run_type\": \"azureml.scriptrun\", \"training_percent\": \"100\", \"start_time\": \"2021-02-11T19:14:52.933049Z\", \"end_time\": \"2021-02-11T19:16:00.607384Z\", \"created_time\": \"2021-02-11T19:14:37.203618Z\", \"created_time_dt\": \"2021-02-11T19:14:37.203618Z\", \"duration\": \"0:01:23\", \"iteration\": \"17\", \"goal\": \"AUC_weighted_max\", \"run_name\": \"MaxAbsScaler, ExtremeRandomTrees\", \"run_properties\": \"copy=True\", \"primary_metric\": 0.78496401, \"best_metric\": 0.79026261}, {\"run_id\": \"AutoML_b1870f09-4190-4612-b6ef-ed0770d273ed_19\", \"run_number\": 25, \"metric\": null, \"status\": \"Completed\", \"run_type\": \"azureml.scriptrun\", \"training_percent\": \"100\", \"start_time\": \"2021-02-11T19:14:58.927862Z\", \"end_time\": \"2021-02-11T19:16:03.42959Z\", \"created_time\": \"2021-02-11T19:14:46.538221Z\", \"created_time_dt\": \"2021-02-11T19:14:46.538221Z\", \"duration\": \"0:01:16\", \"iteration\": \"19\", \"goal\": \"AUC_weighted_max\", \"run_name\": \"StandardScalerWrapper, XGBoostClassifier\", \"run_properties\": \"<azureml.automl.runtime.shared.model_wrappers.StandardScalerWrapper object at 0x7fdc48f35a20\", \"primary_metric\": 0.76345302, \"best_metric\": 0.79026261}, {\"run_id\": \"AutoML_b1870f09-4190-4612-b6ef-ed0770d273ed_20\", \"run_number\": 26, \"metric\": null, \"status\": \"Completed\", \"run_type\": \"azureml.scriptrun\", \"training_percent\": \"100\", \"start_time\": \"2021-02-11T19:16:09.761273Z\", \"end_time\": \"2021-02-11T19:17:15.408258Z\", \"created_time\": \"2021-02-11T19:15:57.774781Z\", \"created_time_dt\": \"2021-02-11T19:15:57.774781Z\", \"duration\": \"0:01:17\", \"iteration\": \"20\", \"goal\": \"AUC_weighted_max\", \"run_name\": \"MaxAbsScaler, LightGBM\", \"run_properties\": \"copy=True\", \"primary_metric\": 0.81074418, \"best_metric\": 0.81074418}, {\"run_id\": \"AutoML_b1870f09-4190-4612-b6ef-ed0770d273ed_21\", \"run_number\": 27, \"metric\": null, \"status\": \"Completed\", \"run_type\": \"azureml.scriptrun\", \"training_percent\": \"100\", \"start_time\": \"2021-02-11T19:16:11.765089Z\", \"end_time\": \"2021-02-11T19:17:14.539843Z\", \"created_time\": \"2021-02-11T19:16:01.996884Z\", \"created_time_dt\": \"2021-02-11T19:16:01.996884Z\", \"duration\": \"0:01:12\", \"iteration\": \"21\", \"goal\": \"AUC_weighted_max\", \"run_name\": \"MaxAbsScaler, LightGBM\", \"run_properties\": \"copy=True\", \"primary_metric\": 0.78782526, \"best_metric\": 0.81074418}, {\"run_id\": \"AutoML_b1870f09-4190-4612-b6ef-ed0770d273ed_22\", \"run_number\": 28, \"metric\": null, \"status\": \"Completed\", \"run_type\": \"azureml.scriptrun\", \"training_percent\": \"100\", \"start_time\": \"2021-02-11T19:16:14.701044Z\", \"end_time\": \"2021-02-11T19:17:21.959004Z\", \"created_time\": \"2021-02-11T19:16:04.968254Z\", \"created_time_dt\": \"2021-02-11T19:16:04.968254Z\", \"duration\": \"0:01:16\", \"iteration\": \"22\", \"goal\": \"AUC_weighted_max\", \"run_name\": \"MaxAbsScaler, LightGBM\", \"run_properties\": \"copy=True\", \"primary_metric\": 0.79349527, \"best_metric\": 0.81074418}, {\"run_id\": \"AutoML_b1870f09-4190-4612-b6ef-ed0770d273ed_23\", \"run_number\": 29, \"metric\": null, \"status\": \"Completed\", \"run_type\": \"azureml.scriptrun\", \"training_percent\": \"100\", \"start_time\": \"2021-02-11T19:16:14.925729Z\", \"end_time\": \"2021-02-11T19:17:24.177607Z\", \"created_time\": \"2021-02-11T19:16:05.016273Z\", \"created_time_dt\": \"2021-02-11T19:16:05.016273Z\", \"duration\": \"0:01:19\", \"iteration\": \"23\", \"goal\": \"AUC_weighted_max\", \"run_name\": \"MaxAbsScaler, LightGBM\", \"run_properties\": \"copy=True\", \"primary_metric\": 0.81246252, \"best_metric\": 0.81246252}, {\"run_id\": \"AutoML_b1870f09-4190-4612-b6ef-ed0770d273ed_24\", \"run_number\": 30, \"metric\": null, \"status\": \"Completed\", \"run_type\": \"azureml.scriptrun\", \"training_percent\": \"100\", \"start_time\": \"2021-02-11T19:16:20.12727Z\", \"end_time\": \"2021-02-11T19:17:25.486575Z\", \"created_time\": \"2021-02-11T19:16:08.004873Z\", \"created_time_dt\": \"2021-02-11T19:16:08.004873Z\", \"duration\": \"0:01:17\", \"iteration\": \"24\", \"goal\": \"AUC_weighted_max\", \"run_name\": \"MaxAbsScaler, LightGBM\", \"run_properties\": \"copy=True\", \"primary_metric\": 0.79126903, \"best_metric\": 0.81246252}, {\"run_id\": \"AutoML_b1870f09-4190-4612-b6ef-ed0770d273ed_25\", \"run_number\": 31, \"metric\": null, \"status\": \"Completed\", \"run_type\": \"azureml.scriptrun\", \"training_percent\": \"100\", \"start_time\": \"2021-02-11T19:17:30.324Z\", \"end_time\": \"2021-02-11T19:18:45.783109Z\", \"created_time\": \"2021-02-11T19:17:18.251528Z\", \"created_time_dt\": \"2021-02-11T19:17:18.251528Z\", \"duration\": \"0:01:27\", \"iteration\": \"25\", \"goal\": \"AUC_weighted_max\", \"run_name\": \"MaxAbsScaler, RandomForest\", \"run_properties\": \"copy=True\", \"primary_metric\": 0.63221659, \"best_metric\": 0.81246252}, {\"run_id\": \"AutoML_b1870f09-4190-4612-b6ef-ed0770d273ed_26\", \"run_number\": 32, \"metric\": null, \"status\": \"Completed\", \"run_type\": \"azureml.scriptrun\", \"training_percent\": \"100\", \"start_time\": \"2021-02-11T19:17:35.268392Z\", \"end_time\": \"2021-02-11T19:18:38.238625Z\", \"created_time\": \"2021-02-11T19:17:23.324596Z\", \"created_time_dt\": \"2021-02-11T19:17:23.324596Z\", \"duration\": \"0:01:14\", \"iteration\": \"26\", \"goal\": \"AUC_weighted_max\", \"run_name\": \"StandardScalerWrapper, LightGBM\", \"run_properties\": \"<azureml.automl.runtime.shared.model_wrappers.StandardScalerWrapper object at 0x7fb69e194da0\", \"primary_metric\": 0.78879376, \"best_metric\": 0.81246252}, {\"run_id\": \"AutoML_b1870f09-4190-4612-b6ef-ed0770d273ed_27\", \"run_number\": 33, \"metric\": null, \"status\": \"Completed\", \"run_type\": \"azureml.scriptrun\", \"training_percent\": \"100\", \"start_time\": \"2021-02-11T19:17:41.71804Z\", \"end_time\": \"2021-02-11T19:18:43.557925Z\", \"created_time\": \"2021-02-11T19:17:28.132143Z\", \"created_time_dt\": \"2021-02-11T19:17:28.132143Z\", \"duration\": \"0:01:15\", \"iteration\": \"27\", \"goal\": \"AUC_weighted_max\", \"run_name\": \"StandardScalerWrapper, LogisticRegression\", \"run_properties\": \"<azureml.automl.runtime.shared.model_wrappers.StandardScalerWrapper object at 0x7fdbbb50a8d0\", \"primary_metric\": 0.79430277, \"best_metric\": 0.81246252}, {\"run_id\": \"AutoML_b1870f09-4190-4612-b6ef-ed0770d273ed_28\", \"run_number\": 34, \"metric\": null, \"status\": \"Completed\", \"run_type\": \"azureml.scriptrun\", \"training_percent\": \"100\", \"start_time\": \"2021-02-11T19:17:39.610101Z\", \"end_time\": \"2021-02-11T19:18:43.014843Z\", \"created_time\": \"2021-02-11T19:17:28.300024Z\", \"created_time_dt\": \"2021-02-11T19:17:28.300024Z\", \"duration\": \"0:01:14\", \"iteration\": \"28\", \"goal\": \"AUC_weighted_max\", \"run_name\": \"StandardScalerWrapper, LinearSVM\", \"run_properties\": \"<azureml.automl.runtime.shared.model_wrappers.StandardScalerWrapper object at 0x7f19e009fd30\", \"primary_metric\": 0.7869207, \"best_metric\": 0.81246252}, {\"run_id\": \"AutoML_b1870f09-4190-4612-b6ef-ed0770d273ed_29\", \"run_number\": 35, \"metric\": null, \"status\": \"Completed\", \"run_type\": \"azureml.scriptrun\", \"training_percent\": \"100\", \"start_time\": \"2021-02-11T19:17:40.620789Z\", \"end_time\": \"2021-02-11T19:18:43.105062Z\", \"created_time\": \"2021-02-11T19:17:28.351656Z\", \"created_time_dt\": \"2021-02-11T19:17:28.351656Z\", \"duration\": \"0:01:14\", \"iteration\": \"29\", \"goal\": \"AUC_weighted_max\", \"run_name\": \"MaxAbsScaler, LogisticRegression\", \"run_properties\": \"copy=True\", \"primary_metric\": 0.7854066, \"best_metric\": 0.81246252}, {\"run_id\": \"AutoML_b1870f09-4190-4612-b6ef-ed0770d273ed_30\", \"run_number\": 36, \"metric\": null, \"status\": \"Completed\", \"run_type\": \"azureml.scriptrun\", \"training_percent\": \"100\", \"start_time\": \"2021-02-11T19:18:58.613522Z\", \"end_time\": \"2021-02-11T19:20:04.76955Z\", \"created_time\": \"2021-02-11T19:18:40.912226Z\", \"created_time_dt\": \"2021-02-11T19:18:40.912226Z\", \"duration\": \"0:01:23\", \"iteration\": \"30\", \"goal\": \"AUC_weighted_max\", \"run_name\": \"StandardScalerWrapper, LightGBM\", \"run_properties\": \"<azureml.automl.runtime.shared.model_wrappers.StandardScalerWrapper object at 0x7f7d2658b8d0\", \"primary_metric\": 0.79261327, \"best_metric\": 0.81246252}, {\"run_id\": \"AutoML_b1870f09-4190-4612-b6ef-ed0770d273ed_31\", \"run_number\": 37, \"metric\": null, \"status\": \"Completed\", \"run_type\": \"azureml.scriptrun\", \"training_percent\": \"100\", \"start_time\": \"2021-02-11T19:18:59.069517Z\", \"end_time\": \"2021-02-11T19:20:16.820766Z\", \"created_time\": \"2021-02-11T19:18:44.820272Z\", \"created_time_dt\": \"2021-02-11T19:18:44.820272Z\", \"duration\": \"0:01:32\", \"iteration\": \"31\", \"goal\": \"AUC_weighted_max\", \"run_name\": \"TruncatedSVDWrapper, ExtremeRandomTrees\", \"run_properties\": \"n_components=0.8510526315789474, random_state=None\", \"primary_metric\": 0.76136878, \"best_metric\": 0.81246252}, {\"run_id\": \"AutoML_b1870f09-4190-4612-b6ef-ed0770d273ed_32\", \"run_number\": 38, \"metric\": null, \"status\": \"Completed\", \"run_type\": \"azureml.scriptrun\", \"training_percent\": \"100\", \"start_time\": \"2021-02-11T19:18:59.511994Z\", \"end_time\": \"2021-02-11T19:20:09.916324Z\", \"created_time\": \"2021-02-11T19:18:44.867974Z\", \"created_time_dt\": \"2021-02-11T19:18:44.867974Z\", \"duration\": \"0:01:25\", \"iteration\": \"32\", \"goal\": \"AUC_weighted_max\", \"run_name\": \"SparseNormalizer, GradientBoosting\", \"run_properties\": \"<azureml.automl.runtime.shared.model_wrappers.SparseNormalizer object at 0x7fa1083c5da0\", \"primary_metric\": 0.79368389, \"best_metric\": 0.81246252}, {\"run_id\": \"AutoML_b1870f09-4190-4612-b6ef-ed0770d273ed_33\", \"run_number\": 39, \"metric\": null, \"status\": \"Completed\", \"run_type\": \"azureml.scriptrun\", \"training_percent\": \"100\", \"start_time\": \"2021-02-11T19:19:00.611049Z\", \"end_time\": \"2021-02-11T19:20:09.596401Z\", \"created_time\": \"2021-02-11T19:18:50.020928Z\", \"created_time_dt\": \"2021-02-11T19:18:50.020928Z\", \"duration\": \"0:01:19\", \"iteration\": \"33\", \"goal\": \"AUC_weighted_max\", \"run_name\": \"StandardScalerWrapper, LightGBM\", \"run_properties\": \"<azureml.automl.runtime.shared.model_wrappers.StandardScalerWrapper object at 0x7f60cc81cc88\", \"primary_metric\": 0.79814123, \"best_metric\": 0.81246252}, {\"run_id\": \"AutoML_b1870f09-4190-4612-b6ef-ed0770d273ed_34\", \"run_number\": 40, \"metric\": null, \"status\": \"Completed\", \"run_type\": \"azureml.scriptrun\", \"training_percent\": \"100\", \"start_time\": \"2021-02-11T19:19:14.141904Z\", \"end_time\": \"2021-02-11T19:20:16.710934Z\", \"created_time\": \"2021-02-11T19:18:50.039589Z\", \"created_time_dt\": \"2021-02-11T19:18:50.039589Z\", \"duration\": \"0:01:26\", \"iteration\": \"34\", \"goal\": \"AUC_weighted_max\", \"run_name\": \"SparseNormalizer, LightGBM\", \"run_properties\": \"<azureml.automl.runtime.shared.model_wrappers.SparseNormalizer object at 0x7f62055e6ba8\", \"primary_metric\": 0.81211859, \"best_metric\": 0.81246252}, {\"run_id\": \"AutoML_b1870f09-4190-4612-b6ef-ed0770d273ed_35\", \"run_number\": 41, \"metric\": null, \"status\": \"Completed\", \"run_type\": \"azureml.scriptrun\", \"training_percent\": \"100\", \"start_time\": \"2021-02-11T19:20:52.02013Z\", \"end_time\": \"2021-02-11T19:22:25.681454Z\", \"created_time\": \"2021-02-11T19:20:07.687226Z\", \"created_time_dt\": \"2021-02-11T19:20:07.687226Z\", \"duration\": \"0:02:17\", \"iteration\": \"35\", \"goal\": \"AUC_weighted_max\", \"run_name\": \"SparseNormalizer, LightGBM\", \"run_properties\": \"<azureml.automl.runtime.shared.model_wrappers.SparseNormalizer object at 0x7f104fd4b550\", \"primary_metric\": 0.80234008, \"best_metric\": 0.81246252}, {\"run_id\": \"AutoML_b1870f09-4190-4612-b6ef-ed0770d273ed_36\", \"run_number\": 42, \"metric\": null, \"status\": \"Completed\", \"run_type\": \"azureml.scriptrun\", \"training_percent\": \"100\", \"start_time\": \"2021-02-11T19:20:26.590551Z\", \"end_time\": \"2021-02-11T19:21:35.771809Z\", \"created_time\": \"2021-02-11T19:20:11.156173Z\", \"created_time_dt\": \"2021-02-11T19:20:11.156173Z\", \"duration\": \"0:01:24\", \"iteration\": \"36\", \"goal\": \"AUC_weighted_max\", \"run_name\": \"StandardScalerWrapper, LogisticRegression\", \"run_properties\": \"<azureml.automl.runtime.shared.model_wrappers.StandardScalerWrapper object at 0x7f1f292a0518\", \"primary_metric\": 0.79087215, \"best_metric\": 0.81246252}, {\"run_id\": \"AutoML_b1870f09-4190-4612-b6ef-ed0770d273ed_37\", \"run_number\": 43, \"metric\": null, \"status\": \"Completed\", \"run_type\": \"azureml.scriptrun\", \"training_percent\": \"100\", \"start_time\": \"2021-02-11T19:20:27.050203Z\", \"end_time\": \"2021-02-11T19:21:34.015032Z\", \"created_time\": \"2021-02-11T19:20:14.554785Z\", \"created_time_dt\": \"2021-02-11T19:20:14.554785Z\", \"duration\": \"0:01:19\", \"iteration\": \"37\", \"goal\": \"AUC_weighted_max\", \"run_name\": \"StandardScalerWrapper, LogisticRegression\", \"run_properties\": \"<azureml.automl.runtime.shared.model_wrappers.StandardScalerWrapper object at 0x7fbc3a7f6be0\", \"primary_metric\": 0.77354894, \"best_metric\": 0.81246252}, {\"run_id\": \"AutoML_b1870f09-4190-4612-b6ef-ed0770d273ed_38\", \"run_number\": 44, \"metric\": null, \"status\": \"Completed\", \"run_type\": \"azureml.scriptrun\", \"training_percent\": \"100\", \"start_time\": \"2021-02-11T19:20:35.429763Z\", \"end_time\": \"2021-02-11T19:21:44.173766Z\", \"created_time\": \"2021-02-11T19:20:18.447493Z\", \"created_time_dt\": \"2021-02-11T19:20:18.447493Z\", \"duration\": \"0:01:25\", \"iteration\": \"38\", \"goal\": \"AUC_weighted_max\", \"run_name\": \"SparseNormalizer, LightGBM\", \"run_properties\": \"<azureml.automl.runtime.shared.model_wrappers.SparseNormalizer object at 0x7f46649bf4e0\", \"primary_metric\": 0.79446931, \"best_metric\": 0.81246252}, {\"run_id\": \"AutoML_b1870f09-4190-4612-b6ef-ed0770d273ed_39\", \"run_number\": 45, \"metric\": null, \"status\": \"Canceled\", \"run_type\": \"azureml.scriptrun\", \"training_percent\": \"100\", \"start_time\": \"2021-02-11T19:21:37.176443Z\", \"end_time\": \"2021-02-11T19:22:34.033148Z\", \"created_time\": \"2021-02-11T19:20:18.454146Z\", \"created_time_dt\": \"2021-02-11T19:20:18.454146Z\", \"duration\": \"0:02:15\", \"iteration\": \"39\", \"goal\": \"AUC_weighted_max\", \"run_name\": \"StandardScalerWrapper, LightGBM\", \"run_properties\": \"<azureml.automl.runtime.shared.model_wrappers.StandardScalerWrapper object at 0x7f64ecd679b0\", \"primary_metric\": 0.79525795, \"best_metric\": 0.81246252}, {\"run_id\": \"AutoML_b1870f09-4190-4612-b6ef-ed0770d273ed_40\", \"run_number\": 46, \"metric\": null, \"status\": \"Canceled\", \"run_type\": \"azureml.scriptrun\", \"training_percent\": \"100\", \"start_time\": \"2021-02-11T19:21:47.145992Z\", \"end_time\": \"2021-02-11T19:22:35.146901Z\", \"created_time\": \"2021-02-11T19:21:37.020464Z\", \"created_time_dt\": \"2021-02-11T19:21:37.020464Z\", \"duration\": \"0:00:58\", \"iteration\": \"40\", \"goal\": null, \"run_name\": \"TruncatedSVDWrapper, LightGBM\", \"run_properties\": null, \"primary_metric\": 0.76835247, \"best_metric\": 0.81246252}, {\"run_id\": \"AutoML_b1870f09-4190-4612-b6ef-ed0770d273ed_41\", \"run_number\": 47, \"metric\": null, \"status\": \"Canceled\", \"run_type\": \"azureml.scriptrun\", \"training_percent\": \"100\", \"start_time\": \"2021-02-11T19:21:50.592983Z\", \"end_time\": \"2021-02-11T19:22:33.323252Z\", \"created_time\": \"2021-02-11T19:21:40.381516Z\", \"created_time_dt\": \"2021-02-11T19:21:40.381516Z\", \"duration\": \"0:00:52\", \"iteration\": \"41\", \"goal\": null, \"run_name\": \"MaxAbsScaler, LightGBM\", \"run_properties\": null}, {\"run_id\": \"AutoML_b1870f09-4190-4612-b6ef-ed0770d273ed_42\", \"run_number\": 48, \"metric\": null, \"status\": \"Canceled\", \"run_type\": \"azureml.scriptrun\", \"training_percent\": \"100\", \"start_time\": \"2021-02-11T19:21:56.460017Z\", \"end_time\": \"2021-02-11T19:22:33.679624Z\", \"created_time\": \"2021-02-11T19:21:45.890308Z\", \"created_time_dt\": \"2021-02-11T19:21:45.890308Z\", \"duration\": \"0:00:47\", \"iteration\": \"42\", \"goal\": null, \"run_name\": \"Canceled\", \"run_properties\": null}, {\"run_id\": \"AutoML_b1870f09-4190-4612-b6ef-ed0770d273ed_43\", \"run_number\": 49, \"metric\": null, \"status\": \"Completed\", \"run_type\": \"azureml.scriptrun\", \"training_percent\": \"100\", \"start_time\": \"2021-02-11T19:22:50.7854Z\", \"end_time\": \"2021-02-11T19:24:44.150581Z\", \"created_time\": \"2021-02-11T19:22:36.538263Z\", \"created_time_dt\": \"2021-02-11T19:22:36.538263Z\", \"duration\": \"0:02:07\", \"iteration\": \"43\", \"goal\": \"AUC_weighted_max\", \"run_name\": \"VotingEnsemble\", \"run_properties\": \"classification_labels=None,\\n                              estimators=[('23',\\n                                           Pipeline(memory=None,\\n                                                    steps=[('maxabsscaler',\\n                                                            MaxAbsScaler(copy=True\", \"primary_metric\": 0.83328615, \"best_metric\": 0.83328615}, {\"run_id\": \"AutoML_b1870f09-4190-4612-b6ef-ed0770d273ed_44\", \"run_number\": 50, \"metric\": null, \"status\": \"Completed\", \"run_type\": \"azureml.scriptrun\", \"training_percent\": \"100\", \"start_time\": \"2021-02-11T19:22:51.179516Z\", \"end_time\": \"2021-02-11T19:24:43.80508Z\", \"created_time\": \"2021-02-11T19:22:36.606711Z\", \"created_time_dt\": \"2021-02-11T19:22:36.606711Z\", \"duration\": \"0:02:07\", \"iteration\": \"44\", \"goal\": \"AUC_weighted_max\", \"run_name\": \"StackEnsemble\", \"run_properties\": \"base_learners=[('23',\\n                                        Pipeline(memory=None,\\n                                                 steps=[('maxabsscaler',\\n                                                         MaxAbsScaler(copy=True\", \"primary_metric\": 0.83244335, \"best_metric\": 0.83328615}], \"children_metrics\": {\"categories\": [0], \"series\": {\"AUC_macro\": [{\"categories\": [\"0\", \"1\", \"2\", \"3\", \"4\", \"5\", \"6\", \"7\", \"8\", \"9\", \"10\", \"11\", \"12\", \"13\", \"14\", \"15\", \"16\", \"17\", \"18\", \"19\", \"20\", \"21\", \"22\", \"23\", \"24\", \"25\", \"26\", \"27\", \"28\", \"29\", \"30\", \"31\", \"32\", \"33\", \"34\", \"35\", \"36\", \"37\", \"38\", \"39\", \"40\", \"43\", \"44\"], \"mode\": \"markers\", \"name\": \"AUC_macro\", \"stepped\": false, \"type\": \"scatter\", \"data\": [0.7736912208980099, 0.7831981073491354, 0.7902626055460787, 0.7676423235931135, 0.769081768337781, 0.7675075517205293, 0.7889697020542797, 0.777844760451938, 0.7863379174763923, 0.7897022585377472, 0.7411235354357725, 0.7581600767438887, 0.7847448630158297, 0.7600438066332932, 0.750083491885742, 0.741433206798086, 0.7851723534764483, 0.7849640095920064, 0.7771736339141686, 0.7634530181612945, 0.8107441796662856, 0.7878252643453584, 0.7934952698884072, 0.812462518923038, 0.7912690264520018, 0.6322165887464873, 0.7887937609035416, 0.7943027748359187, 0.7869206952280076, 0.7854065967316792, 0.7926132653521863, 0.7613687824226587, 0.7936838895987925, 0.7981412275986633, 0.8121185852112282, 0.8023400797102821, 0.7908721536203097, 0.7735489361246749, 0.7944693104547415, 0.7952579499106466, 0.7683524733525143, 0.8332861544179403, 0.8324433474423433]}, {\"categories\": [\"0\", \"1\", \"2\", \"3\", \"4\", \"5\", \"6\", \"7\", \"8\", \"9\", \"10\", \"11\", \"12\", \"13\", \"14\", \"15\", \"16\", \"17\", \"18\", \"19\", \"20\", \"21\", \"22\", \"23\", \"24\", \"25\", \"26\", \"27\", \"28\", \"29\", \"30\", \"31\", \"32\", \"33\", \"34\", \"35\", \"36\", \"37\", \"38\", \"39\", \"40\", \"43\", \"44\"], \"mode\": \"lines\", \"name\": \"AUC_macro_max\", \"stepped\": true, \"type\": \"scatter\", \"data\": [0.7736912208980099, 0.7831981073491354, 0.7902626055460787, 0.7902626055460787, 0.7902626055460787, 0.7902626055460787, 0.7902626055460787, 0.7902626055460787, 0.7902626055460787, 0.7902626055460787, 0.7902626055460787, 0.7902626055460787, 0.7902626055460787, 0.7902626055460787, 0.7902626055460787, 0.7902626055460787, 0.7902626055460787, 0.7902626055460787, 0.7902626055460787, 0.7902626055460787, 0.8107441796662856, 0.8107441796662856, 0.8107441796662856, 0.812462518923038, 0.812462518923038, 0.812462518923038, 0.812462518923038, 0.812462518923038, 0.812462518923038, 0.812462518923038, 0.812462518923038, 0.812462518923038, 0.812462518923038, 0.812462518923038, 0.812462518923038, 0.812462518923038, 0.812462518923038, 0.812462518923038, 0.812462518923038, 0.812462518923038, 0.812462518923038, 0.8332861544179403, 0.8332861544179403]}], \"recall_score_weighted\": [{\"categories\": [\"0\", \"1\", \"2\", \"3\", \"4\", \"5\", \"6\", \"7\", \"8\", \"9\", \"10\", \"11\", \"12\", \"13\", \"14\", \"15\", \"16\", \"17\", \"18\", \"19\", \"20\", \"21\", \"22\", \"23\", \"24\", \"25\", \"26\", \"27\", \"28\", \"29\", \"30\", \"31\", \"32\", \"33\", \"34\", \"35\", \"36\", \"37\", \"38\", \"39\", \"40\", \"43\", \"44\"], \"mode\": \"markers\", \"name\": \"recall_score_weighted\", \"stepped\": false, \"type\": \"scatter\", \"data\": [0.8571428571428572, 0.8687074829931972, 0.8401360544217686, 0.7965986394557824, 0.8387755102040817, 0.8394557823129252, 0.8476190476190477, 0.8387755102040817, 0.8387755102040817, 0.7666666666666666, 0.7108843537414966, 0.7380952380952381, 0.7299319727891156, 0.8571428571428572, 0.8387755102040817, 0.8462585034013604, 0.7537414965986396, 0.8074829931972789, 0.7374149659863946, 0.8537414965986395, 0.8639455782312925, 0.8605442176870749, 0.8653061224489796, 0.870748299319728, 0.8693877551020407, 0.8387755102040817, 0.8537414965986395, 0.7884353741496598, 0.8598639455782312, 0.7979591836734694, 0.8482993197278912, 0.8231292517006802, 0.8564625850340137, 0.8687074829931974, 0.8585034013605443, 0.8639455782312925, 0.8510204081632654, 0.8034013605442176, 0.864625850340136, 0.8564625850340136, 0.8496598639455782, 0.8659863945578231, 0.8721088435374149]}, {\"categories\": [\"0\", \"1\", \"2\", \"3\", \"4\", \"5\", \"6\", \"7\", \"8\", \"9\", \"10\", \"11\", \"12\", \"13\", \"14\", \"15\", \"16\", \"17\", \"18\", \"19\", \"20\", \"21\", \"22\", \"23\", \"24\", \"25\", \"26\", \"27\", \"28\", \"29\", \"30\", \"31\", \"32\", \"33\", \"34\", \"35\", \"36\", \"37\", \"38\", \"39\", \"40\", \"43\", \"44\"], \"mode\": \"lines\", \"name\": \"recall_score_weighted_max\", \"stepped\": true, \"type\": \"scatter\", \"data\": [0.8571428571428572, 0.8687074829931972, 0.8687074829931972, 0.8687074829931972, 0.8687074829931972, 0.8687074829931972, 0.8687074829931972, 0.8687074829931972, 0.8687074829931972, 0.8687074829931972, 0.8687074829931972, 0.8687074829931972, 0.8687074829931972, 0.8687074829931972, 0.8687074829931972, 0.8687074829931972, 0.8687074829931972, 0.8687074829931972, 0.8687074829931972, 0.8687074829931972, 0.8687074829931972, 0.8687074829931972, 0.8687074829931972, 0.870748299319728, 0.870748299319728, 0.870748299319728, 0.870748299319728, 0.870748299319728, 0.870748299319728, 0.870748299319728, 0.870748299319728, 0.870748299319728, 0.870748299319728, 0.870748299319728, 0.870748299319728, 0.870748299319728, 0.870748299319728, 0.870748299319728, 0.870748299319728, 0.870748299319728, 0.870748299319728, 0.870748299319728, 0.8721088435374149]}], \"recall_score_macro\": [{\"categories\": [\"0\", \"1\", \"2\", \"3\", \"4\", \"5\", \"6\", \"7\", \"8\", \"9\", \"10\", \"11\", \"12\", \"13\", \"14\", \"15\", \"16\", \"17\", \"18\", \"19\", \"20\", \"21\", \"22\", \"23\", \"24\", \"25\", \"26\", \"27\", \"28\", \"29\", \"30\", \"31\", \"32\", \"33\", \"34\", \"35\", \"36\", \"37\", \"38\", \"39\", \"40\", \"43\", \"44\"], \"mode\": \"markers\", \"name\": \"recall_score_macro\", \"stepped\": false, \"type\": \"scatter\", \"data\": [0.6169955152015519, 0.6229903874214235, 0.5052910052910052, 0.680226575054176, 0.5, 0.5216464057587182, 0.5339839705792793, 0.5, 0.5, 0.7200384382695502, 0.661947960855366, 0.7001336741049897, 0.7184774242544751, 0.581897406189551, 0.5, 0.6433430199860329, 0.7328446640645166, 0.701755696818629, 0.7185769544075158, 0.5965513083244182, 0.6286463792999477, 0.6429795738260117, 0.6390566744912772, 0.6241984083015756, 0.6320671041040872, 0.5, 0.6003541327269813, 0.7134866567787549, 0.5942241714450917, 0.7121446174275574, 0.5323709936829051, 0.6642536339214583, 0.5755949273346038, 0.618950048750469, 0.606019608546417, 0.6233442126357832, 0.7063322101133039, 0.7102867862659159, 0.6474530786019489, 0.6726874264161479, 0.5546972938895425, 0.6117077860299189, 0.6710795627866565]}, {\"categories\": [\"0\", \"1\", \"2\", \"3\", \"4\", \"5\", \"6\", \"7\", \"8\", \"9\", \"10\", \"11\", \"12\", \"13\", \"14\", \"15\", \"16\", \"17\", \"18\", \"19\", \"20\", \"21\", \"22\", \"23\", \"24\", \"25\", \"26\", \"27\", \"28\", \"29\", \"30\", \"31\", \"32\", \"33\", \"34\", \"35\", \"36\", \"37\", \"38\", \"39\", \"40\", \"43\", \"44\"], \"mode\": \"lines\", \"name\": \"recall_score_macro_max\", \"stepped\": true, \"type\": \"scatter\", \"data\": [0.6169955152015519, 0.6229903874214235, 0.6229903874214235, 0.680226575054176, 0.680226575054176, 0.680226575054176, 0.680226575054176, 0.680226575054176, 0.680226575054176, 0.7200384382695502, 0.7200384382695502, 0.7200384382695502, 0.7200384382695502, 0.7200384382695502, 0.7200384382695502, 0.7200384382695502, 0.7328446640645166, 0.7328446640645166, 0.7328446640645166, 0.7328446640645166, 0.7328446640645166, 0.7328446640645166, 0.7328446640645166, 0.7328446640645166, 0.7328446640645166, 0.7328446640645166, 0.7328446640645166, 0.7328446640645166, 0.7328446640645166, 0.7328446640645166, 0.7328446640645166, 0.7328446640645166, 0.7328446640645166, 0.7328446640645166, 0.7328446640645166, 0.7328446640645166, 0.7328446640645166, 0.7328446640645166, 0.7328446640645166, 0.7328446640645166, 0.7328446640645166, 0.7328446640645166, 0.7328446640645166]}], \"matthews_correlation\": [{\"categories\": [\"0\", \"1\", \"2\", \"3\", \"4\", \"5\", \"6\", \"7\", \"8\", \"9\", \"10\", \"11\", \"12\", \"13\", \"14\", \"15\", \"16\", \"17\", \"18\", \"19\", \"20\", \"21\", \"22\", \"23\", \"24\", \"25\", \"26\", \"27\", \"28\", \"29\", \"30\", \"31\", \"32\", \"33\", \"34\", \"35\", \"36\", \"37\", \"38\", \"39\", \"40\", \"43\", \"44\"], \"mode\": \"markers\", \"name\": \"matthews_correlation\", \"stepped\": false, \"type\": \"scatter\", \"data\": [0.3459258957679277, 0.4061484095565903, 0.05555555555555555, 0.3270702052887717, 0.0, 0.10458762389166236, 0.2193853406271672, 0.0, 0.0, 0.3575040903917806, 0.25414686308364365, 0.3164707658129822, 0.3381530914844863, 0.31511653277856605, 0.0, 0.3519867640182264, 0.36838281058711275, 0.36701780796516026, 0.34079053736907744, 0.31214832363185496, 0.3833958788695624, 0.3853447469555113, 0.3975190927753625, 0.41593755289994067, 0.41039047210461366, 0.0, 0.3159558569829802, 0.36299904794480736, 0.33975917447571885, 0.3702527114257572, 0.22274782378982402, 0.33201660398664945, 0.3097615224730519, 0.40421987249526525, 0.349745127713946, 0.3851911404100015, 0.42793157815090804, 0.3717736387244079, 0.4003368364620037, 0.4062572439869572, 0.24565920906798797, 0.3888480908516447, 0.4512582043660959]}, {\"categories\": [\"0\", \"1\", \"2\", \"3\", \"4\", \"5\", \"6\", \"7\", \"8\", \"9\", \"10\", \"11\", \"12\", \"13\", \"14\", \"15\", \"16\", \"17\", \"18\", \"19\", \"20\", \"21\", \"22\", \"23\", \"24\", \"25\", \"26\", \"27\", \"28\", \"29\", \"30\", \"31\", \"32\", \"33\", \"34\", \"35\", \"36\", \"37\", \"38\", \"39\", \"40\", \"43\", \"44\"], \"mode\": \"lines\", \"name\": \"matthews_correlation_max\", \"stepped\": true, \"type\": \"scatter\", \"data\": [0.3459258957679277, 0.4061484095565903, 0.4061484095565903, 0.4061484095565903, 0.4061484095565903, 0.4061484095565903, 0.4061484095565903, 0.4061484095565903, 0.4061484095565903, 0.4061484095565903, 0.4061484095565903, 0.4061484095565903, 0.4061484095565903, 0.4061484095565903, 0.4061484095565903, 0.4061484095565903, 0.4061484095565903, 0.4061484095565903, 0.4061484095565903, 0.4061484095565903, 0.4061484095565903, 0.4061484095565903, 0.4061484095565903, 0.41593755289994067, 0.41593755289994067, 0.41593755289994067, 0.41593755289994067, 0.41593755289994067, 0.41593755289994067, 0.41593755289994067, 0.41593755289994067, 0.41593755289994067, 0.41593755289994067, 0.41593755289994067, 0.41593755289994067, 0.41593755289994067, 0.42793157815090804, 0.42793157815090804, 0.42793157815090804, 0.42793157815090804, 0.42793157815090804, 0.42793157815090804, 0.4512582043660959]}], \"weighted_accuracy\": [{\"categories\": [\"0\", \"1\", \"2\", \"3\", \"4\", \"5\", \"6\", \"7\", \"8\", \"9\", \"10\", \"11\", \"12\", \"13\", \"14\", \"15\", \"16\", \"17\", \"18\", \"19\", \"20\", \"21\", \"22\", \"23\", \"24\", \"25\", \"26\", \"27\", \"28\", \"29\", \"30\", \"31\", \"32\", \"33\", \"34\", \"35\", \"36\", \"37\", \"38\", \"39\", \"40\", \"43\", \"44\"], \"mode\": \"markers\", \"name\": \"weighted_accuracy\", \"stepped\": false, \"type\": \"scatter\", \"data\": [0.9461140170377259, 0.9594331948884135, 0.9631182676813176, 0.8391020565674836, 0.9628928224269401, 0.9567327132344419, 0.9629869770806644, 0.9628928224269401, 0.9628928224269401, 0.7843182404489832, 0.7304318733838882, 0.7521324764378563, 0.7350369580099468, 0.9582607204656924, 0.9628928224269401, 0.9199429809518082, 0.7614535380215185, 0.8463995793678049, 0.7445756395469951, 0.9486630599625983, 0.9518470464881936, 0.9412626458670569, 0.949200781681052, 0.9612671574508336, 0.9571046438092031, 0.9628928224269401, 0.946838201916098, 0.8161118266134748, 0.9575778912382633, 0.8322162518673409, 0.9643985113225119, 0.8833132493808961, 0.9598569068173498, 0.9612754750645345, 0.9515169547414022, 0.952130637816258, 0.9054579008255453, 0.8390911881938125, 0.9456496356577379, 0.9250614105008679, 0.9588431182921129, 0.9604529149222975, 0.9473600602654778]}, {\"categories\": [\"0\", \"1\", \"2\", \"3\", \"4\", \"5\", \"6\", \"7\", \"8\", \"9\", \"10\", \"11\", \"12\", \"13\", \"14\", \"15\", \"16\", \"17\", \"18\", \"19\", \"20\", \"21\", \"22\", \"23\", \"24\", \"25\", \"26\", \"27\", \"28\", \"29\", \"30\", \"31\", \"32\", \"33\", \"34\", \"35\", \"36\", \"37\", \"38\", \"39\", \"40\", \"43\", \"44\"], \"mode\": \"lines\", \"name\": \"weighted_accuracy_max\", \"stepped\": true, \"type\": \"scatter\", \"data\": [0.9461140170377259, 0.9594331948884135, 0.9631182676813176, 0.9631182676813176, 0.9631182676813176, 0.9631182676813176, 0.9631182676813176, 0.9631182676813176, 0.9631182676813176, 0.9631182676813176, 0.9631182676813176, 0.9631182676813176, 0.9631182676813176, 0.9631182676813176, 0.9631182676813176, 0.9631182676813176, 0.9631182676813176, 0.9631182676813176, 0.9631182676813176, 0.9631182676813176, 0.9631182676813176, 0.9631182676813176, 0.9631182676813176, 0.9631182676813176, 0.9631182676813176, 0.9631182676813176, 0.9631182676813176, 0.9631182676813176, 0.9631182676813176, 0.9631182676813176, 0.9643985113225119, 0.9643985113225119, 0.9643985113225119, 0.9643985113225119, 0.9643985113225119, 0.9643985113225119, 0.9643985113225119, 0.9643985113225119, 0.9643985113225119, 0.9643985113225119, 0.9643985113225119, 0.9643985113225119, 0.9643985113225119]}], \"AUC_micro\": [{\"categories\": [\"0\", \"1\", \"2\", \"3\", \"4\", \"5\", \"6\", \"7\", \"8\", \"9\", \"10\", \"11\", \"12\", \"13\", \"14\", \"15\", \"16\", \"17\", \"18\", \"19\", \"20\", \"21\", \"22\", \"23\", \"24\", \"25\", \"26\", \"27\", \"28\", \"29\", \"30\", \"31\", \"32\", \"33\", \"34\", \"35\", \"36\", \"37\", \"38\", \"39\", \"40\", \"43\", \"44\"], \"mode\": \"markers\", \"name\": \"AUC_micro\", \"stepped\": false, \"type\": \"scatter\", \"data\": [0.9137831459114257, 0.91708315979453, 0.9153838678328475, 0.8723934471747884, 0.9097931417464945, 0.9102665556018326, 0.9156823545744829, 0.9121046786061363, 0.9149090656670831, 0.845801749271137, 0.7945897542690545, 0.8201638206302929, 0.8172330973205609, 0.9089434957656533, 0.9054185755935027, 0.9039316951270303, 0.8298917117867554, 0.8808899069832014, 0.8026433430515064, 0.9096390392891851, 0.9248896293211163, 0.9181049562682215, 0.91981674302374, 0.9253311120366514, 0.9193863667916147, 0.8740261002360127, 0.9176662501735389, 0.86013188949049, 0.9166319589060113, 0.8766527835624046, 0.9166472303206997, 0.8973399972233792, 0.9182465639316951, 0.9204067749548798, 0.9241066222407328, 0.9215410245730946, 0.910946827710676, 0.8746841593780369, 0.9208232680827432, 0.9180466472303208, 0.9108607524642509, 0.9306191864500902, 0.9320866305705956]}, {\"categories\": [\"0\", \"1\", \"2\", \"3\", \"4\", \"5\", \"6\", \"7\", \"8\", \"9\", \"10\", \"11\", \"12\", \"13\", \"14\", \"15\", \"16\", \"17\", \"18\", \"19\", \"20\", \"21\", \"22\", \"23\", \"24\", \"25\", \"26\", \"27\", \"28\", \"29\", \"30\", \"31\", \"32\", \"33\", \"34\", \"35\", \"36\", \"37\", \"38\", \"39\", \"40\", \"43\", \"44\"], \"mode\": \"lines\", \"name\": \"AUC_micro_max\", \"stepped\": true, \"type\": \"scatter\", \"data\": [0.9137831459114257, 0.91708315979453, 0.91708315979453, 0.91708315979453, 0.91708315979453, 0.91708315979453, 0.91708315979453, 0.91708315979453, 0.91708315979453, 0.91708315979453, 0.91708315979453, 0.91708315979453, 0.91708315979453, 0.91708315979453, 0.91708315979453, 0.91708315979453, 0.91708315979453, 0.91708315979453, 0.91708315979453, 0.91708315979453, 0.9248896293211163, 0.9248896293211163, 0.9248896293211163, 0.9253311120366514, 0.9253311120366514, 0.9253311120366514, 0.9253311120366514, 0.9253311120366514, 0.9253311120366514, 0.9253311120366514, 0.9253311120366514, 0.9253311120366514, 0.9253311120366514, 0.9253311120366514, 0.9253311120366514, 0.9253311120366514, 0.9253311120366514, 0.9253311120366514, 0.9253311120366514, 0.9253311120366514, 0.9253311120366514, 0.9306191864500902, 0.9320866305705956]}], \"precision_score_micro\": [{\"categories\": [\"0\", \"1\", \"2\", \"3\", \"4\", \"5\", \"6\", \"7\", \"8\", \"9\", \"10\", \"11\", \"12\", \"13\", \"14\", \"15\", \"16\", \"17\", \"18\", \"19\", \"20\", \"21\", \"22\", \"23\", \"24\", \"25\", \"26\", \"27\", \"28\", \"29\", \"30\", \"31\", \"32\", \"33\", \"34\", \"35\", \"36\", \"37\", \"38\", \"39\", \"40\", \"43\", \"44\"], \"mode\": \"markers\", \"name\": \"precision_score_micro\", \"stepped\": false, \"type\": \"scatter\", \"data\": [0.8571428571428572, 0.8687074829931972, 0.8401360544217686, 0.7965986394557824, 0.8387755102040817, 0.8394557823129252, 0.8476190476190477, 0.8387755102040817, 0.8387755102040817, 0.7666666666666666, 0.7108843537414966, 0.7380952380952381, 0.7299319727891156, 0.8571428571428572, 0.8387755102040817, 0.8462585034013604, 0.7537414965986396, 0.8074829931972789, 0.7374149659863946, 0.8537414965986395, 0.8639455782312925, 0.8605442176870749, 0.8653061224489796, 0.870748299319728, 0.8693877551020407, 0.8387755102040817, 0.8537414965986395, 0.7884353741496598, 0.8598639455782312, 0.7979591836734694, 0.8482993197278912, 0.8231292517006802, 0.8564625850340137, 0.8687074829931974, 0.8585034013605443, 0.8639455782312925, 0.8510204081632654, 0.8034013605442176, 0.864625850340136, 0.8564625850340136, 0.8496598639455782, 0.8659863945578231, 0.8721088435374149]}, {\"categories\": [\"0\", \"1\", \"2\", \"3\", \"4\", \"5\", \"6\", \"7\", \"8\", \"9\", \"10\", \"11\", \"12\", \"13\", \"14\", \"15\", \"16\", \"17\", \"18\", \"19\", \"20\", \"21\", \"22\", \"23\", \"24\", \"25\", \"26\", \"27\", \"28\", \"29\", \"30\", \"31\", \"32\", \"33\", \"34\", \"35\", \"36\", \"37\", \"38\", \"39\", \"40\", \"43\", \"44\"], \"mode\": \"lines\", \"name\": \"precision_score_micro_max\", \"stepped\": true, \"type\": \"scatter\", \"data\": [0.8571428571428572, 0.8687074829931972, 0.8687074829931972, 0.8687074829931972, 0.8687074829931972, 0.8687074829931972, 0.8687074829931972, 0.8687074829931972, 0.8687074829931972, 0.8687074829931972, 0.8687074829931972, 0.8687074829931972, 0.8687074829931972, 0.8687074829931972, 0.8687074829931972, 0.8687074829931972, 0.8687074829931972, 0.8687074829931972, 0.8687074829931972, 0.8687074829931972, 0.8687074829931972, 0.8687074829931972, 0.8687074829931972, 0.870748299319728, 0.870748299319728, 0.870748299319728, 0.870748299319728, 0.870748299319728, 0.870748299319728, 0.870748299319728, 0.870748299319728, 0.870748299319728, 0.870748299319728, 0.870748299319728, 0.870748299319728, 0.870748299319728, 0.870748299319728, 0.870748299319728, 0.870748299319728, 0.870748299319728, 0.870748299319728, 0.870748299319728, 0.8721088435374149]}], \"average_precision_score_weighted\": [{\"categories\": [\"0\", \"1\", \"2\", \"3\", \"4\", \"5\", \"6\", \"7\", \"8\", \"9\", \"10\", \"11\", \"12\", \"13\", \"14\", \"15\", \"16\", \"17\", \"18\", \"19\", \"20\", \"21\", \"22\", \"23\", \"24\", \"25\", \"26\", \"27\", \"28\", \"29\", \"30\", \"31\", \"32\", \"33\", \"34\", \"35\", \"36\", \"37\", \"38\", \"39\", \"40\", \"43\", \"44\"], \"mode\": \"markers\", \"name\": \"average_precision_score_weighted\", \"stepped\": false, \"type\": \"scatter\", \"data\": [0.8601562640514476, 0.8652201618192293, 0.8667833619324932, 0.857519597469849, 0.8529897636782623, 0.8544512077108428, 0.8654330058733682, 0.8559724911599377, 0.8613624929325225, 0.8647826530033056, 0.8434687934144046, 0.8517369576930006, 0.8638172695767604, 0.8492622698819366, 0.8454008805118075, 0.831690750866219, 0.8610813835284136, 0.865892312382781, 0.8600968480231087, 0.8495006856063917, 0.8792079861112764, 0.870692760291791, 0.8719630467253707, 0.8833936543550241, 0.8718968261096157, 0.7889407307886235, 0.8643258358324765, 0.8700906831805707, 0.867086371437589, 0.8657122361292369, 0.8712542649886332, 0.8563125056363113, 0.8726696556644518, 0.8747884667281985, 0.8778457472171869, 0.8753431581220269, 0.8681593239951922, 0.8593092531056129, 0.87280539376786, 0.8724156575779095, 0.8570120629391669, 0.889197221377286, 0.8888657546245865]}, {\"categories\": [\"0\", \"1\", \"2\", \"3\", \"4\", \"5\", \"6\", \"7\", \"8\", \"9\", \"10\", \"11\", \"12\", \"13\", \"14\", \"15\", \"16\", \"17\", \"18\", \"19\", \"20\", \"21\", \"22\", \"23\", \"24\", \"25\", \"26\", \"27\", \"28\", \"29\", \"30\", \"31\", \"32\", \"33\", \"34\", \"35\", \"36\", \"37\", \"38\", \"39\", \"40\", \"43\", \"44\"], \"mode\": \"lines\", \"name\": \"average_precision_score_weighted_max\", \"stepped\": true, \"type\": \"scatter\", \"data\": [0.8601562640514476, 0.8652201618192293, 0.8667833619324932, 0.8667833619324932, 0.8667833619324932, 0.8667833619324932, 0.8667833619324932, 0.8667833619324932, 0.8667833619324932, 0.8667833619324932, 0.8667833619324932, 0.8667833619324932, 0.8667833619324932, 0.8667833619324932, 0.8667833619324932, 0.8667833619324932, 0.8667833619324932, 0.8667833619324932, 0.8667833619324932, 0.8667833619324932, 0.8792079861112764, 0.8792079861112764, 0.8792079861112764, 0.8833936543550241, 0.8833936543550241, 0.8833936543550241, 0.8833936543550241, 0.8833936543550241, 0.8833936543550241, 0.8833936543550241, 0.8833936543550241, 0.8833936543550241, 0.8833936543550241, 0.8833936543550241, 0.8833936543550241, 0.8833936543550241, 0.8833936543550241, 0.8833936543550241, 0.8833936543550241, 0.8833936543550241, 0.8833936543550241, 0.889197221377286, 0.889197221377286]}], \"recall_score_micro\": [{\"categories\": [\"0\", \"1\", \"2\", \"3\", \"4\", \"5\", \"6\", \"7\", \"8\", \"9\", \"10\", \"11\", \"12\", \"13\", \"14\", \"15\", \"16\", \"17\", \"18\", \"19\", \"20\", \"21\", \"22\", \"23\", \"24\", \"25\", \"26\", \"27\", \"28\", \"29\", \"30\", \"31\", \"32\", \"33\", \"34\", \"35\", \"36\", \"37\", \"38\", \"39\", \"40\", \"43\", \"44\"], \"mode\": \"markers\", \"name\": \"recall_score_micro\", \"stepped\": false, \"type\": \"scatter\", \"data\": [0.8571428571428572, 0.8687074829931972, 0.8401360544217686, 0.7965986394557824, 0.8387755102040817, 0.8394557823129252, 0.8476190476190477, 0.8387755102040817, 0.8387755102040817, 0.7666666666666666, 0.7108843537414966, 0.7380952380952381, 0.7299319727891156, 0.8571428571428572, 0.8387755102040817, 0.8462585034013604, 0.7537414965986396, 0.8074829931972789, 0.7374149659863946, 0.8537414965986395, 0.8639455782312925, 0.8605442176870749, 0.8653061224489796, 0.870748299319728, 0.8693877551020407, 0.8387755102040817, 0.8537414965986395, 0.7884353741496598, 0.8598639455782312, 0.7979591836734694, 0.8482993197278912, 0.8231292517006802, 0.8564625850340137, 0.8687074829931974, 0.8585034013605443, 0.8639455782312925, 0.8510204081632654, 0.8034013605442176, 0.864625850340136, 0.8564625850340136, 0.8496598639455782, 0.8659863945578231, 0.8721088435374149]}, {\"categories\": [\"0\", \"1\", \"2\", \"3\", \"4\", \"5\", \"6\", \"7\", \"8\", \"9\", \"10\", \"11\", \"12\", \"13\", \"14\", \"15\", \"16\", \"17\", \"18\", \"19\", \"20\", \"21\", \"22\", \"23\", \"24\", \"25\", \"26\", \"27\", \"28\", \"29\", \"30\", \"31\", \"32\", \"33\", \"34\", \"35\", \"36\", \"37\", \"38\", \"39\", \"40\", \"43\", \"44\"], \"mode\": \"lines\", \"name\": \"recall_score_micro_max\", \"stepped\": true, \"type\": \"scatter\", \"data\": [0.8571428571428572, 0.8687074829931972, 0.8687074829931972, 0.8687074829931972, 0.8687074829931972, 0.8687074829931972, 0.8687074829931972, 0.8687074829931972, 0.8687074829931972, 0.8687074829931972, 0.8687074829931972, 0.8687074829931972, 0.8687074829931972, 0.8687074829931972, 0.8687074829931972, 0.8687074829931972, 0.8687074829931972, 0.8687074829931972, 0.8687074829931972, 0.8687074829931972, 0.8687074829931972, 0.8687074829931972, 0.8687074829931972, 0.870748299319728, 0.870748299319728, 0.870748299319728, 0.870748299319728, 0.870748299319728, 0.870748299319728, 0.870748299319728, 0.870748299319728, 0.870748299319728, 0.870748299319728, 0.870748299319728, 0.870748299319728, 0.870748299319728, 0.870748299319728, 0.870748299319728, 0.870748299319728, 0.870748299319728, 0.870748299319728, 0.870748299319728, 0.8721088435374149]}], \"AUC_weighted\": [{\"categories\": [\"0\", \"1\", \"2\", \"3\", \"4\", \"5\", \"6\", \"7\", \"8\", \"9\", \"10\", \"11\", \"12\", \"13\", \"14\", \"15\", \"16\", \"17\", \"18\", \"19\", \"20\", \"21\", \"22\", \"23\", \"24\", \"25\", \"26\", \"27\", \"28\", \"29\", \"30\", \"31\", \"32\", \"33\", \"34\", \"35\", \"36\", \"37\", \"38\", \"39\", \"40\", \"43\", \"44\"], \"mode\": \"markers\", \"name\": \"AUC_weighted\", \"stepped\": false, \"type\": \"scatter\", \"data\": [0.7736912208980099, 0.7831981073491354, 0.7902626055460787, 0.7676423235931135, 0.7690817683377809, 0.7675075517205293, 0.7889697020542799, 0.777844760451938, 0.7863379174763923, 0.7897022585377472, 0.7411235354357726, 0.7581600767438887, 0.7847448630158297, 0.7600438066332932, 0.750083491885742, 0.741433206798086, 0.7851723534764483, 0.7849640095920064, 0.7771736339141686, 0.7634530181612944, 0.8107441796662856, 0.7878252643453584, 0.7934952698884072, 0.812462518923038, 0.791269026452002, 0.6322165887464876, 0.7887937609035416, 0.7943027748359186, 0.7869206952280076, 0.7854065967316792, 0.7926132653521866, 0.7613687824226588, 0.7936838895987925, 0.7981412275986636, 0.8121185852112282, 0.8023400797102821, 0.7908721536203097, 0.7735489361246749, 0.7944693104547417, 0.7952579499106466, 0.7683524733525143, 0.8332861544179403, 0.8324433474423433]}, {\"categories\": [\"0\", \"1\", \"2\", \"3\", \"4\", \"5\", \"6\", \"7\", \"8\", \"9\", \"10\", \"11\", \"12\", \"13\", \"14\", \"15\", \"16\", \"17\", \"18\", \"19\", \"20\", \"21\", \"22\", \"23\", \"24\", \"25\", \"26\", \"27\", \"28\", \"29\", \"30\", \"31\", \"32\", \"33\", \"34\", \"35\", \"36\", \"37\", \"38\", \"39\", \"40\", \"43\", \"44\"], \"mode\": \"lines\", \"name\": \"AUC_weighted_max\", \"stepped\": true, \"type\": \"scatter\", \"data\": [0.7736912208980099, 0.7831981073491354, 0.7902626055460787, 0.7902626055460787, 0.7902626055460787, 0.7902626055460787, 0.7902626055460787, 0.7902626055460787, 0.7902626055460787, 0.7902626055460787, 0.7902626055460787, 0.7902626055460787, 0.7902626055460787, 0.7902626055460787, 0.7902626055460787, 0.7902626055460787, 0.7902626055460787, 0.7902626055460787, 0.7902626055460787, 0.7902626055460787, 0.8107441796662856, 0.8107441796662856, 0.8107441796662856, 0.812462518923038, 0.812462518923038, 0.812462518923038, 0.812462518923038, 0.812462518923038, 0.812462518923038, 0.812462518923038, 0.812462518923038, 0.812462518923038, 0.812462518923038, 0.812462518923038, 0.812462518923038, 0.812462518923038, 0.812462518923038, 0.812462518923038, 0.812462518923038, 0.812462518923038, 0.812462518923038, 0.8332861544179403, 0.8332861544179403]}], \"f1_score_weighted\": [{\"categories\": [\"0\", \"1\", \"2\", \"3\", \"4\", \"5\", \"6\", \"7\", \"8\", \"9\", \"10\", \"11\", \"12\", \"13\", \"14\", \"15\", \"16\", \"17\", \"18\", \"19\", \"20\", \"21\", \"22\", \"23\", \"24\", \"25\", \"26\", \"27\", \"28\", \"29\", \"30\", \"31\", \"32\", \"33\", \"34\", \"35\", \"36\", \"37\", \"38\", \"39\", \"40\", \"43\", \"44\"], \"mode\": \"markers\", \"name\": \"f1_score_weighted\", \"stepped\": false, \"type\": \"scatter\", \"data\": [0.8295726458283353, 0.8387421875757052, 0.7686750122093559, 0.8062132251942158, 0.7654463494387085, 0.7780177757459986, 0.788999165289411, 0.7654463494387085, 0.7654463494387085, 0.7887911738330162, 0.7431882745234552, 0.7660115078730868, 0.7615090944222452, 0.8174382592367085, 0.7654463494387085, 0.8321874164527494, 0.7803236630999079, 0.8161530441105193, 0.7668612140851646, 0.8212481198191761, 0.8361932661856487, 0.8392045344429487, 0.8415039356478561, 0.8404885164575764, 0.841952220759961, 0.7654463494387085, 0.8232506280668552, 0.8046226907342007, 0.8239249974420394, 0.8103307405124575, 0.7883351382002882, 0.819714749257581, 0.8141015267943792, 0.8365131377819814, 0.8272974373164224, 0.8366406218927391, 0.8471127910967781, 0.8146083270057297, 0.8414798514373754, 0.8438445973449983, 0.799643456357702, 0.832072588447846, 0.8529176565708344]}, {\"categories\": [\"0\", \"1\", \"2\", \"3\", \"4\", \"5\", \"6\", \"7\", \"8\", \"9\", \"10\", \"11\", \"12\", \"13\", \"14\", \"15\", \"16\", \"17\", \"18\", \"19\", \"20\", \"21\", \"22\", \"23\", \"24\", \"25\", \"26\", \"27\", \"28\", \"29\", \"30\", \"31\", \"32\", \"33\", \"34\", \"35\", \"36\", \"37\", \"38\", \"39\", \"40\", \"43\", \"44\"], \"mode\": \"lines\", \"name\": \"f1_score_weighted_max\", \"stepped\": true, \"type\": \"scatter\", \"data\": [0.8295726458283353, 0.8387421875757052, 0.8387421875757052, 0.8387421875757052, 0.8387421875757052, 0.8387421875757052, 0.8387421875757052, 0.8387421875757052, 0.8387421875757052, 0.8387421875757052, 0.8387421875757052, 0.8387421875757052, 0.8387421875757052, 0.8387421875757052, 0.8387421875757052, 0.8387421875757052, 0.8387421875757052, 0.8387421875757052, 0.8387421875757052, 0.8387421875757052, 0.8387421875757052, 0.8392045344429487, 0.8415039356478561, 0.8415039356478561, 0.841952220759961, 0.841952220759961, 0.841952220759961, 0.841952220759961, 0.841952220759961, 0.841952220759961, 0.841952220759961, 0.841952220759961, 0.841952220759961, 0.841952220759961, 0.841952220759961, 0.841952220759961, 0.8471127910967781, 0.8471127910967781, 0.8471127910967781, 0.8471127910967781, 0.8471127910967781, 0.8471127910967781, 0.8529176565708344]}], \"f1_score_macro\": [{\"categories\": [\"0\", \"1\", \"2\", \"3\", \"4\", \"5\", \"6\", \"7\", \"8\", \"9\", \"10\", \"11\", \"12\", \"13\", \"14\", \"15\", \"16\", \"17\", \"18\", \"19\", \"20\", \"21\", \"22\", \"23\", \"24\", \"25\", \"26\", \"27\", \"28\", \"29\", \"30\", \"31\", \"32\", \"33\", \"34\", \"35\", \"36\", \"37\", \"38\", \"39\", \"40\", \"43\", \"44\"], \"mode\": \"markers\", \"name\": \"f1_score_macro\", \"stepped\": false, \"type\": \"scatter\", \"data\": [0.6439077482034486, 0.6574965554026972, 0.4666480163094158, 0.6604055548338189, 0.4560523354847274, 0.4991832332076234, 0.5224040137104553, 0.4560523354847274, 0.4560523354847274, 0.6609747701571648, 0.6012193742227973, 0.6346406473330214, 0.6366499399640676, 0.6011322230324615, 0.4560523354847274, 0.6662355265023, 0.6581768272380795, 0.6793404621699274, 0.641185284807248, 0.6194511124854633, 0.6588092488127072, 0.6709305967359008, 0.6718748936491834, 0.6585106449442769, 0.6668199077918203, 0.4560523354847274, 0.6248492384257688, 0.671609651787486, 0.6193844528635805, 0.6744629851916715, 0.5190232949635779, 0.6627129907255979, 0.5927882907433837, 0.6511497321777028, 0.6335091655932317, 0.6557328886847421, 0.7110156204925896, 0.6785250611170778, 0.6757376073119244, 0.6945465939636902, 0.5574653564720639, 0.64264656690687, 0.7030210592581865]}, {\"categories\": [\"0\", \"1\", \"2\", \"3\", \"4\", \"5\", \"6\", \"7\", \"8\", \"9\", \"10\", \"11\", \"12\", \"13\", \"14\", \"15\", \"16\", \"17\", \"18\", \"19\", \"20\", \"21\", \"22\", \"23\", \"24\", \"25\", \"26\", \"27\", \"28\", \"29\", \"30\", \"31\", \"32\", \"33\", \"34\", \"35\", \"36\", \"37\", \"38\", \"39\", \"40\", \"43\", \"44\"], \"mode\": \"lines\", \"name\": \"f1_score_macro_max\", \"stepped\": true, \"type\": \"scatter\", \"data\": [0.6439077482034486, 0.6574965554026972, 0.6574965554026972, 0.6604055548338189, 0.6604055548338189, 0.6604055548338189, 0.6604055548338189, 0.6604055548338189, 0.6604055548338189, 0.6609747701571648, 0.6609747701571648, 0.6609747701571648, 0.6609747701571648, 0.6609747701571648, 0.6609747701571648, 0.6662355265023, 0.6662355265023, 0.6793404621699274, 0.6793404621699274, 0.6793404621699274, 0.6793404621699274, 0.6793404621699274, 0.6793404621699274, 0.6793404621699274, 0.6793404621699274, 0.6793404621699274, 0.6793404621699274, 0.6793404621699274, 0.6793404621699274, 0.6793404621699274, 0.6793404621699274, 0.6793404621699274, 0.6793404621699274, 0.6793404621699274, 0.6793404621699274, 0.6793404621699274, 0.7110156204925896, 0.7110156204925896, 0.7110156204925896, 0.7110156204925896, 0.7110156204925896, 0.7110156204925896, 0.7110156204925896]}], \"log_loss\": [{\"categories\": [\"0\", \"1\", \"2\", \"3\", \"4\", \"5\", \"6\", \"7\", \"8\", \"9\", \"10\", \"11\", \"12\", \"13\", \"14\", \"15\", \"16\", \"17\", \"18\", \"19\", \"20\", \"21\", \"22\", \"23\", \"24\", \"25\", \"26\", \"27\", \"28\", \"29\", \"30\", \"31\", \"32\", \"33\", \"34\", \"35\", \"36\", \"37\", \"38\", \"39\", \"40\", \"43\", \"44\"], \"mode\": \"markers\", \"name\": \"log_loss\", \"stepped\": false, \"type\": \"scatter\", \"data\": [0.49543944450644267, 0.3641741789805684, 0.3827952857237724, 0.5486597223555583, 0.3977432633801463, 0.38039826833811247, 0.37041868340038714, 0.39199114905283206, 0.3935525761091216, 0.5535682908850731, 0.5948043478898588, 0.5630358914769906, 0.60868932501368, 0.4399882288896877, 0.40176207448392026, 0.4550251632382822, 0.5408842864893778, 0.553181643744408, 0.628924996007162, 0.3717582965980055, 0.34984128518472274, 0.37567978609134683, 0.36087291141421457, 0.3453214937588212, 0.35812748501113667, 0.4359787279045735, 0.3651146748970187, 0.5526579035555247, 0.36840133296852917, 0.8679847146314121, 0.3731351842841962, 0.5549843027776724, 0.35971327641284195, 0.35472804509302863, 0.3514160441311491, 0.35546819564303256, 0.49363594337202255, 0.7469565778293074, 0.36447988487389815, 0.3971464191279557, 0.38285334805810267, 0.3453232756270071, 0.33660536809276415]}, {\"categories\": [\"0\", \"1\", \"2\", \"3\", \"4\", \"5\", \"6\", \"7\", \"8\", \"9\", \"10\", \"11\", \"12\", \"13\", \"14\", \"15\", \"16\", \"17\", \"18\", \"19\", \"20\", \"21\", \"22\", \"23\", \"24\", \"25\", \"26\", \"27\", \"28\", \"29\", \"30\", \"31\", \"32\", \"33\", \"34\", \"35\", \"36\", \"37\", \"38\", \"39\", \"40\", \"43\", \"44\"], \"mode\": \"lines\", \"name\": \"log_loss_min\", \"stepped\": true, \"type\": \"scatter\", \"data\": [0.49543944450644267, 0.3641741789805684, 0.3641741789805684, 0.3641741789805684, 0.3641741789805684, 0.3641741789805684, 0.3641741789805684, 0.3641741789805684, 0.3641741789805684, 0.3641741789805684, 0.3641741789805684, 0.3641741789805684, 0.3641741789805684, 0.3641741789805684, 0.3641741789805684, 0.3641741789805684, 0.3641741789805684, 0.3641741789805684, 0.3641741789805684, 0.3641741789805684, 0.34984128518472274, 0.34984128518472274, 0.34984128518472274, 0.3453214937588212, 0.3453214937588212, 0.3453214937588212, 0.3453214937588212, 0.3453214937588212, 0.3453214937588212, 0.3453214937588212, 0.3453214937588212, 0.3453214937588212, 0.3453214937588212, 0.3453214937588212, 0.3453214937588212, 0.3453214937588212, 0.3453214937588212, 0.3453214937588212, 0.3453214937588212, 0.3453214937588212, 0.3453214937588212, 0.3453214937588212, 0.33660536809276415]}], \"average_precision_score_macro\": [{\"categories\": [\"0\", \"1\", \"2\", \"3\", \"4\", \"5\", \"6\", \"7\", \"8\", \"9\", \"10\", \"11\", \"12\", \"13\", \"14\", \"15\", \"16\", \"17\", \"18\", \"19\", \"20\", \"21\", \"22\", \"23\", \"24\", \"25\", \"26\", \"27\", \"28\", \"29\", \"30\", \"31\", \"32\", \"33\", \"34\", \"35\", \"36\", \"37\", \"38\", \"39\", \"40\", \"43\", \"44\"], \"mode\": \"markers\", \"name\": \"average_precision_score_macro\", \"stepped\": false, \"type\": \"scatter\", \"data\": [0.7094139030570927, 0.7284486681752101, 0.7200664012077219, 0.6948787844914944, 0.695459579096488, 0.6844016214820844, 0.7114104051826217, 0.6904989922393311, 0.7060706141250995, 0.7182443475082677, 0.6713483260594083, 0.6933833564681474, 0.7165996463085511, 0.701703800481523, 0.6732523806423147, 0.6494064426143095, 0.7136849322437339, 0.7172616584926876, 0.7026993700755438, 0.6961510206573517, 0.7480019999709079, 0.7315654459506503, 0.7355617912845549, 0.7545207403331862, 0.7372432719001543, 0.5675291044216088, 0.7212926608839653, 0.7263636826031896, 0.726146003593692, 0.7228399885546288, 0.7327983268998771, 0.7037645885607509, 0.7394408645885516, 0.7397033157667474, 0.7370973912871611, 0.7414643899145741, 0.7263075544417509, 0.7119039633140232, 0.7409189958168861, 0.734406907756021, 0.701783736177644, 0.7745118342826475, 0.7725014191735443]}, {\"categories\": [\"0\", \"1\", \"2\", \"3\", \"4\", \"5\", \"6\", \"7\", \"8\", \"9\", \"10\", \"11\", \"12\", \"13\", \"14\", \"15\", \"16\", \"17\", \"18\", \"19\", \"20\", \"21\", \"22\", \"23\", \"24\", \"25\", \"26\", \"27\", \"28\", \"29\", \"30\", \"31\", \"32\", \"33\", \"34\", \"35\", \"36\", \"37\", \"38\", \"39\", \"40\", \"43\", \"44\"], \"mode\": \"lines\", \"name\": \"average_precision_score_macro_max\", \"stepped\": true, \"type\": \"scatter\", \"data\": [0.7094139030570927, 0.7284486681752101, 0.7284486681752101, 0.7284486681752101, 0.7284486681752101, 0.7284486681752101, 0.7284486681752101, 0.7284486681752101, 0.7284486681752101, 0.7284486681752101, 0.7284486681752101, 0.7284486681752101, 0.7284486681752101, 0.7284486681752101, 0.7284486681752101, 0.7284486681752101, 0.7284486681752101, 0.7284486681752101, 0.7284486681752101, 0.7284486681752101, 0.7480019999709079, 0.7480019999709079, 0.7480019999709079, 0.7545207403331862, 0.7545207403331862, 0.7545207403331862, 0.7545207403331862, 0.7545207403331862, 0.7545207403331862, 0.7545207403331862, 0.7545207403331862, 0.7545207403331862, 0.7545207403331862, 0.7545207403331862, 0.7545207403331862, 0.7545207403331862, 0.7545207403331862, 0.7545207403331862, 0.7545207403331862, 0.7545207403331862, 0.7545207403331862, 0.7745118342826475, 0.7745118342826475]}], \"average_precision_score_micro\": [{\"categories\": [\"0\", \"1\", \"2\", \"3\", \"4\", \"5\", \"6\", \"7\", \"8\", \"9\", \"10\", \"11\", \"12\", \"13\", \"14\", \"15\", \"16\", \"17\", \"18\", \"19\", \"20\", \"21\", \"22\", \"23\", \"24\", \"25\", \"26\", \"27\", \"28\", \"29\", \"30\", \"31\", \"32\", \"33\", \"34\", \"35\", \"36\", \"37\", \"38\", \"39\", \"40\", \"43\", \"44\"], \"mode\": \"markers\", \"name\": \"average_precision_score_micro\", \"stepped\": false, \"type\": \"scatter\", \"data\": [0.9028692518859028, 0.9043008581386142, 0.9067733831750663, 0.8694829366426337, 0.8975770271576048, 0.9017139905323246, 0.9072468951185041, 0.9027508437942698, 0.9049025737109186, 0.8406442599615259, 0.7925033548351826, 0.8170607778305383, 0.813481840008933, 0.8916834267592142, 0.8950417474228652, 0.8856196740937406, 0.8209140885870712, 0.8756742870954395, 0.7973606509062753, 0.8939103493096412, 0.9157290695424184, 0.90944084638392, 0.9102253542753034, 0.9183394875416188, 0.9095333478434685, 0.8578117678420059, 0.905010500278714, 0.8517993652298536, 0.9062010512538171, 0.8677615017248081, 0.9077426174199111, 0.8893386996391887, 0.9089028723790668, 0.9118334626914364, 0.9172212785599738, 0.9128737967277484, 0.9006406678306131, 0.865175786241347, 0.9101071158412953, 0.9098276038063989, 0.9017883519554902, 0.9193624589788132, 0.9210207553167544]}, {\"categories\": [\"0\", \"1\", \"2\", \"3\", \"4\", \"5\", \"6\", \"7\", \"8\", \"9\", \"10\", \"11\", \"12\", \"13\", \"14\", \"15\", \"16\", \"17\", \"18\", \"19\", \"20\", \"21\", \"22\", \"23\", \"24\", \"25\", \"26\", \"27\", \"28\", \"29\", \"30\", \"31\", \"32\", \"33\", \"34\", \"35\", \"36\", \"37\", \"38\", \"39\", \"40\", \"43\", \"44\"], \"mode\": \"lines\", \"name\": \"average_precision_score_micro_max\", \"stepped\": true, \"type\": \"scatter\", \"data\": [0.9028692518859028, 0.9043008581386142, 0.9067733831750663, 0.9067733831750663, 0.9067733831750663, 0.9067733831750663, 0.9072468951185041, 0.9072468951185041, 0.9072468951185041, 0.9072468951185041, 0.9072468951185041, 0.9072468951185041, 0.9072468951185041, 0.9072468951185041, 0.9072468951185041, 0.9072468951185041, 0.9072468951185041, 0.9072468951185041, 0.9072468951185041, 0.9072468951185041, 0.9157290695424184, 0.9157290695424184, 0.9157290695424184, 0.9183394875416188, 0.9183394875416188, 0.9183394875416188, 0.9183394875416188, 0.9183394875416188, 0.9183394875416188, 0.9183394875416188, 0.9183394875416188, 0.9183394875416188, 0.9183394875416188, 0.9183394875416188, 0.9183394875416188, 0.9183394875416188, 0.9183394875416188, 0.9183394875416188, 0.9183394875416188, 0.9183394875416188, 0.9183394875416188, 0.9193624589788132, 0.9210207553167544]}], \"precision_score_macro\": [{\"categories\": [\"0\", \"1\", \"2\", \"3\", \"4\", \"5\", \"6\", \"7\", \"8\", \"9\", \"10\", \"11\", \"12\", \"13\", \"14\", \"15\", \"16\", \"17\", \"18\", \"19\", \"20\", \"21\", \"22\", \"23\", \"24\", \"25\", \"26\", \"27\", \"28\", \"29\", \"30\", \"31\", \"32\", \"33\", \"34\", \"35\", \"36\", \"37\", \"38\", \"39\", \"40\", \"43\", \"44\"], \"mode\": \"markers\", \"name\": \"precision_score_macro\", \"stepped\": false, \"type\": \"scatter\", \"data\": [0.757253761308073, 0.8381429249166009, 0.5866496598639456, 0.6485377870473484, 0.41938775510204085, 0.6110371461909397, 0.8683365363777735, 0.41938775510204085, 0.41938775510204085, 0.6454686530431727, 0.6003704022566877, 0.625254102910898, 0.6313786569722165, 0.8064356289099273, 0.41938775510204085, 0.7178000924436571, 0.645888163060547, 0.6675216290182387, 0.6330673227240601, 0.753676771540944, 0.7886303354907138, 0.763268465183326, 0.7849518260457056, 0.8556648837974808, 0.8215359425203209, 0.41938775510204085, 0.7490806565826648, 0.6545805253656384, 0.8068061187830202, 0.6638009922912748, 0.8998668950012579, 0.6697536301441334, 0.8175962774115989, 0.8507095335308325, 0.7923150878575553, 0.8050793477790444, 0.7236232526934882, 0.6656252238699047, 0.7768731241595371, 0.740427795788194, 0.784845288326301, 0.8422248463868334, 0.8031842577309655]}, {\"categories\": [\"0\", \"1\", \"2\", \"3\", \"4\", \"5\", \"6\", \"7\", \"8\", \"9\", \"10\", \"11\", \"12\", \"13\", \"14\", \"15\", \"16\", \"17\", \"18\", \"19\", \"20\", \"21\", \"22\", \"23\", \"24\", \"25\", \"26\", \"27\", \"28\", \"29\", \"30\", \"31\", \"32\", \"33\", \"34\", \"35\", \"36\", \"37\", \"38\", \"39\", \"40\", \"43\", \"44\"], \"mode\": \"lines\", \"name\": \"precision_score_macro_max\", \"stepped\": true, \"type\": \"scatter\", \"data\": [0.757253761308073, 0.8381429249166009, 0.8381429249166009, 0.8381429249166009, 0.8381429249166009, 0.8381429249166009, 0.8683365363777735, 0.8683365363777735, 0.8683365363777735, 0.8683365363777735, 0.8683365363777735, 0.8683365363777735, 0.8683365363777735, 0.8683365363777735, 0.8683365363777735, 0.8683365363777735, 0.8683365363777735, 0.8683365363777735, 0.8683365363777735, 0.8683365363777735, 0.8683365363777735, 0.8683365363777735, 0.8683365363777735, 0.8683365363777735, 0.8683365363777735, 0.8683365363777735, 0.8683365363777735, 0.8683365363777735, 0.8683365363777735, 0.8683365363777735, 0.8998668950012579, 0.8998668950012579, 0.8998668950012579, 0.8998668950012579, 0.8998668950012579, 0.8998668950012579, 0.8998668950012579, 0.8998668950012579, 0.8998668950012579, 0.8998668950012579, 0.8998668950012579, 0.8998668950012579, 0.8998668950012579]}], \"precision_score_weighted\": [{\"categories\": [\"0\", \"1\", \"2\", \"3\", \"4\", \"5\", \"6\", \"7\", \"8\", \"9\", \"10\", \"11\", \"12\", \"13\", \"14\", \"15\", \"16\", \"17\", \"18\", \"19\", \"20\", \"21\", \"22\", \"23\", \"24\", \"25\", \"26\", \"27\", \"28\", \"29\", \"30\", \"31\", \"32\", \"33\", \"34\", \"35\", \"36\", \"37\", \"38\", \"39\", \"40\", \"43\", \"44\"], \"mode\": \"markers\", \"name\": \"precision_score_weighted\", \"stepped\": false, \"type\": \"scatter\", \"data\": [0.8349340517380371, 0.8611414697178841, 0.7481080799666806, 0.8191250105404267, 0.7042135221435514, 0.7715309352983128, 0.8587272553104658, 0.7042135221435514, 0.7042135221435514, 0.8310873919003967, 0.8057396166063615, 0.8216998909306907, 0.8314701000045442, 0.8451675733901132, 0.7042135221435514, 0.8279493395684345, 0.8375872060811989, 0.829372036381546, 0.8310158632211261, 0.8309149084937109, 0.8463985836865463, 0.8430021912005161, 0.8479860632566473, 0.8672788538454294, 0.8586823126314238, 0.7042135221435514, 0.8299982668190772, 0.8315156317640328, 0.8460363789217092, 0.8336197491594609, 0.8665192065577236, 0.8201296704783195, 0.8449334279166213, 0.8657826448750502, 0.8432884596222797, 0.8496558281291984, 0.8467736726913301, 0.8332998068072456, 0.8461027448883751, 0.8409488408557325, 0.8312774118086054, 0.8581631391955735, 0.8599248383469766]}, {\"categories\": [\"0\", \"1\", \"2\", \"3\", \"4\", \"5\", \"6\", \"7\", \"8\", \"9\", \"10\", \"11\", \"12\", \"13\", \"14\", \"15\", \"16\", \"17\", \"18\", \"19\", \"20\", \"21\", \"22\", \"23\", \"24\", \"25\", \"26\", \"27\", \"28\", \"29\", \"30\", \"31\", \"32\", \"33\", \"34\", \"35\", \"36\", \"37\", \"38\", \"39\", \"40\", \"43\", \"44\"], \"mode\": \"lines\", \"name\": \"precision_score_weighted_max\", \"stepped\": true, \"type\": \"scatter\", \"data\": [0.8349340517380371, 0.8611414697178841, 0.8611414697178841, 0.8611414697178841, 0.8611414697178841, 0.8611414697178841, 0.8611414697178841, 0.8611414697178841, 0.8611414697178841, 0.8611414697178841, 0.8611414697178841, 0.8611414697178841, 0.8611414697178841, 0.8611414697178841, 0.8611414697178841, 0.8611414697178841, 0.8611414697178841, 0.8611414697178841, 0.8611414697178841, 0.8611414697178841, 0.8611414697178841, 0.8611414697178841, 0.8611414697178841, 0.8672788538454294, 0.8672788538454294, 0.8672788538454294, 0.8672788538454294, 0.8672788538454294, 0.8672788538454294, 0.8672788538454294, 0.8672788538454294, 0.8672788538454294, 0.8672788538454294, 0.8672788538454294, 0.8672788538454294, 0.8672788538454294, 0.8672788538454294, 0.8672788538454294, 0.8672788538454294, 0.8672788538454294, 0.8672788538454294, 0.8672788538454294, 0.8672788538454294]}], \"accuracy\": [{\"categories\": [\"0\", \"1\", \"2\", \"3\", \"4\", \"5\", \"6\", \"7\", \"8\", \"9\", \"10\", \"11\", \"12\", \"13\", \"14\", \"15\", \"16\", \"17\", \"18\", \"19\", \"20\", \"21\", \"22\", \"23\", \"24\", \"25\", \"26\", \"27\", \"28\", \"29\", \"30\", \"31\", \"32\", \"33\", \"34\", \"35\", \"36\", \"37\", \"38\", \"39\", \"40\", \"43\", \"44\"], \"mode\": \"markers\", \"name\": \"accuracy\", \"stepped\": false, \"type\": \"scatter\", \"data\": [0.8571428571428572, 0.8687074829931972, 0.8401360544217686, 0.7965986394557824, 0.8387755102040817, 0.8394557823129252, 0.8476190476190477, 0.8387755102040817, 0.8387755102040817, 0.7666666666666666, 0.7108843537414966, 0.7380952380952381, 0.7299319727891156, 0.8571428571428572, 0.8387755102040817, 0.8462585034013604, 0.7537414965986396, 0.8074829931972789, 0.7374149659863946, 0.8537414965986395, 0.8639455782312925, 0.8605442176870749, 0.8653061224489796, 0.870748299319728, 0.8693877551020407, 0.8387755102040817, 0.8537414965986395, 0.7884353741496598, 0.8598639455782312, 0.7979591836734694, 0.8482993197278912, 0.8231292517006802, 0.8564625850340137, 0.8687074829931974, 0.8585034013605443, 0.8639455782312925, 0.8510204081632654, 0.8034013605442176, 0.864625850340136, 0.8564625850340136, 0.8496598639455782, 0.8659863945578231, 0.8721088435374149]}, {\"categories\": [\"0\", \"1\", \"2\", \"3\", \"4\", \"5\", \"6\", \"7\", \"8\", \"9\", \"10\", \"11\", \"12\", \"13\", \"14\", \"15\", \"16\", \"17\", \"18\", \"19\", \"20\", \"21\", \"22\", \"23\", \"24\", \"25\", \"26\", \"27\", \"28\", \"29\", \"30\", \"31\", \"32\", \"33\", \"34\", \"35\", \"36\", \"37\", \"38\", \"39\", \"40\", \"43\", \"44\"], \"mode\": \"lines\", \"name\": \"accuracy_max\", \"stepped\": true, \"type\": \"scatter\", \"data\": [0.8571428571428572, 0.8687074829931972, 0.8687074829931972, 0.8687074829931972, 0.8687074829931972, 0.8687074829931972, 0.8687074829931972, 0.8687074829931972, 0.8687074829931972, 0.8687074829931972, 0.8687074829931972, 0.8687074829931972, 0.8687074829931972, 0.8687074829931972, 0.8687074829931972, 0.8687074829931972, 0.8687074829931972, 0.8687074829931972, 0.8687074829931972, 0.8687074829931972, 0.8687074829931972, 0.8687074829931972, 0.8687074829931972, 0.870748299319728, 0.870748299319728, 0.870748299319728, 0.870748299319728, 0.870748299319728, 0.870748299319728, 0.870748299319728, 0.870748299319728, 0.870748299319728, 0.870748299319728, 0.870748299319728, 0.870748299319728, 0.870748299319728, 0.870748299319728, 0.870748299319728, 0.870748299319728, 0.870748299319728, 0.870748299319728, 0.870748299319728, 0.8721088435374149]}], \"f1_score_micro\": [{\"categories\": [\"0\", \"1\", \"2\", \"3\", \"4\", \"5\", \"6\", \"7\", \"8\", \"9\", \"10\", \"11\", \"12\", \"13\", \"14\", \"15\", \"16\", \"17\", \"18\", \"19\", \"20\", \"21\", \"22\", \"23\", \"24\", \"25\", \"26\", \"27\", \"28\", \"29\", \"30\", \"31\", \"32\", \"33\", \"34\", \"35\", \"36\", \"37\", \"38\", \"39\", \"40\", \"43\", \"44\"], \"mode\": \"markers\", \"name\": \"f1_score_micro\", \"stepped\": false, \"type\": \"scatter\", \"data\": [0.8571428571428572, 0.8687074829931972, 0.8401360544217686, 0.7965986394557824, 0.8387755102040817, 0.8394557823129252, 0.8476190476190476, 0.8387755102040817, 0.8387755102040817, 0.7666666666666667, 0.7108843537414966, 0.7380952380952381, 0.7299319727891156, 0.8571428571428572, 0.8387755102040817, 0.8462585034013604, 0.7537414965986396, 0.807482993197279, 0.7374149659863946, 0.8537414965986395, 0.8639455782312925, 0.8605442176870749, 0.8653061224489796, 0.870748299319728, 0.8693877551020407, 0.8387755102040817, 0.8537414965986395, 0.7884353741496598, 0.8598639455782312, 0.7979591836734695, 0.8482993197278912, 0.8231292517006804, 0.8564625850340137, 0.8687074829931974, 0.8585034013605443, 0.8639455782312925, 0.8510204081632654, 0.8034013605442177, 0.864625850340136, 0.8564625850340137, 0.8496598639455782, 0.8659863945578231, 0.8721088435374149]}, {\"categories\": [\"0\", \"1\", \"2\", \"3\", \"4\", \"5\", \"6\", \"7\", \"8\", \"9\", \"10\", \"11\", \"12\", \"13\", \"14\", \"15\", \"16\", \"17\", \"18\", \"19\", \"20\", \"21\", \"22\", \"23\", \"24\", \"25\", \"26\", \"27\", \"28\", \"29\", \"30\", \"31\", \"32\", \"33\", \"34\", \"35\", \"36\", \"37\", \"38\", \"39\", \"40\", \"43\", \"44\"], \"mode\": \"lines\", \"name\": \"f1_score_micro_max\", \"stepped\": true, \"type\": \"scatter\", \"data\": [0.8571428571428572, 0.8687074829931972, 0.8687074829931972, 0.8687074829931972, 0.8687074829931972, 0.8687074829931972, 0.8687074829931972, 0.8687074829931972, 0.8687074829931972, 0.8687074829931972, 0.8687074829931972, 0.8687074829931972, 0.8687074829931972, 0.8687074829931972, 0.8687074829931972, 0.8687074829931972, 0.8687074829931972, 0.8687074829931972, 0.8687074829931972, 0.8687074829931972, 0.8687074829931972, 0.8687074829931972, 0.8687074829931972, 0.870748299319728, 0.870748299319728, 0.870748299319728, 0.870748299319728, 0.870748299319728, 0.870748299319728, 0.870748299319728, 0.870748299319728, 0.870748299319728, 0.870748299319728, 0.870748299319728, 0.870748299319728, 0.870748299319728, 0.870748299319728, 0.870748299319728, 0.870748299319728, 0.870748299319728, 0.870748299319728, 0.870748299319728, 0.8721088435374149]}], \"norm_macro_recall\": [{\"categories\": [\"0\", \"1\", \"2\", \"3\", \"4\", \"5\", \"6\", \"7\", \"8\", \"9\", \"10\", \"11\", \"12\", \"13\", \"14\", \"15\", \"16\", \"17\", \"18\", \"19\", \"20\", \"21\", \"22\", \"23\", \"24\", \"25\", \"26\", \"27\", \"28\", \"29\", \"30\", \"31\", \"32\", \"33\", \"34\", \"35\", \"36\", \"37\", \"38\", \"39\", \"40\", \"43\", \"44\"], \"mode\": \"markers\", \"name\": \"norm_macro_recall\", \"stepped\": false, \"type\": \"scatter\", \"data\": [0.23399103040310387, 0.245980774842847, 0.010582010582010545, 0.36045315010835194, 0.0, 0.043292811517436545, 0.06796794115855846, 0.0, 0.0, 0.44007687653910027, 0.32389592171073195, 0.4002673482099796, 0.4369548485089503, 0.16379481237910207, 0.0, 0.28668603997206593, 0.4656893281290331, 0.40351139363725813, 0.43715390881503163, 0.1931026166488364, 0.25729275859989537, 0.28595914765202357, 0.2781133489825544, 0.24839681660315116, 0.26413420820817435, 0.0, 0.20070826545396292, 0.4269733135575097, 0.18844834289018322, 0.424289234855115, 0.06474198736581016, 0.3285072678429166, 0.15118985466920765, 0.23790009750093807, 0.21203921709283394, 0.24668842527156642, 0.4126644202266081, 0.42057357253183186, 0.2949061572038976, 0.34537485283229546, 0.10939458777908502, 0.22341557205983772, 0.342159125573313]}, {\"categories\": [\"0\", \"1\", \"2\", \"3\", \"4\", \"5\", \"6\", \"7\", \"8\", \"9\", \"10\", \"11\", \"12\", \"13\", \"14\", \"15\", \"16\", \"17\", \"18\", \"19\", \"20\", \"21\", \"22\", \"23\", \"24\", \"25\", \"26\", \"27\", \"28\", \"29\", \"30\", \"31\", \"32\", \"33\", \"34\", \"35\", \"36\", \"37\", \"38\", \"39\", \"40\", \"43\", \"44\"], \"mode\": \"lines\", \"name\": \"norm_macro_recall_max\", \"stepped\": true, \"type\": \"scatter\", \"data\": [0.23399103040310387, 0.245980774842847, 0.245980774842847, 0.36045315010835194, 0.36045315010835194, 0.36045315010835194, 0.36045315010835194, 0.36045315010835194, 0.36045315010835194, 0.44007687653910027, 0.44007687653910027, 0.44007687653910027, 0.44007687653910027, 0.44007687653910027, 0.44007687653910027, 0.44007687653910027, 0.4656893281290331, 0.4656893281290331, 0.4656893281290331, 0.4656893281290331, 0.4656893281290331, 0.4656893281290331, 0.4656893281290331, 0.4656893281290331, 0.4656893281290331, 0.4656893281290331, 0.4656893281290331, 0.4656893281290331, 0.4656893281290331, 0.4656893281290331, 0.4656893281290331, 0.4656893281290331, 0.4656893281290331, 0.4656893281290331, 0.4656893281290331, 0.4656893281290331, 0.4656893281290331, 0.4656893281290331, 0.4656893281290331, 0.4656893281290331, 0.4656893281290331, 0.4656893281290331, 0.4656893281290331]}], \"balanced_accuracy\": [{\"categories\": [\"0\", \"1\", \"2\", \"3\", \"4\", \"5\", \"6\", \"7\", \"8\", \"9\", \"10\", \"11\", \"12\", \"13\", \"14\", \"15\", \"16\", \"17\", \"18\", \"19\", \"20\", \"21\", \"22\", \"23\", \"24\", \"25\", \"26\", \"27\", \"28\", \"29\", \"30\", \"31\", \"32\", \"33\", \"34\", \"35\", \"36\", \"37\", \"38\", \"39\", \"40\", \"43\", \"44\"], \"mode\": \"markers\", \"name\": \"balanced_accuracy\", \"stepped\": false, \"type\": \"scatter\", \"data\": [0.6169955152015519, 0.6229903874214235, 0.5052910052910052, 0.680226575054176, 0.5, 0.5216464057587182, 0.5339839705792793, 0.5, 0.5, 0.7200384382695502, 0.661947960855366, 0.7001336741049897, 0.7184774242544751, 0.581897406189551, 0.5, 0.6433430199860329, 0.7328446640645166, 0.701755696818629, 0.7185769544075158, 0.5965513083244182, 0.6286463792999477, 0.6429795738260117, 0.6390566744912772, 0.6241984083015756, 0.6320671041040872, 0.5, 0.6003541327269813, 0.7134866567787549, 0.5942241714450917, 0.7121446174275574, 0.5323709936829051, 0.6642536339214583, 0.5755949273346038, 0.618950048750469, 0.606019608546417, 0.6233442126357832, 0.7063322101133039, 0.7102867862659159, 0.6474530786019489, 0.6726874264161479, 0.5546972938895425, 0.6117077860299189, 0.6710795627866565]}, {\"categories\": [\"0\", \"1\", \"2\", \"3\", \"4\", \"5\", \"6\", \"7\", \"8\", \"9\", \"10\", \"11\", \"12\", \"13\", \"14\", \"15\", \"16\", \"17\", \"18\", \"19\", \"20\", \"21\", \"22\", \"23\", \"24\", \"25\", \"26\", \"27\", \"28\", \"29\", \"30\", \"31\", \"32\", \"33\", \"34\", \"35\", \"36\", \"37\", \"38\", \"39\", \"40\", \"43\", \"44\"], \"mode\": \"lines\", \"name\": \"balanced_accuracy_max\", \"stepped\": true, \"type\": \"scatter\", \"data\": [0.6169955152015519, 0.6229903874214235, 0.6229903874214235, 0.680226575054176, 0.680226575054176, 0.680226575054176, 0.680226575054176, 0.680226575054176, 0.680226575054176, 0.7200384382695502, 0.7200384382695502, 0.7200384382695502, 0.7200384382695502, 0.7200384382695502, 0.7200384382695502, 0.7200384382695502, 0.7328446640645166, 0.7328446640645166, 0.7328446640645166, 0.7328446640645166, 0.7328446640645166, 0.7328446640645166, 0.7328446640645166, 0.7328446640645166, 0.7328446640645166, 0.7328446640645166, 0.7328446640645166, 0.7328446640645166, 0.7328446640645166, 0.7328446640645166, 0.7328446640645166, 0.7328446640645166, 0.7328446640645166, 0.7328446640645166, 0.7328446640645166, 0.7328446640645166, 0.7328446640645166, 0.7328446640645166, 0.7328446640645166, 0.7328446640645166, 0.7328446640645166, 0.7328446640645166, 0.7328446640645166]}]}, \"metricName\": null, \"primaryMetricName\": \"AUC_weighted\", \"showLegend\": false}, \"run_metrics\": [{\"name\": \"experiment_status\", \"run_id\": \"AutoML_b1870f09-4190-4612-b6ef-ed0770d273ed\", \"categories\": [0, 1, 2, 3, 4, 5, 6], \"series\": [{\"data\": [\"DatasetEvaluation\", \"FeaturesGeneration\", \"DatasetFeaturization\", \"DatasetFeaturizationCompleted\", \"DatasetBalancing\", \"DatasetCrossValidationSplit\", \"ModelSelection\"]}]}, {\"name\": \"experiment_status_description\", \"run_id\": \"AutoML_b1870f09-4190-4612-b6ef-ed0770d273ed\", \"categories\": [0, 1, 2, 3, 4, 5, 6], \"series\": [{\"data\": [\"Gathering dataset statistics.\", \"Generating features for the dataset.\", \"Beginning to fit featurizers and featurize the dataset.\", \"Completed fit featurizers and featurizing the dataset.\", \"Performing class balancing sweeping\", \"Generating individually featurized CV splits.\", \"Beginning model selection.\"]}]}, {\"name\": \"accuracy\", \"run_id\": \"AutoML_b1870f09-4190-4612-b6ef-ed0770d273ed\", \"categories\": [0], \"series\": [{\"data\": [0.8659863945578231]}]}, {\"name\": \"f1_score_weighted\", \"run_id\": \"AutoML_b1870f09-4190-4612-b6ef-ed0770d273ed\", \"categories\": [0], \"series\": [{\"data\": [0.832072588447846]}]}, {\"name\": \"average_precision_score_macro\", \"run_id\": \"AutoML_b1870f09-4190-4612-b6ef-ed0770d273ed\", \"categories\": [0], \"series\": [{\"data\": [0.7745118342826475]}]}, {\"name\": \"balanced_accuracy\", \"run_id\": \"AutoML_b1870f09-4190-4612-b6ef-ed0770d273ed\", \"categories\": [0], \"series\": [{\"data\": [0.6117077860299189]}]}, {\"name\": \"AUC_micro\", \"run_id\": \"AutoML_b1870f09-4190-4612-b6ef-ed0770d273ed\", \"categories\": [0], \"series\": [{\"data\": [0.9306191864500902]}]}, {\"name\": \"f1_score_macro\", \"run_id\": \"AutoML_b1870f09-4190-4612-b6ef-ed0770d273ed\", \"categories\": [0], \"series\": [{\"data\": [0.64264656690687]}]}, {\"name\": \"log_loss\", \"run_id\": \"AutoML_b1870f09-4190-4612-b6ef-ed0770d273ed\", \"categories\": [0], \"series\": [{\"data\": [0.3453232756270071]}]}, {\"name\": \"f1_score_micro\", \"run_id\": \"AutoML_b1870f09-4190-4612-b6ef-ed0770d273ed\", \"categories\": [0], \"series\": [{\"data\": [0.8659863945578231]}]}, {\"name\": \"norm_macro_recall\", \"run_id\": \"AutoML_b1870f09-4190-4612-b6ef-ed0770d273ed\", \"categories\": [0], \"series\": [{\"data\": [0.22341557205983772]}]}, {\"name\": \"average_precision_score_micro\", \"run_id\": \"AutoML_b1870f09-4190-4612-b6ef-ed0770d273ed\", \"categories\": [0], \"series\": [{\"data\": [0.9193624589788132]}]}, {\"name\": \"precision_score_micro\", \"run_id\": \"AutoML_b1870f09-4190-4612-b6ef-ed0770d273ed\", \"categories\": [0], \"series\": [{\"data\": [0.8659863945578231]}]}, {\"name\": \"average_precision_score_weighted\", \"run_id\": \"AutoML_b1870f09-4190-4612-b6ef-ed0770d273ed\", \"categories\": [0], \"series\": [{\"data\": [0.889197221377286]}]}, {\"name\": \"recall_score_macro\", \"run_id\": \"AutoML_b1870f09-4190-4612-b6ef-ed0770d273ed\", \"categories\": [0], \"series\": [{\"data\": [0.6117077860299189]}]}, {\"name\": \"AUC_weighted\", \"run_id\": \"AutoML_b1870f09-4190-4612-b6ef-ed0770d273ed\", \"categories\": [0], \"series\": [{\"data\": [0.8332861544179403]}]}, {\"name\": \"recall_score_micro\", \"run_id\": \"AutoML_b1870f09-4190-4612-b6ef-ed0770d273ed\", \"categories\": [0], \"series\": [{\"data\": [0.8659863945578231]}]}, {\"name\": \"recall_score_weighted\", \"run_id\": \"AutoML_b1870f09-4190-4612-b6ef-ed0770d273ed\", \"categories\": [0], \"series\": [{\"data\": [0.8659863945578231]}]}, {\"name\": \"AUC_macro\", \"run_id\": \"AutoML_b1870f09-4190-4612-b6ef-ed0770d273ed\", \"categories\": [0], \"series\": [{\"data\": [0.8332861544179403]}]}, {\"name\": \"precision_score_weighted\", \"run_id\": \"AutoML_b1870f09-4190-4612-b6ef-ed0770d273ed\", \"categories\": [0], \"series\": [{\"data\": [0.8581631391955735]}]}, {\"name\": \"precision_score_macro\", \"run_id\": \"AutoML_b1870f09-4190-4612-b6ef-ed0770d273ed\", \"categories\": [0], \"series\": [{\"data\": [0.8422248463868334]}]}, {\"name\": \"weighted_accuracy\", \"run_id\": \"AutoML_b1870f09-4190-4612-b6ef-ed0770d273ed\", \"categories\": [0], \"series\": [{\"data\": [0.9604529149222975]}]}, {\"name\": \"matthews_correlation\", \"run_id\": \"AutoML_b1870f09-4190-4612-b6ef-ed0770d273ed\", \"categories\": [0], \"series\": [{\"data\": [0.3888480908516447]}]}], \"run_logs\": \"\\nRun is completed.\", \"graph\": {}, \"widget_settings\": {\"childWidgetDisplay\": \"popup\", \"send_telemetry\": false, \"log_level\": \"INFO\", \"sdk_version\": \"1.20.0\"}, \"loading\": false}"
     },
     "metadata": {},
     "output_type": "display_data"
    },
    {
     "data": {
      "application/vnd.jupyter.widget-view+json": {
       "model_id": "2726ab4faf3d4af19965cdb992be1e36",
       "version_major": 2,
       "version_minor": 0
      },
      "text/plain": [
       "_UserRunWidget(widget_settings={'childWidgetDisplay': 'popup', 'send_telemetry': False, 'log_level': 'INFO', '…"
      ]
     },
     "metadata": {},
     "output_type": "display_data"
    },
    {
     "data": {
      "application/aml.mini.widget.v1": "{\"loading\": true}"
     },
     "metadata": {},
     "output_type": "display_data"
    }
   ],
   "source": [
    "RunDetails(remote_run).show()"
   ]
  },
  {
   "cell_type": "markdown",
   "metadata": {},
   "source": [
    "## Best Model\n",
    "\n",
    "The best run from the AutoMl Run was VotingEnsemble with an AUC_weighted of 0.83328615.\n",
    "We are retrieveing the best model from the automl experiments and display the properties of the model."
   ]
  },
  {
   "cell_type": "code",
   "execution_count": 9,
   "metadata": {
    "gather": {
     "logged": 1598431425670
    },
    "jupyter": {
     "outputs_hidden": false,
     "source_hidden": false
    },
    "nteract": {
     "transient": {
      "deleting": false
     }
    }
   },
   "outputs": [
    {
     "name": "stderr",
     "output_type": "stream",
     "text": [
      "WARNING:root:The version of the SDK does not match the version the model was trained on.\n",
      "WARNING:root:The consistency in the result may not be guaranteed.\n",
      "WARNING:root:Package:azureml-automl-core, training version:1.21.0, current version:1.20.0\n",
      "Package:azureml-automl-runtime, training version:1.21.0, current version:1.20.0\n",
      "Package:azureml-core, training version:1.21.0.post1, current version:1.20.0\n",
      "Package:azureml-dataprep, training version:2.8.2, current version:2.7.3\n",
      "Package:azureml-dataprep-native, training version:28.0.0, current version:27.0.0\n",
      "Package:azureml-dataprep-rslex, training version:1.6.0, current version:1.5.0\n",
      "Package:azureml-dataset-runtime, training version:1.21.0, current version:1.20.0\n",
      "Package:azureml-defaults, training version:1.21.0, current version:1.20.0\n",
      "Package:azureml-interpret, training version:1.21.0, current version:1.20.0\n",
      "Package:azureml-pipeline-core, training version:1.21.0, current version:1.20.0\n",
      "Package:azureml-telemetry, training version:1.21.0, current version:1.20.0\n",
      "Package:azureml-train-automl-client, training version:1.21.0, current version:1.20.0\n",
      "Package:azureml-train-automl-runtime, training version:1.21.0, current version:1.20.0\n",
      "WARNING:root:Please ensure the version of your local conda dependencies match the version on which your model was trained in order to properly retrieve your model.\n"
     ]
    },
    {
     "name": "stdout",
     "output_type": "stream",
     "text": [
      "Run(Experiment: capstone-automl,\n",
      "Id: AutoML_b1870f09-4190-4612-b6ef-ed0770d273ed_43,\n",
      "Type: azureml.scriptrun,\n",
      "Status: Completed)\n",
      "Best Run Id:  AutoML_b1870f09-4190-4612-b6ef-ed0770d273ed_43\n"
     ]
    }
   ],
   "source": [
    "best_run, fitted_model = remote_run.get_output()\n",
    "print(best_run)\n",
    "\n",
    "best_run_metrics = best_run.get_metrics()\n",
    "print('Best Run Id: ', best_run.id)"
   ]
  },
  {
   "cell_type": "code",
   "execution_count": 10,
   "metadata": {},
   "outputs": [
    {
     "name": "stdout",
     "output_type": "stream",
     "text": [
      "Pipeline(memory=None,\n",
      "         steps=[('datatransformer',\n",
      "                 DataTransformer(enable_dnn=None, enable_feature_sweeping=None,\n",
      "                                 feature_sweeping_config=None,\n",
      "                                 feature_sweeping_timeout=None,\n",
      "                                 featurization_config=None, force_text_dnn=None,\n",
      "                                 is_cross_validation=None,\n",
      "                                 is_onnx_compatible=None, logger=None,\n",
      "                                 observer=None, task=None, working_dir=None)),\n",
      "                ('prefittedsoftvotingclassifier',...\n",
      "                                                                                                random_state=None,\n",
      "                                                                                                solver='saga',\n",
      "                                                                                                tol=0.0001,\n",
      "                                                                                                verbose=0,\n",
      "                                                                                                warm_start=False))],\n",
      "                                                                     verbose=False))],\n",
      "                                               flatten_transform=None,\n",
      "                                               weights=[0.07692307692307693,\n",
      "                                                        0.07692307692307693,\n",
      "                                                        0.07692307692307693,\n",
      "                                                        0.07692307692307693,\n",
      "                                                        0.07692307692307693,\n",
      "                                                        0.07692307692307693,\n",
      "                                                        0.23076923076923078,\n",
      "                                                        0.07692307692307693,\n",
      "                                                        0.07692307692307693,\n",
      "                                                        0.07692307692307693,\n",
      "                                                        0.07692307692307693]))],\n",
      "         verbose=False)\n",
      "Y_transformer(['LabelEncoder', LabelEncoder()])\n"
     ]
    }
   ],
   "source": [
    "print(fitted_model)"
   ]
  },
  {
   "cell_type": "code",
   "execution_count": 11,
   "metadata": {
    "scrolled": false
   },
   "outputs": [
    {
     "name": "stdout",
     "output_type": "stream",
     "text": [
      "datatransformer\n",
      "{'enable_dnn': None,\n",
      " 'enable_feature_sweeping': None,\n",
      " 'feature_sweeping_config': None,\n",
      " 'feature_sweeping_timeout': None,\n",
      " 'featurization_config': None,\n",
      " 'force_text_dnn': None,\n",
      " 'is_cross_validation': None,\n",
      " 'is_onnx_compatible': None,\n",
      " 'logger': None,\n",
      " 'observer': None,\n",
      " 'task': None,\n",
      " 'working_dir': None}\n",
      "\n",
      "prefittedsoftvotingclassifier\n",
      "{'estimators': ['23',\n",
      "                '34',\n",
      "                '20',\n",
      "                '35',\n",
      "                '33',\n",
      "                '39',\n",
      "                '14',\n",
      "                '31',\n",
      "                '36',\n",
      "                '26',\n",
      "                '29'],\n",
      " 'weights': [0.07692307692307693,\n",
      "             0.07692307692307693,\n",
      "             0.07692307692307693,\n",
      "             0.07692307692307693,\n",
      "             0.07692307692307693,\n",
      "             0.07692307692307693,\n",
      "             0.23076923076923078,\n",
      "             0.07692307692307693,\n",
      "             0.07692307692307693,\n",
      "             0.07692307692307693,\n",
      "             0.07692307692307693]}\n",
      "\n",
      "23 - maxabsscaler\n",
      "{'copy': True}\n",
      "\n",
      "23 - lightgbmclassifier\n",
      "{'boosting_type': 'gbdt',\n",
      " 'class_weight': None,\n",
      " 'colsample_bytree': 0.2977777777777778,\n",
      " 'importance_type': 'split',\n",
      " 'learning_rate': 0.0842121052631579,\n",
      " 'max_bin': 50,\n",
      " 'max_depth': -1,\n",
      " 'min_child_samples': 6,\n",
      " 'min_child_weight': 8,\n",
      " 'min_split_gain': 0.8421052631578947,\n",
      " 'n_estimators': 400,\n",
      " 'n_jobs': 1,\n",
      " 'num_leaves': 65,\n",
      " 'objective': None,\n",
      " 'random_state': None,\n",
      " 'reg_alpha': 0.7894736842105263,\n",
      " 'reg_lambda': 0.7368421052631579,\n",
      " 'silent': True,\n",
      " 'subsample': 0.7426315789473684,\n",
      " 'subsample_for_bin': 200000,\n",
      " 'subsample_freq': 0,\n",
      " 'verbose': -10}\n",
      "\n",
      "34 - sparsenormalizer\n",
      "{'copy': True, 'norm': 'max'}\n",
      "\n",
      "34 - lightgbmclassifier\n",
      "{'boosting_type': 'gbdt',\n",
      " 'class_weight': None,\n",
      " 'colsample_bytree': 0.4955555555555555,\n",
      " 'importance_type': 'split',\n",
      " 'learning_rate': 0.04211105263157895,\n",
      " 'max_bin': 320,\n",
      " 'max_depth': 7,\n",
      " 'min_child_samples': 82,\n",
      " 'min_child_weight': 6,\n",
      " 'min_split_gain': 1,\n",
      " 'n_estimators': 400,\n",
      " 'n_jobs': 1,\n",
      " 'num_leaves': 197,\n",
      " 'objective': None,\n",
      " 'random_state': None,\n",
      " 'reg_alpha': 0.5263157894736842,\n",
      " 'reg_lambda': 0.6842105263157894,\n",
      " 'silent': True,\n",
      " 'subsample': 0.24789473684210528,\n",
      " 'subsample_for_bin': 200000,\n",
      " 'subsample_freq': 0,\n",
      " 'verbose': -10}\n",
      "\n",
      "20 - maxabsscaler\n",
      "{'copy': True}\n",
      "\n",
      "20 - lightgbmclassifier\n",
      "{'boosting_type': 'goss',\n",
      " 'class_weight': None,\n",
      " 'colsample_bytree': 0.1988888888888889,\n",
      " 'importance_type': 'split',\n",
      " 'learning_rate': 0.09473736842105263,\n",
      " 'max_bin': 300,\n",
      " 'max_depth': 3,\n",
      " 'min_child_samples': 26,\n",
      " 'min_child_weight': 8,\n",
      " 'min_split_gain': 0.631578947368421,\n",
      " 'n_estimators': 100,\n",
      " 'n_jobs': 1,\n",
      " 'num_leaves': 11,\n",
      " 'objective': None,\n",
      " 'random_state': None,\n",
      " 'reg_alpha': 0.2631578947368421,\n",
      " 'reg_lambda': 0.15789473684210525,\n",
      " 'silent': True,\n",
      " 'subsample': 1,\n",
      " 'subsample_for_bin': 200000,\n",
      " 'subsample_freq': 0,\n",
      " 'verbose': -10}\n",
      "\n",
      "35 - sparsenormalizer\n",
      "{'copy': True, 'norm': 'max'}\n",
      "\n",
      "35 - lightgbmclassifier\n",
      "{'boosting_type': 'gbdt',\n",
      " 'class_weight': None,\n",
      " 'colsample_bytree': 0.3966666666666666,\n",
      " 'importance_type': 'split',\n",
      " 'learning_rate': 0.07368684210526316,\n",
      " 'max_bin': 10,\n",
      " 'max_depth': 7,\n",
      " 'min_child_samples': 41,\n",
      " 'min_child_weight': 6,\n",
      " 'min_split_gain': 0.7894736842105263,\n",
      " 'n_estimators': 200,\n",
      " 'n_jobs': 1,\n",
      " 'num_leaves': 170,\n",
      " 'objective': None,\n",
      " 'random_state': None,\n",
      " 'reg_alpha': 0.7368421052631579,\n",
      " 'reg_lambda': 0.2631578947368421,\n",
      " 'silent': True,\n",
      " 'subsample': 0.24789473684210528,\n",
      " 'subsample_for_bin': 200000,\n",
      " 'subsample_freq': 0,\n",
      " 'verbose': -10}\n",
      "\n",
      "33 - standardscalerwrapper\n",
      "{'class_name': 'StandardScaler',\n",
      " 'copy': True,\n",
      " 'module_name': 'sklearn.preprocessing._data',\n",
      " 'with_mean': False,\n",
      " 'with_std': True}\n",
      "\n",
      "33 - lightgbmclassifier\n",
      "{'boosting_type': 'gbdt',\n",
      " 'class_weight': None,\n",
      " 'colsample_bytree': 0.5944444444444444,\n",
      " 'importance_type': 'split',\n",
      " 'learning_rate': 0.04737368421052632,\n",
      " 'max_bin': 370,\n",
      " 'max_depth': 9,\n",
      " 'min_child_samples': 66,\n",
      " 'min_child_weight': 9,\n",
      " 'min_split_gain': 0.8421052631578947,\n",
      " 'n_estimators': 100,\n",
      " 'n_jobs': 1,\n",
      " 'num_leaves': 92,\n",
      " 'objective': None,\n",
      " 'random_state': None,\n",
      " 'reg_alpha': 0.631578947368421,\n",
      " 'reg_lambda': 0.9473684210526315,\n",
      " 'silent': True,\n",
      " 'subsample': 0.5942105263157895,\n",
      " 'subsample_for_bin': 200000,\n",
      " 'subsample_freq': 0,\n",
      " 'verbose': -10}\n",
      "\n",
      "39 - standardscalerwrapper\n",
      "{'class_name': 'StandardScaler',\n",
      " 'copy': True,\n",
      " 'module_name': 'sklearn.preprocessing._data',\n",
      " 'with_mean': False,\n",
      " 'with_std': True}\n",
      "\n",
      "39 - lightgbmclassifier\n",
      "{'boosting_type': 'goss',\n",
      " 'class_weight': None,\n",
      " 'colsample_bytree': 0.99,\n",
      " 'importance_type': 'split',\n",
      " 'learning_rate': 0.06842421052631578,\n",
      " 'max_bin': 330,\n",
      " 'max_depth': 9,\n",
      " 'min_child_samples': 61,\n",
      " 'min_child_weight': 5,\n",
      " 'min_split_gain': 0.5263157894736842,\n",
      " 'n_estimators': 800,\n",
      " 'n_jobs': 1,\n",
      " 'num_leaves': 182,\n",
      " 'objective': None,\n",
      " 'random_state': None,\n",
      " 'reg_alpha': 0.7894736842105263,\n",
      " 'reg_lambda': 0.42105263157894735,\n",
      " 'silent': True,\n",
      " 'subsample': 1,\n",
      " 'subsample_for_bin': 200000,\n",
      " 'subsample_freq': 0,\n",
      " 'verbose': -10}\n",
      "\n",
      "14 - maxabsscaler\n",
      "{'copy': True}\n",
      "\n",
      "14 - randomforestclassifier\n",
      "{'bootstrap': True,\n",
      " 'ccp_alpha': 0.0,\n",
      " 'class_weight': None,\n",
      " 'criterion': 'gini',\n",
      " 'max_depth': None,\n",
      " 'max_features': 'log2',\n",
      " 'max_leaf_nodes': None,\n",
      " 'max_samples': None,\n",
      " 'min_impurity_decrease': 0.0,\n",
      " 'min_impurity_split': None,\n",
      " 'min_samples_leaf': 0.01,\n",
      " 'min_samples_split': 0.01,\n",
      " 'min_weight_fraction_leaf': 0.0,\n",
      " 'n_estimators': 10,\n",
      " 'n_jobs': 1,\n",
      " 'oob_score': False,\n",
      " 'random_state': None,\n",
      " 'verbose': 0,\n",
      " 'warm_start': False}\n",
      "\n",
      "31 - truncatedsvdwrapper\n",
      "{'n_components': 0.8510526315789474, 'random_state': None}\n",
      "\n",
      "31 - extratreesclassifier\n",
      "{'bootstrap': True,\n",
      " 'ccp_alpha': 0.0,\n",
      " 'class_weight': 'balanced',\n",
      " 'criterion': 'entropy',\n",
      " 'max_depth': None,\n",
      " 'max_features': 0.6,\n",
      " 'max_leaf_nodes': None,\n",
      " 'max_samples': None,\n",
      " 'min_impurity_decrease': 0.0,\n",
      " 'min_impurity_split': None,\n",
      " 'min_samples_leaf': 0.035789473684210524,\n",
      " 'min_samples_split': 0.056842105263157895,\n",
      " 'min_weight_fraction_leaf': 0.0,\n",
      " 'n_estimators': 400,\n",
      " 'n_jobs': 1,\n",
      " 'oob_score': True,\n",
      " 'random_state': None,\n",
      " 'verbose': 0,\n",
      " 'warm_start': False}\n",
      "\n",
      "36 - standardscalerwrapper\n",
      "{'class_name': 'StandardScaler',\n",
      " 'copy': True,\n",
      " 'module_name': 'sklearn.preprocessing._data',\n",
      " 'with_mean': False,\n",
      " 'with_std': True}\n",
      "\n",
      "36 - logisticregression\n",
      "{'C': 109.85411419875572,\n",
      " 'class_weight': None,\n",
      " 'dual': False,\n",
      " 'fit_intercept': True,\n",
      " 'intercept_scaling': 1,\n",
      " 'l1_ratio': None,\n",
      " 'max_iter': 100,\n",
      " 'multi_class': 'ovr',\n",
      " 'n_jobs': 1,\n",
      " 'penalty': 'l2',\n",
      " 'random_state': None,\n",
      " 'solver': 'saga',\n",
      " 'tol': 0.0001,\n",
      " 'verbose': 0,\n",
      " 'warm_start': False}\n",
      "\n",
      "26 - standardscalerwrapper\n",
      "{'class_name': 'StandardScaler',\n",
      " 'copy': True,\n",
      " 'module_name': 'sklearn.preprocessing._data',\n",
      " 'with_mean': False,\n",
      " 'with_std': True}\n",
      "\n",
      "26 - lightgbmclassifier\n",
      "{'boosting_type': 'goss',\n",
      " 'class_weight': None,\n",
      " 'colsample_bytree': 0.1,\n",
      " 'importance_type': 'split',\n",
      " 'learning_rate': 0.07894947368421053,\n",
      " 'max_bin': 160,\n",
      " 'max_depth': 6,\n",
      " 'min_child_samples': 137,\n",
      " 'min_child_weight': 0,\n",
      " 'min_split_gain': 1,\n",
      " 'n_estimators': 600,\n",
      " 'n_jobs': 1,\n",
      " 'num_leaves': 254,\n",
      " 'objective': None,\n",
      " 'random_state': None,\n",
      " 'reg_alpha': 0.8421052631578947,\n",
      " 'reg_lambda': 0.15789473684210525,\n",
      " 'silent': True,\n",
      " 'subsample': 1,\n",
      " 'subsample_for_bin': 200000,\n",
      " 'subsample_freq': 0,\n",
      " 'verbose': -10}\n",
      "\n",
      "29 - maxabsscaler\n",
      "{'copy': True}\n",
      "\n",
      "29 - logisticregression\n",
      "{'C': 6866.488450042998,\n",
      " 'class_weight': 'balanced',\n",
      " 'dual': False,\n",
      " 'fit_intercept': True,\n",
      " 'intercept_scaling': 1,\n",
      " 'l1_ratio': None,\n",
      " 'max_iter': 100,\n",
      " 'multi_class': 'ovr',\n",
      " 'n_jobs': 1,\n",
      " 'penalty': 'l2',\n",
      " 'random_state': None,\n",
      " 'solver': 'saga',\n",
      " 'tol': 0.0001,\n",
      " 'verbose': 0,\n",
      " 'warm_start': False}\n",
      "\n"
     ]
    }
   ],
   "source": [
    "def print_model(fitted_model, prefix=\"\"):\n",
    "    for step in fitted_model.steps:\n",
    "        print(prefix + step[0])\n",
    "        if hasattr(step[1], 'estimators') and hasattr(step[1], 'weights'):\n",
    "            pprint({'estimators': list(\n",
    "                e[0] for e in step[1].estimators), 'weights': step[1].weights})\n",
    "            print()\n",
    "            for estimator in step[1].estimators:\n",
    "                print_model(estimator[1], estimator[0] + ' - ')\n",
    "        else:\n",
    "            pprint(step[1].get_params())\n",
    "            print()\n",
    "\n",
    "print_model(fitted_model)"
   ]
  },
  {
   "cell_type": "code",
   "execution_count": 12,
   "metadata": {},
   "outputs": [
    {
     "name": "stdout",
     "output_type": "stream",
     "text": [
      "weighted_accuracy - 0.9604529149222975\n",
      "matthews_correlation - 0.3888480908516447\n",
      "recall_score_weighted - 0.8659863945578231\n",
      "AUC_weighted - 0.8332861544179403\n",
      "precision_score_macro - 0.8422248463868334\n",
      "AUC_micro - 0.9306191864500902\n",
      "f1_score_micro - 0.8659863945578231\n",
      "log_loss - 0.3453232756270071\n",
      "f1_score_weighted - 0.832072588447846\n",
      "balanced_accuracy - 0.6117077860299189\n",
      "precision_score_weighted - 0.8581631391955735\n",
      "f1_score_macro - 0.64264656690687\n",
      "accuracy - 0.8659863945578231\n",
      "average_precision_score_micro - 0.9193624589788132\n",
      "recall_score_macro - 0.6117077860299189\n",
      "AUC_macro - 0.8332861544179403\n",
      "average_precision_score_weighted - 0.889197221377286\n",
      "average_precision_score_macro - 0.7745118342826475\n",
      "norm_macro_recall - 0.22341557205983772\n",
      "recall_score_micro - 0.8659863945578231\n",
      "precision_score_micro - 0.8659863945578231\n",
      "confusion_matrix - aml://artifactId/ExperimentRun/dcid.AutoML_b1870f09-4190-4612-b6ef-ed0770d273ed_43/confusion_matrix\n",
      "accuracy_table - aml://artifactId/ExperimentRun/dcid.AutoML_b1870f09-4190-4612-b6ef-ed0770d273ed_43/accuracy_table\n"
     ]
    }
   ],
   "source": [
    "for metric_name in best_run_metrics:\n",
    "    metric = best_run_metrics[metric_name]\n",
    "    print(metric_name,\"-\" , metric)"
   ]
  },
  {
   "cell_type": "code",
   "execution_count": 13,
   "metadata": {
    "gather": {
     "logged": 1598431426111
    },
    "jupyter": {
     "outputs_hidden": false,
     "source_hidden": false
    },
    "nteract": {
     "transient": {
      "deleting": false
     }
    }
   },
   "outputs": [
    {
     "name": "stdout",
     "output_type": "stream",
     "text": [
      "Model(workspace=Workspace.create(name='quick-starts-ws-138608', subscription_id='9a7511b8-150f-4a58-8528-3e7d50216c31', resource_group='aml-quickstarts-138608'), name=automl_model, id=automl_model:1, version=1, tags={'Method': 'AutoML'}, properties={'AUC_weighted': '0.8332861544179403'})\n"
     ]
    }
   ],
   "source": [
    "automodel = best_run.register_model(model_name='automl_model', \n",
    "                                    model_path='outputs/model.pkl',\n",
    "                                    tags={'Method':'AutoML'},\n",
    "                                    properties={'AUC_weighted': best_run_metrics['AUC_weighted']})\n",
    "\n",
    "print(automodel)"
   ]
  },
  {
   "cell_type": "markdown",
   "metadata": {},
   "source": [
    "## Model Deployment\n",
    "\n",
    "Remember you have to deploy only one of the two models you trained. Perform the steps in the rest of this notebook only if you wish to deploy this model.\n",
    "\n",
    "In the cell below, registering the model, creating an inference config and deploying the model as a web service."
   ]
  },
  {
   "cell_type": "code",
   "execution_count": 14,
   "metadata": {
    "gather": {
     "logged": 1598431435189
    },
    "jupyter": {
     "outputs_hidden": false,
     "source_hidden": false
    },
    "nteract": {
     "transient": {
      "deleting": false
     }
    }
   },
   "outputs": [],
   "source": [
    "# Download scoring file \n",
    "best_run.download_file('outputs/scoring_file_v_1_0_0.py', 'score.py')\n",
    "\n",
    "# Download environment file\n",
    "best_run.download_file('outputs/conda_env_v_1_0_0.yml', 'env.yml')"
   ]
  },
  {
   "cell_type": "code",
   "execution_count": 15,
   "metadata": {},
   "outputs": [],
   "source": [
    "aciconfig = AciWebservice.deploy_configuration(cpu_cores=1, \n",
    "                                               memory_gb=1, \n",
    "                                               description='Predict Employee Attrition with AutoML')"
   ]
  },
  {
   "cell_type": "code",
   "execution_count": 16,
   "metadata": {},
   "outputs": [],
   "source": [
    "inference_config = InferenceConfig(entry_script=\"score.py\", environment=best_run.get_environment())\n",
    "\n",
    "service = Model.deploy(workspace=ws, \n",
    "                       name='automl-webservice', \n",
    "                       models=[automodel], \n",
    "                       inference_config=inference_config, \n",
    "                       deployment_config=aciconfig)"
   ]
  },
  {
   "cell_type": "code",
   "execution_count": 17,
   "metadata": {},
   "outputs": [
    {
     "name": "stdout",
     "output_type": "stream",
     "text": [
      "Tips: You can try get_logs(): https://aka.ms/debugimage#dockerlog or local deployment: https://aka.ms/debugimage#debug-locally to debug if deployment takes longer than 10 minutes.\n",
      "Running............\n",
      "Succeeded\n",
      "ACI service creation operation finished, operation \"Succeeded\"\n"
     ]
    }
   ],
   "source": [
    "service.wait_for_deployment(show_output=True)"
   ]
  },
  {
   "cell_type": "code",
   "execution_count": 18,
   "metadata": {
    "gather": {
     "logged": 1598432707604
    },
    "jupyter": {
     "outputs_hidden": false,
     "source_hidden": false
    },
    "nteract": {
     "transient": {
      "deleting": false
     }
    }
   },
   "outputs": [
    {
     "name": "stdout",
     "output_type": "stream",
     "text": [
      "Service State:  Healthy\n",
      "Scoring URI:  http://f3ddd345-4ab2-4ab6-820d-ea12ce8b328c.southcentralus.azurecontainer.io/score\n",
      "Swagger URI:  http://f3ddd345-4ab2-4ab6-820d-ea12ce8b328c.southcentralus.azurecontainer.io/swagger.json\n"
     ]
    }
   ],
   "source": [
    "print(\"Service State: \",service.state)\n",
    "print(\"Scoring URI: \",service.scoring_uri)\n",
    "print(\"Swagger URI: \",service.swagger_uri)"
   ]
  },
  {
   "cell_type": "code",
   "execution_count": 19,
   "metadata": {},
   "outputs": [
    {
     "name": "stdout",
     "output_type": "stream",
     "text": [
      "2021-02-11T19:29:53,340712900+00:00 - gunicorn/run \r\n",
      "2021-02-11T19:29:53,369703800+00:00 - rsyslog/run \r\n",
      "2021-02-11T19:29:53,382010500+00:00 - iot-server/run \r\n",
      "rsyslogd: /azureml-envs/azureml_20a8278aa8b20dd48cc50f56a6d2586c/lib/libuuid.so.1: no version information available (required by rsyslogd)\r\n",
      "2021-02-11T19:29:53,424950600+00:00 - nginx/run \r\n",
      "/usr/sbin/nginx: /azureml-envs/azureml_20a8278aa8b20dd48cc50f56a6d2586c/lib/libcrypto.so.1.0.0: no version information available (required by /usr/sbin/nginx)\r\n",
      "/usr/sbin/nginx: /azureml-envs/azureml_20a8278aa8b20dd48cc50f56a6d2586c/lib/libcrypto.so.1.0.0: no version information available (required by /usr/sbin/nginx)\r\n",
      "/usr/sbin/nginx: /azureml-envs/azureml_20a8278aa8b20dd48cc50f56a6d2586c/lib/libssl.so.1.0.0: no version information available (required by /usr/sbin/nginx)\r\n",
      "/usr/sbin/nginx: /azureml-envs/azureml_20a8278aa8b20dd48cc50f56a6d2586c/lib/libssl.so.1.0.0: no version information available (required by /usr/sbin/nginx)\r\n",
      "/usr/sbin/nginx: /azureml-envs/azureml_20a8278aa8b20dd48cc50f56a6d2586c/lib/libssl.so.1.0.0: no version information available (required by /usr/sbin/nginx)\r\n",
      "EdgeHubConnectionString and IOTEDGE_IOTHUBHOSTNAME are not set. Exiting...\r\n",
      "2021-02-11T19:29:55,250304400+00:00 - iot-server/finish 1 0\r\n",
      "2021-02-11T19:29:55,252253500+00:00 - Exit code 1 is normal. Not restarting iot-server.\r\n",
      "Starting gunicorn 19.9.0\r\n",
      "Listening at: http://127.0.0.1:31311 (65)\r\n",
      "Using worker: sync\r\n",
      "worker timeout is set to 300\r\n",
      "Booting worker with pid: 95\r\n",
      "SPARK_HOME not set. Skipping PySpark Initialization.\r\n",
      "Generating new fontManager, this may take some time...\r\n",
      "Initializing logger\r\n",
      "2021-02-11 19:30:00,962 | root | INFO | Starting up app insights client\r\n",
      "2021-02-11 19:30:00,963 | root | INFO | Starting up request id generator\r\n",
      "2021-02-11 19:30:00,963 | root | INFO | Starting up app insight hooks\r\n",
      "2021-02-11 19:30:00,964 | root | INFO | Invoking user's init function\r\n",
      "2021-02-11 19:30:12,384 | root | INFO | Users's init has completed successfully\r\n",
      "2021-02-11 19:30:12,407 | root | INFO | Skipping middleware: dbg_model_info as it's not enabled.\r\n",
      "2021-02-11 19:30:12,407 | root | INFO | Skipping middleware: dbg_resource_usage as it's not enabled.\r\n",
      "2021-02-11 19:30:12,410 | root | INFO | Scoring timeout is found from os.environ: 60000 ms\r\n",
      "2021-02-11 19:30:15,913 | root | INFO | 200\r\n",
      "127.0.0.1 - - [11/Feb/2021:19:30:15 +0000] \"GET /swagger.json HTTP/1.0\" 200 4580 \"-\" \"Go-http-client/1.1\"\r\n",
      "2021-02-11 19:30:18,565 | root | INFO | 200\r\n",
      "127.0.0.1 - - [11/Feb/2021:19:30:18 +0000] \"GET /swagger.json HTTP/1.0\" 200 4580 \"-\" \"Go-http-client/1.1\"\r\n",
      "2021-02-11 19:31:34,860 | root | INFO | 200\r\n",
      "127.0.0.1 - - [11/Feb/2021:19:31:34 +0000] \"GET /swagger.json HTTP/1.0\" 200 4580 \"-\" \"Go-http-client/1.1\"\r\n",
      "2021-02-11 19:31:36,045 | root | INFO | 200\r\n",
      "127.0.0.1 - - [11/Feb/2021:19:31:36 +0000] \"GET /swagger.json HTTP/1.0\" 200 4580 \"-\" \"Go-http-client/1.1\"\r\n",
      "\r\n"
     ]
    }
   ],
   "source": [
    "!python logs.py"
   ]
  },
  {
   "cell_type": "markdown",
   "metadata": {
    "collapsed": true,
    "gather": {
     "logged": 1598431657736
    },
    "jupyter": {
     "outputs_hidden": false,
     "source_hidden": false
    },
    "nteract": {
     "transient": {
      "deleting": false
     }
    }
   },
   "source": [
    "In the cell below, sending a request to the web service deployed to test it."
   ]
  },
  {
   "cell_type": "code",
   "execution_count": 20,
   "metadata": {},
   "outputs": [
    {
     "name": "stdout",
     "output_type": "stream",
     "text": [
      "{\"data\": [{\"Age\": 43, \"BusinessTravel\": \"Travel_Rarely\", \"DailyRate\": 782, \"Department\": \"Research & Development\", \"DistanceFromHome\": 6, \"Education\": 4, \"EducationField\": \"Other\", \"EmployeeCount\": 1, \"EmployeeNumber\": 661, \"EnvironmentSatisfaction\": 2, \"Gender\": \"Male\", \"HourlyRate\": 50, \"JobInvolvement\": 2, \"JobLevel\": 4, \"JobRole\": \"Research Director\", \"JobSatisfaction\": 4, \"MaritalStatus\": \"Divorced\", \"MonthlyIncome\": 16627, \"MonthlyRate\": 2671, \"NumCompaniesWorked\": 4, \"Over18\": true, \"OverTime\": true, \"PercentSalaryHike\": 14, \"PerformanceRating\": 3, \"RelationshipSatisfaction\": 3, \"StandardHours\": 80, \"StockOptionLevel\": 1, \"TotalWorkingYears\": 21, \"TrainingTimesLastYear\": 3, \"WorkLifeBalance\": 2, \"YearsAtCompany\": 1, \"YearsInCurrentRole\": 0, \"YearsSinceLastPromotion\": 0, \"YearsWithCurrManager\": 0}, {\"Age\": 56, \"BusinessTravel\": \"Travel_Rarely\", \"DailyRate\": 310, \"Department\": \"Research & Development\", \"DistanceFromHome\": 7, \"Education\": 2, \"EducationField\": \"Technical Degree\", \"EmployeeCount\": 1, \"EmployeeNumber\": 2032, \"EnvironmentSatisfaction\": 4, \"Gender\": \"Male\", \"HourlyRate\": 72, \"JobInvolvement\": 3, \"JobLevel\": 1, \"JobRole\": \"Laboratory Technician\", \"JobSatisfaction\": 3, \"MaritalStatus\": \"Married\", \"MonthlyIncome\": 2339, \"MonthlyRate\": 3666, \"NumCompaniesWorked\": 8, \"Over18\": true, \"OverTime\": false, \"PercentSalaryHike\": 11, \"PerformanceRating\": 3, \"RelationshipSatisfaction\": 4, \"StandardHours\": 80, \"StockOptionLevel\": 1, \"TotalWorkingYears\": 14, \"TrainingTimesLastYear\": 4, \"WorkLifeBalance\": 1, \"YearsAtCompany\": 10, \"YearsInCurrentRole\": 9, \"YearsSinceLastPromotion\": 9, \"YearsWithCurrManager\": 8}, {\"Age\": 30, \"BusinessTravel\": \"Travel_Rarely\", \"DailyRate\": 1005, \"Department\": \"Research & Development\", \"DistanceFromHome\": 3, \"Education\": 3, \"EducationField\": \"Technical Degree\", \"EmployeeCount\": 1, \"EmployeeNumber\": 297, \"EnvironmentSatisfaction\": 4, \"Gender\": \"Female\", \"HourlyRate\": 88, \"JobInvolvement\": 3, \"JobLevel\": 1, \"JobRole\": \"Research Scientist\", \"JobSatisfaction\": 1, \"MaritalStatus\": \"Single\", \"MonthlyIncome\": 2657, \"MonthlyRate\": 8556, \"NumCompaniesWorked\": 5, \"Over18\": true, \"OverTime\": true, \"PercentSalaryHike\": 11, \"PerformanceRating\": 3, \"RelationshipSatisfaction\": 3, \"StandardHours\": 80, \"StockOptionLevel\": 0, \"TotalWorkingYears\": 8, \"TrainingTimesLastYear\": 5, \"WorkLifeBalance\": 3, \"YearsAtCompany\": 5, \"YearsInCurrentRole\": 2, \"YearsSinceLastPromotion\": 0, \"YearsWithCurrManager\": 4}, {\"Age\": 51, \"BusinessTravel\": \"Travel_Rarely\", \"DailyRate\": 1169, \"Department\": \"Research & Development\", \"DistanceFromHome\": 7, \"Education\": 4, \"EducationField\": \"Medical\", \"EmployeeCount\": 1, \"EmployeeNumber\": 211, \"EnvironmentSatisfaction\": 2, \"Gender\": \"Male\", \"HourlyRate\": 34, \"JobInvolvement\": 2, \"JobLevel\": 2, \"JobRole\": \"Manufacturing Director\", \"JobSatisfaction\": 3, \"MaritalStatus\": \"Married\", \"MonthlyIncome\": 6132, \"MonthlyRate\": 13983, \"NumCompaniesWorked\": 2, \"Over18\": true, \"OverTime\": false, \"PercentSalaryHike\": 17, \"PerformanceRating\": 3, \"RelationshipSatisfaction\": 3, \"StandardHours\": 80, \"StockOptionLevel\": 0, \"TotalWorkingYears\": 10, \"TrainingTimesLastYear\": 2, \"WorkLifeBalance\": 3, \"YearsAtCompany\": 1, \"YearsInCurrentRole\": 0, \"YearsSinceLastPromotion\": 0, \"YearsWithCurrManager\": 0}]}\n"
     ]
    }
   ],
   "source": [
    "#Import test data\n",
    "test_df = df.sample(4) # sample data from original dataset\n",
    "label_df = test_df.pop('Attrition')\n",
    "\n",
    "test_sample = json.dumps({'data': test_df.to_dict(orient='records')})\n",
    "\n",
    "print(test_sample)"
   ]
  },
  {
   "cell_type": "code",
   "execution_count": 21,
   "metadata": {},
   "outputs": [
    {
     "name": "stdout",
     "output_type": "stream",
     "text": [
      "\"{\\\"result\\\": [false, false, true, false]}\"\n"
     ]
    }
   ],
   "source": [
    "scoring_uri = service.scoring_uri\n",
    "input_data = test_sample\n",
    "\n",
    "# Set the content type\n",
    "headers = {'Content-Type': 'application/json'}\n",
    "\n",
    "# Make the request and display the response\n",
    "resp = requests.post(scoring_uri, input_data, headers=headers)\n",
    "print(resp.text)"
   ]
  },
  {
   "cell_type": "markdown",
   "metadata": {
    "collapsed": true,
    "gather": {
     "logged": 1598432765711
    },
    "jupyter": {
     "outputs_hidden": false,
     "source_hidden": false
    },
    "nteract": {
     "transient": {
      "deleting": false
     }
    }
   },
   "source": [
    "In the cell below, printing the logs of the web service and deleting the service"
   ]
  },
  {
   "cell_type": "code",
   "execution_count": 22,
   "metadata": {},
   "outputs": [
    {
     "name": "stdout",
     "output_type": "stream",
     "text": [
      "2021-02-11T19:29:53,340712900+00:00 - gunicorn/run \n",
      "2021-02-11T19:29:53,369703800+00:00 - rsyslog/run \n",
      "2021-02-11T19:29:53,382010500+00:00 - iot-server/run \n",
      "rsyslogd: /azureml-envs/azureml_20a8278aa8b20dd48cc50f56a6d2586c/lib/libuuid.so.1: no version information available (required by rsyslogd)\n",
      "2021-02-11T19:29:53,424950600+00:00 - nginx/run \n",
      "/usr/sbin/nginx: /azureml-envs/azureml_20a8278aa8b20dd48cc50f56a6d2586c/lib/libcrypto.so.1.0.0: no version information available (required by /usr/sbin/nginx)\n",
      "/usr/sbin/nginx: /azureml-envs/azureml_20a8278aa8b20dd48cc50f56a6d2586c/lib/libcrypto.so.1.0.0: no version information available (required by /usr/sbin/nginx)\n",
      "/usr/sbin/nginx: /azureml-envs/azureml_20a8278aa8b20dd48cc50f56a6d2586c/lib/libssl.so.1.0.0: no version information available (required by /usr/sbin/nginx)\n",
      "/usr/sbin/nginx: /azureml-envs/azureml_20a8278aa8b20dd48cc50f56a6d2586c/lib/libssl.so.1.0.0: no version information available (required by /usr/sbin/nginx)\n",
      "/usr/sbin/nginx: /azureml-envs/azureml_20a8278aa8b20dd48cc50f56a6d2586c/lib/libssl.so.1.0.0: no version information available (required by /usr/sbin/nginx)\n",
      "EdgeHubConnectionString and IOTEDGE_IOTHUBHOSTNAME are not set. Exiting...\n",
      "2021-02-11T19:29:55,250304400+00:00 - iot-server/finish 1 0\n",
      "2021-02-11T19:29:55,252253500+00:00 - Exit code 1 is normal. Not restarting iot-server.\n",
      "Starting gunicorn 19.9.0\n",
      "Listening at: http://127.0.0.1:31311 (65)\n",
      "Using worker: sync\n",
      "worker timeout is set to 300\n",
      "Booting worker with pid: 95\n",
      "SPARK_HOME not set. Skipping PySpark Initialization.\n",
      "Generating new fontManager, this may take some time...\n",
      "Initializing logger\n",
      "2021-02-11 19:30:00,962 | root | INFO | Starting up app insights client\n",
      "2021-02-11 19:30:00,963 | root | INFO | Starting up request id generator\n",
      "2021-02-11 19:30:00,963 | root | INFO | Starting up app insight hooks\n",
      "2021-02-11 19:30:00,964 | root | INFO | Invoking user's init function\n",
      "2021-02-11 19:30:12,384 | root | INFO | Users's init has completed successfully\n",
      "2021-02-11 19:30:12,407 | root | INFO | Skipping middleware: dbg_model_info as it's not enabled.\n",
      "2021-02-11 19:30:12,407 | root | INFO | Skipping middleware: dbg_resource_usage as it's not enabled.\n",
      "2021-02-11 19:30:12,410 | root | INFO | Scoring timeout is found from os.environ: 60000 ms\n",
      "2021-02-11 19:30:15,913 | root | INFO | 200\n",
      "127.0.0.1 - - [11/Feb/2021:19:30:15 +0000] \"GET /swagger.json HTTP/1.0\" 200 4580 \"-\" \"Go-http-client/1.1\"\n",
      "2021-02-11 19:30:18,565 | root | INFO | 200\n",
      "127.0.0.1 - - [11/Feb/2021:19:30:18 +0000] \"GET /swagger.json HTTP/1.0\" 200 4580 \"-\" \"Go-http-client/1.1\"\n",
      "2021-02-11 19:31:34,860 | root | INFO | 200\n",
      "127.0.0.1 - - [11/Feb/2021:19:31:34 +0000] \"GET /swagger.json HTTP/1.0\" 200 4580 \"-\" \"Go-http-client/1.1\"\n",
      "2021-02-11 19:31:36,045 | root | INFO | 200\n",
      "127.0.0.1 - - [11/Feb/2021:19:31:36 +0000] \"GET /swagger.json HTTP/1.0\" 200 4580 \"-\" \"Go-http-client/1.1\"\n",
      "2021-02-11 19:31:57,261 | root | INFO | Validation Request Content-Type\n",
      "2021-02-11 19:31:57,262 | root | INFO | Scoring Timer is set to 60.0 seconds\n",
      "2021-02-11 19:31:57,530 | root | INFO | 200\n",
      "127.0.0.1 - - [11/Feb/2021:19:31:57 +0000] \"POST /score HTTP/1.0\" 200 43 \"-\" \"python-requests/2.25.1\"\n",
      "\n"
     ]
    }
   ],
   "source": [
    "print(service.get_logs())"
   ]
  },
  {
   "cell_type": "code",
   "execution_count": null,
   "metadata": {
    "jupyter": {
     "outputs_hidden": false,
     "source_hidden": false
    },
    "nteract": {
     "transient": {
      "deleting": false
     }
    }
   },
   "outputs": [],
   "source": [
    "service.detete()"
   ]
  }
 ],
 "metadata": {
  "kernel_info": {
   "name": "python3-azureml"
  },
  "kernelspec": {
   "display_name": "Python 3",
   "language": "python",
   "name": "python3"
  },
  "language_info": {
   "codemirror_mode": {
    "name": "ipython",
    "version": 3
   },
   "file_extension": ".py",
   "mimetype": "text/x-python",
   "name": "python",
   "nbconvert_exporter": "python",
   "pygments_lexer": "ipython3",
   "version": "3.6.9"
  },
  "nteract": {
   "version": "nteract-front-end@1.0.0"
  }
 },
 "nbformat": 4,
 "nbformat_minor": 2
}
